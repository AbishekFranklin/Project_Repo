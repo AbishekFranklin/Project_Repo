{
 "cells": [
  {
   "cell_type": "markdown",
   "id": "c5c7f6af",
   "metadata": {},
   "source": [
    "1. List down all possible dimensionality reduction techniques that can be implemented using python."
   ]
  },
  {
   "cell_type": "markdown",
   "id": "a0ca2ae0",
   "metadata": {},
   "source": [
    "<font color='blue'>\n",
    "    \n",
    "Missing Value Ratio\n",
    "\n",
    "Low Variance Filter\n",
    "\n",
    "High Correlation Filter\n",
    "\n",
    "Random Forest\n",
    "\n",
    "Backward Feature Elimination\n",
    "\n",
    "Forward Feature Selection\n",
    "\n",
    "Factor Analysis\n",
    "\n",
    "Principal Component Analysis\n",
    "\n",
    "Independent Component Analysis\n",
    "\n",
    "Methods Based on Projections\n",
    "\n",
    "t-Distributed Stochastic Neighbor Embedding (t-SNE)\n",
    "\n",
    "UMAP\n",
    "</font>"
   ]
  },
  {
   "cell_type": "markdown",
   "id": "8e88ca37",
   "metadata": {},
   "source": [
    "2. So far you have used dimensional reduction on numeric data. Is it possible to do the same on a multimedia data [images and video] and text data ? Please illustrate your findings using a simple implementation on python."
   ]
  },
  {
   "cell_type": "markdown",
   "id": "d39dec46",
   "metadata": {},
   "source": [
    "<font color='blue'>\n",
    "The image is a combination of pixels in rows placed one after another to form one single image each pixel value represents the intensity value of the image, so if you have multiple images we can form a matrix considering a row of pixels as a vector. It requires huge amounts of storage while working with many images where we are using PCA is used to compress it and preserve the data as much as possible. </font>"
   ]
  },
  {
   "cell_type": "markdown",
   "id": "d3f63e52",
   "metadata": {},
   "source": [
    "End"
   ]
  }
 ],
 "metadata": {
  "kernelspec": {
   "display_name": "Python 3 (ipykernel)",
   "language": "python",
   "name": "python3"
  },
  "language_info": {
   "codemirror_mode": {
    "name": "ipython",
    "version": 3
   },
   "file_extension": ".py",
   "mimetype": "text/x-python",
   "name": "python",
   "nbconvert_exporter": "python",
   "pygments_lexer": "ipython3",
   "version": "3.8.8"
  }
 },
 "nbformat": 4,
 "nbformat_minor": 5
}
