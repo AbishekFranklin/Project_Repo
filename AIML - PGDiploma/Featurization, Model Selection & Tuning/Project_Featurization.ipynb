{
 "cells": [
  {
   "cell_type": "markdown",
   "id": "78d3902f",
   "metadata": {},
   "source": [
    "#### Importing Packages "
   ]
  },
  {
   "cell_type": "code",
   "execution_count": 103,
   "id": "645f0878",
   "metadata": {},
   "outputs": [],
   "source": [
    "import pandas as pd\n",
    "import numpy as np\n",
    "\n",
    "import matplotlib.pylab as plt\n",
    "%matplotlib inline\n",
    "\n",
    "import seaborn as sns\n",
    "from sklearn.model_selection  import train_test_split\n",
    "from sklearn.cluster import KMeans\n",
    "\n",
    "from scipy.stats import zscore"
   ]
  },
  {
   "cell_type": "markdown",
   "id": "4f958f4f",
   "metadata": {},
   "source": [
    "#### Import and explore the data"
   ]
  },
  {
   "cell_type": "code",
   "execution_count": 2,
   "id": "26ffe532",
   "metadata": {},
   "outputs": [
    {
     "data": {
      "text/html": [
       "<div>\n",
       "<style scoped>\n",
       "    .dataframe tbody tr th:only-of-type {\n",
       "        vertical-align: middle;\n",
       "    }\n",
       "\n",
       "    .dataframe tbody tr th {\n",
       "        vertical-align: top;\n",
       "    }\n",
       "\n",
       "    .dataframe thead th {\n",
       "        text-align: right;\n",
       "    }\n",
       "</style>\n",
       "<table border=\"1\" class=\"dataframe\">\n",
       "  <thead>\n",
       "    <tr style=\"text-align: right;\">\n",
       "      <th></th>\n",
       "      <th>Time</th>\n",
       "      <th>0</th>\n",
       "      <th>1</th>\n",
       "      <th>2</th>\n",
       "      <th>3</th>\n",
       "      <th>4</th>\n",
       "      <th>5</th>\n",
       "      <th>6</th>\n",
       "      <th>7</th>\n",
       "      <th>8</th>\n",
       "      <th>...</th>\n",
       "      <th>581</th>\n",
       "      <th>582</th>\n",
       "      <th>583</th>\n",
       "      <th>584</th>\n",
       "      <th>585</th>\n",
       "      <th>586</th>\n",
       "      <th>587</th>\n",
       "      <th>588</th>\n",
       "      <th>589</th>\n",
       "      <th>Pass/Fail</th>\n",
       "    </tr>\n",
       "  </thead>\n",
       "  <tbody>\n",
       "    <tr>\n",
       "      <th>0</th>\n",
       "      <td>2008-07-19 11:55:00</td>\n",
       "      <td>3030.93</td>\n",
       "      <td>2564.00</td>\n",
       "      <td>2187.7333</td>\n",
       "      <td>1411.1265</td>\n",
       "      <td>1.3602</td>\n",
       "      <td>100.0</td>\n",
       "      <td>97.6133</td>\n",
       "      <td>0.1242</td>\n",
       "      <td>1.5005</td>\n",
       "      <td>...</td>\n",
       "      <td>NaN</td>\n",
       "      <td>0.5005</td>\n",
       "      <td>0.0118</td>\n",
       "      <td>0.0035</td>\n",
       "      <td>2.3630</td>\n",
       "      <td>NaN</td>\n",
       "      <td>NaN</td>\n",
       "      <td>NaN</td>\n",
       "      <td>NaN</td>\n",
       "      <td>-1</td>\n",
       "    </tr>\n",
       "    <tr>\n",
       "      <th>1</th>\n",
       "      <td>2008-07-19 12:32:00</td>\n",
       "      <td>3095.78</td>\n",
       "      <td>2465.14</td>\n",
       "      <td>2230.4222</td>\n",
       "      <td>1463.6606</td>\n",
       "      <td>0.8294</td>\n",
       "      <td>100.0</td>\n",
       "      <td>102.3433</td>\n",
       "      <td>0.1247</td>\n",
       "      <td>1.4966</td>\n",
       "      <td>...</td>\n",
       "      <td>208.2045</td>\n",
       "      <td>0.5019</td>\n",
       "      <td>0.0223</td>\n",
       "      <td>0.0055</td>\n",
       "      <td>4.4447</td>\n",
       "      <td>0.0096</td>\n",
       "      <td>0.0201</td>\n",
       "      <td>0.0060</td>\n",
       "      <td>208.2045</td>\n",
       "      <td>-1</td>\n",
       "    </tr>\n",
       "    <tr>\n",
       "      <th>2</th>\n",
       "      <td>2008-07-19 13:17:00</td>\n",
       "      <td>2932.61</td>\n",
       "      <td>2559.94</td>\n",
       "      <td>2186.4111</td>\n",
       "      <td>1698.0172</td>\n",
       "      <td>1.5102</td>\n",
       "      <td>100.0</td>\n",
       "      <td>95.4878</td>\n",
       "      <td>0.1241</td>\n",
       "      <td>1.4436</td>\n",
       "      <td>...</td>\n",
       "      <td>82.8602</td>\n",
       "      <td>0.4958</td>\n",
       "      <td>0.0157</td>\n",
       "      <td>0.0039</td>\n",
       "      <td>3.1745</td>\n",
       "      <td>0.0584</td>\n",
       "      <td>0.0484</td>\n",
       "      <td>0.0148</td>\n",
       "      <td>82.8602</td>\n",
       "      <td>1</td>\n",
       "    </tr>\n",
       "    <tr>\n",
       "      <th>3</th>\n",
       "      <td>2008-07-19 14:43:00</td>\n",
       "      <td>2988.72</td>\n",
       "      <td>2479.90</td>\n",
       "      <td>2199.0333</td>\n",
       "      <td>909.7926</td>\n",
       "      <td>1.3204</td>\n",
       "      <td>100.0</td>\n",
       "      <td>104.2367</td>\n",
       "      <td>0.1217</td>\n",
       "      <td>1.4882</td>\n",
       "      <td>...</td>\n",
       "      <td>73.8432</td>\n",
       "      <td>0.4990</td>\n",
       "      <td>0.0103</td>\n",
       "      <td>0.0025</td>\n",
       "      <td>2.0544</td>\n",
       "      <td>0.0202</td>\n",
       "      <td>0.0149</td>\n",
       "      <td>0.0044</td>\n",
       "      <td>73.8432</td>\n",
       "      <td>-1</td>\n",
       "    </tr>\n",
       "    <tr>\n",
       "      <th>4</th>\n",
       "      <td>2008-07-19 15:22:00</td>\n",
       "      <td>3032.24</td>\n",
       "      <td>2502.87</td>\n",
       "      <td>2233.3667</td>\n",
       "      <td>1326.5200</td>\n",
       "      <td>1.5334</td>\n",
       "      <td>100.0</td>\n",
       "      <td>100.3967</td>\n",
       "      <td>0.1235</td>\n",
       "      <td>1.5031</td>\n",
       "      <td>...</td>\n",
       "      <td>NaN</td>\n",
       "      <td>0.4800</td>\n",
       "      <td>0.4766</td>\n",
       "      <td>0.1045</td>\n",
       "      <td>99.3032</td>\n",
       "      <td>0.0202</td>\n",
       "      <td>0.0149</td>\n",
       "      <td>0.0044</td>\n",
       "      <td>73.8432</td>\n",
       "      <td>-1</td>\n",
       "    </tr>\n",
       "  </tbody>\n",
       "</table>\n",
       "<p>5 rows × 592 columns</p>\n",
       "</div>"
      ],
      "text/plain": [
       "                  Time        0        1          2          3       4      5  \\\n",
       "0  2008-07-19 11:55:00  3030.93  2564.00  2187.7333  1411.1265  1.3602  100.0   \n",
       "1  2008-07-19 12:32:00  3095.78  2465.14  2230.4222  1463.6606  0.8294  100.0   \n",
       "2  2008-07-19 13:17:00  2932.61  2559.94  2186.4111  1698.0172  1.5102  100.0   \n",
       "3  2008-07-19 14:43:00  2988.72  2479.90  2199.0333   909.7926  1.3204  100.0   \n",
       "4  2008-07-19 15:22:00  3032.24  2502.87  2233.3667  1326.5200  1.5334  100.0   \n",
       "\n",
       "          6       7       8  ...       581     582     583     584      585  \\\n",
       "0   97.6133  0.1242  1.5005  ...       NaN  0.5005  0.0118  0.0035   2.3630   \n",
       "1  102.3433  0.1247  1.4966  ...  208.2045  0.5019  0.0223  0.0055   4.4447   \n",
       "2   95.4878  0.1241  1.4436  ...   82.8602  0.4958  0.0157  0.0039   3.1745   \n",
       "3  104.2367  0.1217  1.4882  ...   73.8432  0.4990  0.0103  0.0025   2.0544   \n",
       "4  100.3967  0.1235  1.5031  ...       NaN  0.4800  0.4766  0.1045  99.3032   \n",
       "\n",
       "      586     587     588       589  Pass/Fail  \n",
       "0     NaN     NaN     NaN       NaN         -1  \n",
       "1  0.0096  0.0201  0.0060  208.2045         -1  \n",
       "2  0.0584  0.0484  0.0148   82.8602          1  \n",
       "3  0.0202  0.0149  0.0044   73.8432         -1  \n",
       "4  0.0202  0.0149  0.0044   73.8432         -1  \n",
       "\n",
       "[5 rows x 592 columns]"
      ]
     },
     "execution_count": 2,
     "metadata": {},
     "output_type": "execute_result"
    }
   ],
   "source": [
    "df1 = pd.read_csv('signal-data.csv')\n",
    "df1.head()"
   ]
  },
  {
   "cell_type": "code",
   "execution_count": 3,
   "id": "a9ff3c1f",
   "metadata": {},
   "outputs": [
    {
     "data": {
      "text/plain": [
       "(1567, 592)"
      ]
     },
     "execution_count": 3,
     "metadata": {},
     "output_type": "execute_result"
    }
   ],
   "source": [
    "df1.shape"
   ]
  },
  {
   "cell_type": "markdown",
   "id": "65660d4d",
   "metadata": {},
   "source": [
    "#### Data cleansing "
   ]
  },
  {
   "cell_type": "code",
   "execution_count": 4,
   "id": "3b5a6af0",
   "metadata": {},
   "outputs": [
    {
     "data": {
      "text/plain": [
       "Time          0\n",
       "0             6\n",
       "1             7\n",
       "2            14\n",
       "3            14\n",
       "             ..\n",
       "586           1\n",
       "587           1\n",
       "588           1\n",
       "589           1\n",
       "Pass/Fail     0\n",
       "Length: 592, dtype: int64"
      ]
     },
     "execution_count": 4,
     "metadata": {},
     "output_type": "execute_result"
    }
   ],
   "source": [
    "df1.isna().sum()"
   ]
  },
  {
   "cell_type": "code",
   "execution_count": 5,
   "id": "e91cbf27",
   "metadata": {},
   "outputs": [
    {
     "name": "stdout",
     "output_type": "stream",
     "text": [
      "0  -  True\n",
      "1  -  True\n",
      "2  -  True\n",
      "3  -  True\n",
      "4  -  True\n",
      "5  -  True\n",
      "6  -  True\n",
      "7  -  True\n",
      "8  -  True\n",
      "9  -  True\n",
      "10  -  True\n",
      "11  -  True\n",
      "12  -  True\n",
      "13  -  True\n",
      "14  -  True\n",
      "15  -  True\n",
      "16  -  True\n",
      "17  -  True\n",
      "18  -  True\n",
      "19  -  True\n",
      "21  -  True\n",
      "22  -  True\n",
      "23  -  True\n",
      "24  -  True\n",
      "25  -  True\n",
      "26  -  True\n",
      "27  -  True\n",
      "28  -  True\n",
      "29  -  True\n",
      "30  -  True\n",
      "31  -  True\n",
      "32  -  True\n",
      "33  -  True\n",
      "34  -  True\n",
      "35  -  True\n",
      "36  -  True\n",
      "37  -  True\n",
      "38  -  True\n",
      "39  -  True\n",
      "40  -  True\n",
      "41  -  True\n",
      "42  -  True\n",
      "43  -  True\n",
      "44  -  True\n",
      "45  -  True\n",
      "46  -  True\n",
      "47  -  True\n",
      "48  -  True\n",
      "49  -  True\n",
      "50  -  True\n",
      "51  -  True\n",
      "52  -  True\n",
      "53  -  True\n",
      "54  -  True\n",
      "55  -  True\n",
      "56  -  True\n",
      "57  -  True\n",
      "58  -  True\n",
      "59  -  True\n",
      "60  -  True\n",
      "61  -  True\n",
      "62  -  True\n",
      "63  -  True\n",
      "64  -  True\n",
      "65  -  True\n",
      "66  -  True\n",
      "67  -  True\n",
      "68  -  True\n",
      "69  -  True\n",
      "70  -  True\n",
      "71  -  True\n",
      "72  -  True\n",
      "73  -  True\n",
      "74  -  True\n",
      "75  -  True\n",
      "76  -  True\n",
      "77  -  True\n",
      "78  -  True\n",
      "79  -  True\n",
      "80  -  True\n",
      "81  -  True\n",
      "82  -  True\n",
      "83  -  True\n",
      "84  -  True\n",
      "85  -  True\n",
      "89  -  True\n",
      "90  -  True\n",
      "91  -  True\n",
      "92  -  True\n",
      "93  -  True\n",
      "94  -  True\n",
      "95  -  True\n",
      "96  -  True\n",
      "97  -  True\n",
      "98  -  True\n",
      "99  -  True\n",
      "100  -  True\n",
      "101  -  True\n",
      "102  -  True\n",
      "103  -  True\n",
      "104  -  True\n",
      "105  -  True\n",
      "106  -  True\n",
      "107  -  True\n",
      "108  -  True\n",
      "109  -  True\n",
      "110  -  True\n",
      "111  -  True\n",
      "112  -  True\n",
      "118  -  True\n",
      "121  -  True\n",
      "122  -  True\n",
      "123  -  True\n",
      "124  -  True\n",
      "125  -  True\n",
      "126  -  True\n",
      "127  -  True\n",
      "128  -  True\n",
      "129  -  True\n",
      "130  -  True\n",
      "131  -  True\n",
      "132  -  True\n",
      "133  -  True\n",
      "134  -  True\n",
      "135  -  True\n",
      "136  -  True\n",
      "137  -  True\n",
      "138  -  True\n",
      "139  -  True\n",
      "140  -  True\n",
      "141  -  True\n",
      "142  -  True\n",
      "143  -  True\n",
      "144  -  True\n",
      "145  -  True\n",
      "146  -  True\n",
      "147  -  True\n",
      "148  -  True\n",
      "149  -  True\n",
      "150  -  True\n",
      "151  -  True\n",
      "152  -  True\n",
      "153  -  True\n",
      "154  -  True\n",
      "155  -  True\n",
      "157  -  True\n",
      "158  -  True\n",
      "159  -  True\n",
      "160  -  True\n",
      "161  -  True\n",
      "162  -  True\n",
      "163  -  True\n",
      "164  -  True\n",
      "165  -  True\n",
      "166  -  True\n",
      "167  -  True\n",
      "168  -  True\n",
      "169  -  True\n",
      "170  -  True\n",
      "171  -  True\n",
      "172  -  True\n",
      "173  -  True\n",
      "174  -  True\n",
      "175  -  True\n",
      "176  -  True\n",
      "177  -  True\n",
      "178  -  True\n",
      "179  -  True\n",
      "180  -  True\n",
      "181  -  True\n",
      "182  -  True\n",
      "183  -  True\n",
      "184  -  True\n",
      "185  -  True\n",
      "186  -  True\n",
      "187  -  True\n",
      "188  -  True\n",
      "189  -  True\n",
      "190  -  True\n",
      "191  -  True\n",
      "192  -  True\n",
      "193  -  True\n",
      "194  -  True\n",
      "195  -  True\n",
      "196  -  True\n",
      "197  -  True\n",
      "198  -  True\n",
      "199  -  True\n",
      "200  -  True\n",
      "201  -  True\n",
      "202  -  True\n",
      "203  -  True\n",
      "204  -  True\n",
      "205  -  True\n",
      "206  -  True\n",
      "207  -  True\n",
      "208  -  True\n",
      "209  -  True\n",
      "210  -  True\n",
      "211  -  True\n",
      "212  -  True\n",
      "213  -  True\n",
      "214  -  True\n",
      "215  -  True\n",
      "216  -  True\n",
      "217  -  True\n",
      "218  -  True\n",
      "219  -  True\n",
      "220  -  True\n",
      "224  -  True\n",
      "225  -  True\n",
      "226  -  True\n",
      "227  -  True\n",
      "228  -  True\n",
      "229  -  True\n",
      "230  -  True\n",
      "231  -  True\n",
      "232  -  True\n",
      "233  -  True\n",
      "234  -  True\n",
      "235  -  True\n",
      "236  -  True\n",
      "237  -  True\n",
      "238  -  True\n",
      "239  -  True\n",
      "240  -  True\n",
      "241  -  True\n",
      "242  -  True\n",
      "243  -  True\n",
      "244  -  True\n",
      "245  -  True\n",
      "246  -  True\n",
      "247  -  True\n",
      "253  -  True\n",
      "256  -  True\n",
      "257  -  True\n",
      "258  -  True\n",
      "259  -  True\n",
      "260  -  True\n",
      "261  -  True\n",
      "262  -  True\n",
      "263  -  True\n",
      "264  -  True\n",
      "265  -  True\n",
      "266  -  True\n",
      "267  -  True\n",
      "268  -  True\n",
      "269  -  True\n",
      "270  -  True\n",
      "271  -  True\n",
      "272  -  True\n",
      "273  -  True\n",
      "274  -  True\n",
      "275  -  True\n",
      "276  -  True\n",
      "277  -  True\n",
      "278  -  True\n",
      "279  -  True\n",
      "280  -  True\n",
      "281  -  True\n",
      "282  -  True\n",
      "283  -  True\n",
      "284  -  True\n",
      "285  -  True\n",
      "286  -  True\n",
      "287  -  True\n",
      "288  -  True\n",
      "289  -  True\n",
      "290  -  True\n",
      "292  -  True\n",
      "293  -  True\n",
      "294  -  True\n",
      "295  -  True\n",
      "296  -  True\n",
      "297  -  True\n",
      "298  -  True\n",
      "299  -  True\n",
      "300  -  True\n",
      "301  -  True\n",
      "302  -  True\n",
      "303  -  True\n",
      "304  -  True\n",
      "305  -  True\n",
      "306  -  True\n",
      "307  -  True\n",
      "308  -  True\n",
      "309  -  True\n",
      "310  -  True\n",
      "311  -  True\n",
      "312  -  True\n",
      "313  -  True\n",
      "314  -  True\n",
      "315  -  True\n",
      "316  -  True\n",
      "317  -  True\n",
      "318  -  True\n",
      "319  -  True\n",
      "320  -  True\n",
      "321  -  True\n",
      "322  -  True\n",
      "323  -  True\n",
      "324  -  True\n",
      "325  -  True\n",
      "326  -  True\n",
      "327  -  True\n",
      "328  -  True\n",
      "329  -  True\n",
      "330  -  True\n",
      "331  -  True\n",
      "332  -  True\n",
      "333  -  True\n",
      "334  -  True\n",
      "335  -  True\n",
      "336  -  True\n",
      "337  -  True\n",
      "338  -  True\n",
      "339  -  True\n",
      "340  -  True\n",
      "341  -  True\n",
      "342  -  True\n",
      "343  -  True\n",
      "344  -  True\n",
      "345  -  True\n",
      "346  -  True\n",
      "347  -  True\n",
      "348  -  True\n",
      "349  -  True\n",
      "350  -  True\n",
      "351  -  True\n",
      "352  -  True\n",
      "353  -  True\n",
      "354  -  True\n",
      "355  -  True\n",
      "356  -  True\n",
      "357  -  True\n",
      "358  -  True\n",
      "362  -  True\n",
      "363  -  True\n",
      "364  -  True\n",
      "365  -  True\n",
      "366  -  True\n",
      "367  -  True\n",
      "368  -  True\n",
      "369  -  True\n",
      "370  -  True\n",
      "371  -  True\n",
      "372  -  True\n",
      "373  -  True\n",
      "374  -  True\n",
      "375  -  True\n",
      "376  -  True\n",
      "377  -  True\n",
      "378  -  True\n",
      "379  -  True\n",
      "380  -  True\n",
      "381  -  True\n",
      "382  -  True\n",
      "383  -  True\n",
      "384  -  True\n",
      "385  -  True\n",
      "391  -  True\n",
      "394  -  True\n",
      "395  -  True\n",
      "396  -  True\n",
      "397  -  True\n",
      "398  -  True\n",
      "399  -  True\n",
      "400  -  True\n",
      "401  -  True\n",
      "402  -  True\n",
      "403  -  True\n",
      "404  -  True\n",
      "405  -  True\n",
      "406  -  True\n",
      "407  -  True\n",
      "408  -  True\n",
      "409  -  True\n",
      "410  -  True\n",
      "411  -  True\n",
      "412  -  True\n",
      "413  -  True\n",
      "414  -  True\n",
      "415  -  True\n",
      "416  -  True\n",
      "417  -  True\n",
      "418  -  True\n",
      "419  -  True\n",
      "420  -  True\n",
      "421  -  True\n",
      "422  -  True\n",
      "423  -  True\n",
      "424  -  True\n",
      "425  -  True\n",
      "426  -  True\n",
      "427  -  True\n",
      "428  -  True\n",
      "430  -  True\n",
      "431  -  True\n",
      "432  -  True\n",
      "433  -  True\n",
      "434  -  True\n",
      "435  -  True\n",
      "436  -  True\n",
      "437  -  True\n",
      "438  -  True\n",
      "439  -  True\n",
      "440  -  True\n",
      "441  -  True\n",
      "442  -  True\n",
      "443  -  True\n",
      "444  -  True\n",
      "445  -  True\n",
      "446  -  True\n",
      "447  -  True\n",
      "448  -  True\n",
      "449  -  True\n",
      "450  -  True\n",
      "451  -  True\n",
      "452  -  True\n",
      "453  -  True\n",
      "454  -  True\n",
      "455  -  True\n",
      "456  -  True\n",
      "457  -  True\n",
      "458  -  True\n",
      "459  -  True\n",
      "460  -  True\n",
      "461  -  True\n",
      "462  -  True\n",
      "463  -  True\n",
      "464  -  True\n",
      "465  -  True\n",
      "466  -  True\n",
      "467  -  True\n",
      "468  -  True\n",
      "469  -  True\n",
      "470  -  True\n",
      "471  -  True\n",
      "472  -  True\n",
      "473  -  True\n",
      "474  -  True\n",
      "475  -  True\n",
      "476  -  True\n",
      "477  -  True\n",
      "478  -  True\n",
      "479  -  True\n",
      "480  -  True\n",
      "481  -  True\n",
      "482  -  True\n",
      "483  -  True\n",
      "484  -  True\n",
      "485  -  True\n",
      "486  -  True\n",
      "487  -  True\n",
      "488  -  True\n",
      "489  -  True\n",
      "490  -  True\n",
      "491  -  True\n",
      "492  -  True\n",
      "496  -  True\n",
      "497  -  True\n",
      "498  -  True\n",
      "499  -  True\n",
      "500  -  True\n",
      "501  -  True\n",
      "502  -  True\n",
      "503  -  True\n",
      "504  -  True\n",
      "505  -  True\n",
      "506  -  True\n",
      "507  -  True\n",
      "508  -  True\n",
      "509  -  True\n",
      "510  -  True\n",
      "511  -  True\n",
      "512  -  True\n",
      "513  -  True\n",
      "514  -  True\n",
      "515  -  True\n",
      "516  -  True\n",
      "517  -  True\n",
      "518  -  True\n",
      "519  -  True\n",
      "525  -  True\n",
      "528  -  True\n",
      "529  -  True\n",
      "530  -  True\n",
      "531  -  True\n",
      "532  -  True\n",
      "533  -  True\n",
      "534  -  True\n",
      "535  -  True\n",
      "536  -  True\n",
      "537  -  True\n",
      "538  -  True\n",
      "539  -  True\n",
      "540  -  True\n",
      "541  -  True\n",
      "542  -  True\n",
      "543  -  True\n",
      "544  -  True\n",
      "545  -  True\n",
      "546  -  True\n",
      "547  -  True\n",
      "548  -  True\n",
      "549  -  True\n",
      "550  -  True\n",
      "551  -  True\n",
      "552  -  True\n",
      "553  -  True\n",
      "554  -  True\n",
      "555  -  True\n",
      "556  -  True\n",
      "557  -  True\n",
      "558  -  True\n",
      "559  -  True\n",
      "560  -  True\n",
      "561  -  True\n",
      "562  -  True\n",
      "563  -  True\n",
      "564  -  True\n",
      "565  -  True\n",
      "566  -  True\n",
      "567  -  True\n",
      "568  -  True\n",
      "569  -  True\n",
      "578  -  True\n",
      "579  -  True\n",
      "580  -  True\n",
      "581  -  True\n",
      "582  -  True\n",
      "583  -  True\n",
      "584  -  True\n",
      "585  -  True\n",
      "586  -  True\n",
      "587  -  True\n",
      "588  -  True\n",
      "589  -  True\n"
     ]
    }
   ],
   "source": [
    "for col in df1.columns:\n",
    "    check = df1[col].isnull().values.any()\n",
    "    if (check == True):\n",
    "        print(col,' - ', check)"
   ]
  },
  {
   "cell_type": "code",
   "execution_count": 6,
   "id": "d3cdc57d",
   "metadata": {},
   "outputs": [
    {
     "name": "stdout",
     "output_type": "stream",
     "text": [
      "<class 'pandas.core.frame.DataFrame'>\n",
      "RangeIndex: 1567 entries, 0 to 1566\n",
      "Columns: 592 entries, Time to Pass/Fail\n",
      "dtypes: float64(590), int64(1), object(1)\n",
      "memory usage: 7.1+ MB\n"
     ]
    }
   ],
   "source": [
    "df1.info()"
   ]
  },
  {
   "cell_type": "code",
   "execution_count": 7,
   "id": "044b079b",
   "metadata": {},
   "outputs": [
    {
     "data": {
      "text/plain": [
       "-1    1463\n",
       " 1     104\n",
       "Name: Pass/Fail, dtype: int64"
      ]
     },
     "execution_count": 7,
     "metadata": {},
     "output_type": "execute_result"
    }
   ],
   "source": [
    "df1['Pass/Fail'].value_counts()"
   ]
  },
  {
   "cell_type": "markdown",
   "id": "170dd387",
   "metadata": {},
   "source": [
    "#### Missing value Treatment "
   ]
  },
  {
   "cell_type": "code",
   "execution_count": 8,
   "id": "a82d4505",
   "metadata": {},
   "outputs": [],
   "source": [
    "from sklearn.impute import SimpleImputer\n",
    "imp_mean = SimpleImputer(missing_values=np.nan, strategy='median')"
   ]
  },
  {
   "cell_type": "code",
   "execution_count": 9,
   "id": "7c877a6c",
   "metadata": {},
   "outputs": [],
   "source": [
    "df = df1.iloc[: , 1:]"
   ]
  },
  {
   "cell_type": "code",
   "execution_count": 10,
   "id": "6208138b",
   "metadata": {},
   "outputs": [
    {
     "data": {
      "text/plain": [
       "array([[ 3.0309300e+03,  2.5640000e+03,  2.1877333e+03, ...,\n",
       "         4.6000000e-03,  7.1900500e+01, -1.0000000e+00],\n",
       "       [ 3.0957800e+03,  2.4651400e+03,  2.2304222e+03, ...,\n",
       "         6.0000000e-03,  2.0820450e+02, -1.0000000e+00],\n",
       "       [ 2.9326100e+03,  2.5599400e+03,  2.1864111e+03, ...,\n",
       "         1.4800000e-02,  8.2860200e+01,  1.0000000e+00],\n",
       "       ...,\n",
       "       [ 2.9788100e+03,  2.3797800e+03,  2.2063000e+03, ...,\n",
       "         2.5000000e-03,  4.3523100e+01, -1.0000000e+00],\n",
       "       [ 2.8949200e+03,  2.5320100e+03,  2.1770333e+03, ...,\n",
       "         7.5000000e-03,  9.3494100e+01, -1.0000000e+00],\n",
       "       [ 2.9449200e+03,  2.4507600e+03,  2.1954444e+03, ...,\n",
       "         4.5000000e-03,  1.3778440e+02, -1.0000000e+00]])"
      ]
     },
     "execution_count": 10,
     "metadata": {},
     "output_type": "execute_result"
    }
   ],
   "source": [
    "imp_mean.fit(df)\n",
    "df_transformed = imp_mean.transform(df)\n",
    "df_transformed"
   ]
  },
  {
   "cell_type": "code",
   "execution_count": 11,
   "id": "89e543b2",
   "metadata": {},
   "outputs": [
    {
     "data": {
      "text/plain": [
       "0      0\n",
       "1      0\n",
       "2      0\n",
       "3      0\n",
       "4      0\n",
       "      ..\n",
       "586    0\n",
       "587    0\n",
       "588    0\n",
       "589    0\n",
       "590    0\n",
       "Length: 591, dtype: int64"
      ]
     },
     "execution_count": 11,
     "metadata": {},
     "output_type": "execute_result"
    }
   ],
   "source": [
    "df_transformed_dataframe = pd.DataFrame(df_transformed)\n",
    "df_transformed_dataframe.isna().sum()"
   ]
  },
  {
   "cell_type": "code",
   "execution_count": 12,
   "id": "af7c21c3",
   "metadata": {},
   "outputs": [],
   "source": [
    "for col in df_transformed_dataframe.columns:\n",
    "    check = df_transformed_dataframe[col].isnull().values.any()\n",
    "    if (check == True):\n",
    "        print(col,' - ', check)"
   ]
  },
  {
   "cell_type": "code",
   "execution_count": 13,
   "id": "56438b5c",
   "metadata": {},
   "outputs": [],
   "source": [
    "for col in df_transformed_dataframe.columns:\n",
    "    check = df_transformed_dataframe[col].isna().values.any()\n",
    "    if (check == True):\n",
    "        print(col,' - ', check)"
   ]
  },
  {
   "cell_type": "code",
   "execution_count": 14,
   "id": "246fca61",
   "metadata": {},
   "outputs": [
    {
     "name": "stdout",
     "output_type": "stream",
     "text": [
      "<class 'pandas.core.frame.DataFrame'>\n",
      "RangeIndex: 1567 entries, 0 to 1566\n",
      "Columns: 591 entries, 0 to 590\n",
      "dtypes: float64(591)\n",
      "memory usage: 7.1 MB\n"
     ]
    }
   ],
   "source": [
    "df_transformed_dataframe.info()"
   ]
  },
  {
   "cell_type": "code",
   "execution_count": 15,
   "id": "32a9e9ad",
   "metadata": {},
   "outputs": [
    {
     "data": {
      "text/plain": [
       "RangeIndex(start=0, stop=591, step=1)"
      ]
     },
     "execution_count": 15,
     "metadata": {},
     "output_type": "execute_result"
    }
   ],
   "source": [
    "df_transformed_dataframe.columns"
   ]
  },
  {
   "cell_type": "code",
   "execution_count": 16,
   "id": "3a29cea3",
   "metadata": {},
   "outputs": [
    {
     "data": {
      "text/html": [
       "<div>\n",
       "<style scoped>\n",
       "    .dataframe tbody tr th:only-of-type {\n",
       "        vertical-align: middle;\n",
       "    }\n",
       "\n",
       "    .dataframe tbody tr th {\n",
       "        vertical-align: top;\n",
       "    }\n",
       "\n",
       "    .dataframe thead th {\n",
       "        text-align: right;\n",
       "    }\n",
       "</style>\n",
       "<table border=\"1\" class=\"dataframe\">\n",
       "  <thead>\n",
       "    <tr style=\"text-align: right;\">\n",
       "      <th></th>\n",
       "      <th>0</th>\n",
       "      <th>1</th>\n",
       "      <th>2</th>\n",
       "      <th>3</th>\n",
       "      <th>4</th>\n",
       "      <th>5</th>\n",
       "      <th>6</th>\n",
       "      <th>7</th>\n",
       "      <th>8</th>\n",
       "      <th>9</th>\n",
       "      <th>...</th>\n",
       "      <th>581</th>\n",
       "      <th>582</th>\n",
       "      <th>583</th>\n",
       "      <th>584</th>\n",
       "      <th>585</th>\n",
       "      <th>586</th>\n",
       "      <th>587</th>\n",
       "      <th>588</th>\n",
       "      <th>589</th>\n",
       "      <th>590</th>\n",
       "    </tr>\n",
       "  </thead>\n",
       "  <tbody>\n",
       "    <tr>\n",
       "      <th>0</th>\n",
       "      <td>3030.93</td>\n",
       "      <td>2564.00</td>\n",
       "      <td>2187.7333</td>\n",
       "      <td>1411.1265</td>\n",
       "      <td>1.3602</td>\n",
       "      <td>100.0</td>\n",
       "      <td>97.6133</td>\n",
       "      <td>0.1242</td>\n",
       "      <td>1.5005</td>\n",
       "      <td>0.0162</td>\n",
       "      <td>...</td>\n",
       "      <td>72.2889</td>\n",
       "      <td>0.5005</td>\n",
       "      <td>0.0118</td>\n",
       "      <td>0.0035</td>\n",
       "      <td>2.3630</td>\n",
       "      <td>0.0205</td>\n",
       "      <td>0.0148</td>\n",
       "      <td>0.0046</td>\n",
       "      <td>71.9005</td>\n",
       "      <td>-1.0</td>\n",
       "    </tr>\n",
       "    <tr>\n",
       "      <th>1</th>\n",
       "      <td>3095.78</td>\n",
       "      <td>2465.14</td>\n",
       "      <td>2230.4222</td>\n",
       "      <td>1463.6606</td>\n",
       "      <td>0.8294</td>\n",
       "      <td>100.0</td>\n",
       "      <td>102.3433</td>\n",
       "      <td>0.1247</td>\n",
       "      <td>1.4966</td>\n",
       "      <td>-0.0005</td>\n",
       "      <td>...</td>\n",
       "      <td>208.2045</td>\n",
       "      <td>0.5019</td>\n",
       "      <td>0.0223</td>\n",
       "      <td>0.0055</td>\n",
       "      <td>4.4447</td>\n",
       "      <td>0.0096</td>\n",
       "      <td>0.0201</td>\n",
       "      <td>0.0060</td>\n",
       "      <td>208.2045</td>\n",
       "      <td>-1.0</td>\n",
       "    </tr>\n",
       "    <tr>\n",
       "      <th>2</th>\n",
       "      <td>2932.61</td>\n",
       "      <td>2559.94</td>\n",
       "      <td>2186.4111</td>\n",
       "      <td>1698.0172</td>\n",
       "      <td>1.5102</td>\n",
       "      <td>100.0</td>\n",
       "      <td>95.4878</td>\n",
       "      <td>0.1241</td>\n",
       "      <td>1.4436</td>\n",
       "      <td>0.0041</td>\n",
       "      <td>...</td>\n",
       "      <td>82.8602</td>\n",
       "      <td>0.4958</td>\n",
       "      <td>0.0157</td>\n",
       "      <td>0.0039</td>\n",
       "      <td>3.1745</td>\n",
       "      <td>0.0584</td>\n",
       "      <td>0.0484</td>\n",
       "      <td>0.0148</td>\n",
       "      <td>82.8602</td>\n",
       "      <td>1.0</td>\n",
       "    </tr>\n",
       "    <tr>\n",
       "      <th>3</th>\n",
       "      <td>2988.72</td>\n",
       "      <td>2479.90</td>\n",
       "      <td>2199.0333</td>\n",
       "      <td>909.7926</td>\n",
       "      <td>1.3204</td>\n",
       "      <td>100.0</td>\n",
       "      <td>104.2367</td>\n",
       "      <td>0.1217</td>\n",
       "      <td>1.4882</td>\n",
       "      <td>-0.0124</td>\n",
       "      <td>...</td>\n",
       "      <td>73.8432</td>\n",
       "      <td>0.4990</td>\n",
       "      <td>0.0103</td>\n",
       "      <td>0.0025</td>\n",
       "      <td>2.0544</td>\n",
       "      <td>0.0202</td>\n",
       "      <td>0.0149</td>\n",
       "      <td>0.0044</td>\n",
       "      <td>73.8432</td>\n",
       "      <td>-1.0</td>\n",
       "    </tr>\n",
       "    <tr>\n",
       "      <th>4</th>\n",
       "      <td>3032.24</td>\n",
       "      <td>2502.87</td>\n",
       "      <td>2233.3667</td>\n",
       "      <td>1326.5200</td>\n",
       "      <td>1.5334</td>\n",
       "      <td>100.0</td>\n",
       "      <td>100.3967</td>\n",
       "      <td>0.1235</td>\n",
       "      <td>1.5031</td>\n",
       "      <td>-0.0031</td>\n",
       "      <td>...</td>\n",
       "      <td>72.2889</td>\n",
       "      <td>0.4800</td>\n",
       "      <td>0.4766</td>\n",
       "      <td>0.1045</td>\n",
       "      <td>99.3032</td>\n",
       "      <td>0.0202</td>\n",
       "      <td>0.0149</td>\n",
       "      <td>0.0044</td>\n",
       "      <td>73.8432</td>\n",
       "      <td>-1.0</td>\n",
       "    </tr>\n",
       "  </tbody>\n",
       "</table>\n",
       "<p>5 rows × 591 columns</p>\n",
       "</div>"
      ],
      "text/plain": [
       "       0        1          2          3       4      5         6       7    \\\n",
       "0  3030.93  2564.00  2187.7333  1411.1265  1.3602  100.0   97.6133  0.1242   \n",
       "1  3095.78  2465.14  2230.4222  1463.6606  0.8294  100.0  102.3433  0.1247   \n",
       "2  2932.61  2559.94  2186.4111  1698.0172  1.5102  100.0   95.4878  0.1241   \n",
       "3  2988.72  2479.90  2199.0333   909.7926  1.3204  100.0  104.2367  0.1217   \n",
       "4  3032.24  2502.87  2233.3667  1326.5200  1.5334  100.0  100.3967  0.1235   \n",
       "\n",
       "      8       9    ...       581     582     583     584      585     586  \\\n",
       "0  1.5005  0.0162  ...   72.2889  0.5005  0.0118  0.0035   2.3630  0.0205   \n",
       "1  1.4966 -0.0005  ...  208.2045  0.5019  0.0223  0.0055   4.4447  0.0096   \n",
       "2  1.4436  0.0041  ...   82.8602  0.4958  0.0157  0.0039   3.1745  0.0584   \n",
       "3  1.4882 -0.0124  ...   73.8432  0.4990  0.0103  0.0025   2.0544  0.0202   \n",
       "4  1.5031 -0.0031  ...   72.2889  0.4800  0.4766  0.1045  99.3032  0.0202   \n",
       "\n",
       "      587     588       589  590  \n",
       "0  0.0148  0.0046   71.9005 -1.0  \n",
       "1  0.0201  0.0060  208.2045 -1.0  \n",
       "2  0.0484  0.0148   82.8602  1.0  \n",
       "3  0.0149  0.0044   73.8432 -1.0  \n",
       "4  0.0149  0.0044   73.8432 -1.0  \n",
       "\n",
       "[5 rows x 591 columns]"
      ]
     },
     "execution_count": 16,
     "metadata": {},
     "output_type": "execute_result"
    }
   ],
   "source": [
    "df_transformed_dataframe.head()"
   ]
  },
  {
   "cell_type": "code",
   "execution_count": 17,
   "id": "74ce54a9",
   "metadata": {
    "scrolled": true
   },
   "outputs": [
    {
     "data": {
      "text/plain": [
       "0      -1.0\n",
       "1      -1.0\n",
       "2       1.0\n",
       "3      -1.0\n",
       "4      -1.0\n",
       "       ... \n",
       "1562   -1.0\n",
       "1563   -1.0\n",
       "1564   -1.0\n",
       "1565   -1.0\n",
       "1566   -1.0\n",
       "Name: 590, Length: 1567, dtype: float64"
      ]
     },
     "execution_count": 17,
     "metadata": {},
     "output_type": "execute_result"
    }
   ],
   "source": [
    "df_transformed_dataframe.iloc[:,590]"
   ]
  },
  {
   "cell_type": "markdown",
   "id": "6fa6dd9a",
   "metadata": {},
   "source": [
    "#### Normalizing the data "
   ]
  },
  {
   "cell_type": "code",
   "execution_count": 18,
   "id": "7be49457",
   "metadata": {},
   "outputs": [],
   "source": [
    "# independant variables\n",
    "X = df_transformed_dataframe.iloc[:,0:590]\n",
    "# the dependent variable\n",
    "y = df_transformed_dataframe.iloc[:,590]"
   ]
  },
  {
   "cell_type": "code",
   "execution_count": 19,
   "id": "85e65e94",
   "metadata": {},
   "outputs": [
    {
     "data": {
      "text/html": [
       "<div>\n",
       "<style scoped>\n",
       "    .dataframe tbody tr th:only-of-type {\n",
       "        vertical-align: middle;\n",
       "    }\n",
       "\n",
       "    .dataframe tbody tr th {\n",
       "        vertical-align: top;\n",
       "    }\n",
       "\n",
       "    .dataframe thead th {\n",
       "        text-align: right;\n",
       "    }\n",
       "</style>\n",
       "<table border=\"1\" class=\"dataframe\">\n",
       "  <thead>\n",
       "    <tr style=\"text-align: right;\">\n",
       "      <th></th>\n",
       "      <th>0</th>\n",
       "      <th>1</th>\n",
       "      <th>2</th>\n",
       "      <th>3</th>\n",
       "      <th>4</th>\n",
       "      <th>5</th>\n",
       "      <th>6</th>\n",
       "      <th>7</th>\n",
       "      <th>8</th>\n",
       "      <th>9</th>\n",
       "      <th>...</th>\n",
       "      <th>580</th>\n",
       "      <th>581</th>\n",
       "      <th>582</th>\n",
       "      <th>583</th>\n",
       "      <th>584</th>\n",
       "      <th>585</th>\n",
       "      <th>586</th>\n",
       "      <th>587</th>\n",
       "      <th>588</th>\n",
       "      <th>589</th>\n",
       "    </tr>\n",
       "  </thead>\n",
       "  <tbody>\n",
       "    <tr>\n",
       "      <th>0</th>\n",
       "      <td>0.224463</td>\n",
       "      <td>0.849523</td>\n",
       "      <td>-0.436430</td>\n",
       "      <td>0.035804</td>\n",
       "      <td>-0.050121</td>\n",
       "      <td>NaN</td>\n",
       "      <td>-0.564354</td>\n",
       "      <td>0.265894</td>\n",
       "      <td>0.509848</td>\n",
       "      <td>1.128455</td>\n",
       "      <td>...</td>\n",
       "      <td>-0.138300</td>\n",
       "      <td>-0.179550</td>\n",
       "      <td>0.118679</td>\n",
       "      <td>-0.204833</td>\n",
       "      <td>-0.093165</td>\n",
       "      <td>-0.197057</td>\n",
       "      <td>-0.077554</td>\n",
       "      <td>-0.190165</td>\n",
       "      <td>-0.238334</td>\n",
       "      <td>-0.295753</td>\n",
       "    </tr>\n",
       "    <tr>\n",
       "      <th>1</th>\n",
       "      <td>1.107287</td>\n",
       "      <td>-0.383106</td>\n",
       "      <td>1.016977</td>\n",
       "      <td>0.155282</td>\n",
       "      <td>-0.059585</td>\n",
       "      <td>NaN</td>\n",
       "      <td>0.197639</td>\n",
       "      <td>0.321868</td>\n",
       "      <td>0.457021</td>\n",
       "      <td>0.022620</td>\n",
       "      <td>...</td>\n",
       "      <td>0.516737</td>\n",
       "      <td>2.233265</td>\n",
       "      <td>0.530183</td>\n",
       "      <td>0.406734</td>\n",
       "      <td>0.444748</td>\n",
       "      <td>0.385113</td>\n",
       "      <td>-0.960123</td>\n",
       "      <td>0.411970</td>\n",
       "      <td>0.250272</td>\n",
       "      <td>1.156846</td>\n",
       "    </tr>\n",
       "    <tr>\n",
       "      <th>2</th>\n",
       "      <td>-1.114000</td>\n",
       "      <td>0.798901</td>\n",
       "      <td>-0.481447</td>\n",
       "      <td>0.688278</td>\n",
       "      <td>-0.047447</td>\n",
       "      <td>NaN</td>\n",
       "      <td>-0.906768</td>\n",
       "      <td>0.254699</td>\n",
       "      <td>-0.260885</td>\n",
       "      <td>0.327222</td>\n",
       "      <td>...</td>\n",
       "      <td>4.950839</td>\n",
       "      <td>0.008115</td>\n",
       "      <td>-1.262799</td>\n",
       "      <td>0.022320</td>\n",
       "      <td>0.014418</td>\n",
       "      <td>0.029888</td>\n",
       "      <td>2.991195</td>\n",
       "      <td>3.627143</td>\n",
       "      <td>3.321511</td>\n",
       "      <td>-0.178955</td>\n",
       "    </tr>\n",
       "    <tr>\n",
       "      <th>3</th>\n",
       "      <td>-0.350156</td>\n",
       "      <td>-0.199072</td>\n",
       "      <td>-0.051705</td>\n",
       "      <td>-1.104376</td>\n",
       "      <td>-0.050831</td>\n",
       "      <td>NaN</td>\n",
       "      <td>0.502662</td>\n",
       "      <td>-0.013974</td>\n",
       "      <td>0.343240</td>\n",
       "      <td>-0.765369</td>\n",
       "      <td>...</td>\n",
       "      <td>-0.289463</td>\n",
       "      <td>-0.151957</td>\n",
       "      <td>-0.322218</td>\n",
       "      <td>-0.292200</td>\n",
       "      <td>-0.362121</td>\n",
       "      <td>-0.283360</td>\n",
       "      <td>-0.101845</td>\n",
       "      <td>-0.178804</td>\n",
       "      <td>-0.308135</td>\n",
       "      <td>-0.275049</td>\n",
       "    </tr>\n",
       "    <tr>\n",
       "      <th>4</th>\n",
       "      <td>0.242296</td>\n",
       "      <td>0.087328</td>\n",
       "      <td>1.117227</td>\n",
       "      <td>-0.156616</td>\n",
       "      <td>-0.047033</td>\n",
       "      <td>NaN</td>\n",
       "      <td>-0.115954</td>\n",
       "      <td>0.187531</td>\n",
       "      <td>0.545066</td>\n",
       "      <td>-0.149545</td>\n",
       "      <td>...</td>\n",
       "      <td>-0.138300</td>\n",
       "      <td>-0.179550</td>\n",
       "      <td>-5.906917</td>\n",
       "      <td>26.867221</td>\n",
       "      <td>27.071429</td>\n",
       "      <td>26.913337</td>\n",
       "      <td>-0.101845</td>\n",
       "      <td>-0.178804</td>\n",
       "      <td>-0.308135</td>\n",
       "      <td>-0.275049</td>\n",
       "    </tr>\n",
       "    <tr>\n",
       "      <th>...</th>\n",
       "      <td>...</td>\n",
       "      <td>...</td>\n",
       "      <td>...</td>\n",
       "      <td>...</td>\n",
       "      <td>...</td>\n",
       "      <td>...</td>\n",
       "      <td>...</td>\n",
       "      <td>...</td>\n",
       "      <td>...</td>\n",
       "      <td>...</td>\n",
       "      <td>...</td>\n",
       "      <td>...</td>\n",
       "      <td>...</td>\n",
       "      <td>...</td>\n",
       "      <td>...</td>\n",
       "      <td>...</td>\n",
       "      <td>...</td>\n",
       "      <td>...</td>\n",
       "      <td>...</td>\n",
       "      <td>...</td>\n",
       "      <td>...</td>\n",
       "    </tr>\n",
       "    <tr>\n",
       "      <th>95</th>\n",
       "      <td>0.907035</td>\n",
       "      <td>0.811993</td>\n",
       "      <td>-0.694425</td>\n",
       "      <td>0.971405</td>\n",
       "      <td>-0.051945</td>\n",
       "      <td>NaN</td>\n",
       "      <td>-0.481292</td>\n",
       "      <td>0.478594</td>\n",
       "      <td>0.568093</td>\n",
       "      <td>-0.659421</td>\n",
       "      <td>...</td>\n",
       "      <td>-0.138300</td>\n",
       "      <td>-0.179550</td>\n",
       "      <td>0.030500</td>\n",
       "      <td>-0.321322</td>\n",
       "      <td>-0.308330</td>\n",
       "      <td>-0.309565</td>\n",
       "      <td>0.505427</td>\n",
       "      <td>1.741211</td>\n",
       "      <td>1.541588</td>\n",
       "      <td>0.160893</td>\n",
       "    </tr>\n",
       "    <tr>\n",
       "      <th>96</th>\n",
       "      <td>-0.300059</td>\n",
       "      <td>-0.359042</td>\n",
       "      <td>-0.302512</td>\n",
       "      <td>-0.654884</td>\n",
       "      <td>-0.050251</td>\n",
       "      <td>NaN</td>\n",
       "      <td>0.371625</td>\n",
       "      <td>-0.137116</td>\n",
       "      <td>0.493594</td>\n",
       "      <td>-0.546851</td>\n",
       "      <td>...</td>\n",
       "      <td>0.617512</td>\n",
       "      <td>1.950897</td>\n",
       "      <td>-0.145859</td>\n",
       "      <td>1.006653</td>\n",
       "      <td>0.713704</td>\n",
       "      <td>0.967563</td>\n",
       "      <td>-0.968220</td>\n",
       "      <td>0.218832</td>\n",
       "      <td>0.320073</td>\n",
       "      <td>0.987335</td>\n",
       "    </tr>\n",
       "    <tr>\n",
       "      <th>97</th>\n",
       "      <td>0.474676</td>\n",
       "      <td>-0.524249</td>\n",
       "      <td>2.200661</td>\n",
       "      <td>0.784509</td>\n",
       "      <td>-0.048137</td>\n",
       "      <td>NaN</td>\n",
       "      <td>-0.117211</td>\n",
       "      <td>0.042000</td>\n",
       "      <td>0.922983</td>\n",
       "      <td>0.095460</td>\n",
       "      <td>...</td>\n",
       "      <td>-0.138300</td>\n",
       "      <td>-0.179550</td>\n",
       "      <td>-0.087073</td>\n",
       "      <td>0.121336</td>\n",
       "      <td>0.283374</td>\n",
       "      <td>0.118121</td>\n",
       "      <td>-0.968220</td>\n",
       "      <td>0.218832</td>\n",
       "      <td>0.320073</td>\n",
       "      <td>0.987335</td>\n",
       "    </tr>\n",
       "    <tr>\n",
       "      <th>98</th>\n",
       "      <td>-0.040180</td>\n",
       "      <td>0.524097</td>\n",
       "      <td>-0.582071</td>\n",
       "      <td>-0.999498</td>\n",
       "      <td>-0.054675</td>\n",
       "      <td>NaN</td>\n",
       "      <td>0.254748</td>\n",
       "      <td>0.053195</td>\n",
       "      <td>2.165096</td>\n",
       "      <td>0.466279</td>\n",
       "      <td>...</td>\n",
       "      <td>-0.138300</td>\n",
       "      <td>-0.179550</td>\n",
       "      <td>-1.350978</td>\n",
       "      <td>-0.251429</td>\n",
       "      <td>-0.173852</td>\n",
       "      <td>-0.239733</td>\n",
       "      <td>-0.968220</td>\n",
       "      <td>0.218832</td>\n",
       "      <td>0.320073</td>\n",
       "      <td>0.987335</td>\n",
       "    </tr>\n",
       "    <tr>\n",
       "      <th>99</th>\n",
       "      <td>-1.378916</td>\n",
       "      <td>0.606638</td>\n",
       "      <td>1.090746</td>\n",
       "      <td>0.732076</td>\n",
       "      <td>-0.044597</td>\n",
       "      <td>NaN</td>\n",
       "      <td>0.481719</td>\n",
       "      <td>0.053195</td>\n",
       "      <td>0.658848</td>\n",
       "      <td>-0.606447</td>\n",
       "      <td>...</td>\n",
       "      <td>-0.944501</td>\n",
       "      <td>-0.510666</td>\n",
       "      <td>0.324431</td>\n",
       "      <td>-0.344620</td>\n",
       "      <td>-0.362121</td>\n",
       "      <td>-0.335294</td>\n",
       "      <td>-0.126136</td>\n",
       "      <td>-0.655967</td>\n",
       "      <td>-0.761841</td>\n",
       "      <td>-0.490389</td>\n",
       "    </tr>\n",
       "  </tbody>\n",
       "</table>\n",
       "<p>100 rows × 590 columns</p>\n",
       "</div>"
      ],
      "text/plain": [
       "         0         1         2         3         4    5         6         7    \\\n",
       "0   0.224463  0.849523 -0.436430  0.035804 -0.050121  NaN -0.564354  0.265894   \n",
       "1   1.107287 -0.383106  1.016977  0.155282 -0.059585  NaN  0.197639  0.321868   \n",
       "2  -1.114000  0.798901 -0.481447  0.688278 -0.047447  NaN -0.906768  0.254699   \n",
       "3  -0.350156 -0.199072 -0.051705 -1.104376 -0.050831  NaN  0.502662 -0.013974   \n",
       "4   0.242296  0.087328  1.117227 -0.156616 -0.047033  NaN -0.115954  0.187531   \n",
       "..       ...       ...       ...       ...       ...  ...       ...       ...   \n",
       "95  0.907035  0.811993 -0.694425  0.971405 -0.051945  NaN -0.481292  0.478594   \n",
       "96 -0.300059 -0.359042 -0.302512 -0.654884 -0.050251  NaN  0.371625 -0.137116   \n",
       "97  0.474676 -0.524249  2.200661  0.784509 -0.048137  NaN -0.117211  0.042000   \n",
       "98 -0.040180  0.524097 -0.582071 -0.999498 -0.054675  NaN  0.254748  0.053195   \n",
       "99 -1.378916  0.606638  1.090746  0.732076 -0.044597  NaN  0.481719  0.053195   \n",
       "\n",
       "         8         9    ...       580       581       582        583  \\\n",
       "0   0.509848  1.128455  ... -0.138300 -0.179550  0.118679  -0.204833   \n",
       "1   0.457021  0.022620  ...  0.516737  2.233265  0.530183   0.406734   \n",
       "2  -0.260885  0.327222  ...  4.950839  0.008115 -1.262799   0.022320   \n",
       "3   0.343240 -0.765369  ... -0.289463 -0.151957 -0.322218  -0.292200   \n",
       "4   0.545066 -0.149545  ... -0.138300 -0.179550 -5.906917  26.867221   \n",
       "..       ...       ...  ...       ...       ...       ...        ...   \n",
       "95  0.568093 -0.659421  ... -0.138300 -0.179550  0.030500  -0.321322   \n",
       "96  0.493594 -0.546851  ...  0.617512  1.950897 -0.145859   1.006653   \n",
       "97  0.922983  0.095460  ... -0.138300 -0.179550 -0.087073   0.121336   \n",
       "98  2.165096  0.466279  ... -0.138300 -0.179550 -1.350978  -0.251429   \n",
       "99  0.658848 -0.606447  ... -0.944501 -0.510666  0.324431  -0.344620   \n",
       "\n",
       "          584        585       586       587       588       589  \n",
       "0   -0.093165  -0.197057 -0.077554 -0.190165 -0.238334 -0.295753  \n",
       "1    0.444748   0.385113 -0.960123  0.411970  0.250272  1.156846  \n",
       "2    0.014418   0.029888  2.991195  3.627143  3.321511 -0.178955  \n",
       "3   -0.362121  -0.283360 -0.101845 -0.178804 -0.308135 -0.275049  \n",
       "4   27.071429  26.913337 -0.101845 -0.178804 -0.308135 -0.275049  \n",
       "..        ...        ...       ...       ...       ...       ...  \n",
       "95  -0.308330  -0.309565  0.505427  1.741211  1.541588  0.160893  \n",
       "96   0.713704   0.967563 -0.968220  0.218832  0.320073  0.987335  \n",
       "97   0.283374   0.118121 -0.968220  0.218832  0.320073  0.987335  \n",
       "98  -0.173852  -0.239733 -0.968220  0.218832  0.320073  0.987335  \n",
       "99  -0.362121  -0.335294 -0.126136 -0.655967 -0.761841 -0.490389  \n",
       "\n",
       "[100 rows x 590 columns]"
      ]
     },
     "execution_count": 19,
     "metadata": {},
     "output_type": "execute_result"
    }
   ],
   "source": [
    "from scipy.stats import zscore\n",
    "XScaled=X.apply(zscore)\n",
    "XScaled.head(100)"
   ]
  },
  {
   "cell_type": "code",
   "execution_count": 20,
   "id": "e98f53e2",
   "metadata": {},
   "outputs": [
    {
     "name": "stdout",
     "output_type": "stream",
     "text": [
      "5  -  True\n",
      "13  -  True\n",
      "42  -  True\n",
      "49  -  True\n",
      "52  -  True\n",
      "69  -  True\n",
      "97  -  True\n",
      "141  -  True\n",
      "149  -  True\n",
      "178  -  True\n",
      "179  -  True\n",
      "186  -  True\n",
      "189  -  True\n",
      "190  -  True\n",
      "191  -  True\n",
      "192  -  True\n",
      "193  -  True\n",
      "194  -  True\n",
      "226  -  True\n",
      "229  -  True\n",
      "230  -  True\n",
      "231  -  True\n",
      "232  -  True\n",
      "233  -  True\n",
      "234  -  True\n",
      "235  -  True\n",
      "236  -  True\n",
      "237  -  True\n",
      "240  -  True\n",
      "241  -  True\n",
      "242  -  True\n",
      "243  -  True\n",
      "256  -  True\n",
      "257  -  True\n",
      "258  -  True\n",
      "259  -  True\n",
      "260  -  True\n",
      "261  -  True\n",
      "262  -  True\n",
      "263  -  True\n",
      "264  -  True\n",
      "265  -  True\n",
      "266  -  True\n",
      "276  -  True\n",
      "284  -  True\n",
      "313  -  True\n",
      "314  -  True\n",
      "315  -  True\n",
      "322  -  True\n",
      "325  -  True\n",
      "326  -  True\n",
      "327  -  True\n",
      "328  -  True\n",
      "329  -  True\n",
      "330  -  True\n",
      "364  -  True\n",
      "369  -  True\n",
      "370  -  True\n",
      "371  -  True\n",
      "372  -  True\n",
      "373  -  True\n",
      "374  -  True\n",
      "375  -  True\n",
      "378  -  True\n",
      "379  -  True\n",
      "380  -  True\n",
      "381  -  True\n",
      "394  -  True\n",
      "395  -  True\n",
      "396  -  True\n",
      "397  -  True\n",
      "398  -  True\n",
      "399  -  True\n",
      "400  -  True\n",
      "401  -  True\n",
      "402  -  True\n",
      "403  -  True\n",
      "404  -  True\n",
      "414  -  True\n",
      "422  -  True\n",
      "449  -  True\n",
      "450  -  True\n",
      "451  -  True\n",
      "458  -  True\n",
      "461  -  True\n",
      "462  -  True\n",
      "463  -  True\n",
      "464  -  True\n",
      "465  -  True\n",
      "466  -  True\n",
      "481  -  True\n",
      "498  -  True\n",
      "501  -  True\n",
      "502  -  True\n",
      "503  -  True\n",
      "504  -  True\n",
      "505  -  True\n",
      "506  -  True\n",
      "507  -  True\n",
      "508  -  True\n",
      "509  -  True\n",
      "512  -  True\n",
      "513  -  True\n",
      "514  -  True\n",
      "515  -  True\n",
      "528  -  True\n",
      "529  -  True\n",
      "530  -  True\n",
      "531  -  True\n",
      "532  -  True\n",
      "533  -  True\n",
      "534  -  True\n",
      "535  -  True\n",
      "536  -  True\n",
      "537  -  True\n",
      "538  -  True\n"
     ]
    }
   ],
   "source": [
    "for col in XScaled.columns:\n",
    "    check = XScaled[col].isna().values.any()\n",
    "    if (check == True):\n",
    "        print(col,' - ', check)"
   ]
  },
  {
   "cell_type": "code",
   "execution_count": 21,
   "id": "b2568706",
   "metadata": {},
   "outputs": [
    {
     "data": {
      "text/html": [
       "<div>\n",
       "<style scoped>\n",
       "    .dataframe tbody tr th:only-of-type {\n",
       "        vertical-align: middle;\n",
       "    }\n",
       "\n",
       "    .dataframe tbody tr th {\n",
       "        vertical-align: top;\n",
       "    }\n",
       "\n",
       "    .dataframe thead th {\n",
       "        text-align: right;\n",
       "    }\n",
       "</style>\n",
       "<table border=\"1\" class=\"dataframe\">\n",
       "  <thead>\n",
       "    <tr style=\"text-align: right;\">\n",
       "      <th></th>\n",
       "      <th>0</th>\n",
       "      <th>1</th>\n",
       "      <th>2</th>\n",
       "      <th>3</th>\n",
       "      <th>4</th>\n",
       "      <th>5</th>\n",
       "      <th>6</th>\n",
       "      <th>7</th>\n",
       "      <th>8</th>\n",
       "      <th>9</th>\n",
       "      <th>...</th>\n",
       "      <th>580</th>\n",
       "      <th>581</th>\n",
       "      <th>582</th>\n",
       "      <th>583</th>\n",
       "      <th>584</th>\n",
       "      <th>585</th>\n",
       "      <th>586</th>\n",
       "      <th>587</th>\n",
       "      <th>588</th>\n",
       "      <th>589</th>\n",
       "    </tr>\n",
       "  </thead>\n",
       "  <tbody>\n",
       "    <tr>\n",
       "      <th>0</th>\n",
       "      <td>0.224463</td>\n",
       "      <td>0.849523</td>\n",
       "      <td>-0.436430</td>\n",
       "      <td>0.035804</td>\n",
       "      <td>-0.050121</td>\n",
       "      <td>0.0</td>\n",
       "      <td>-0.564354</td>\n",
       "      <td>0.265894</td>\n",
       "      <td>0.509848</td>\n",
       "      <td>1.128455</td>\n",
       "      <td>...</td>\n",
       "      <td>-0.138300</td>\n",
       "      <td>-0.179550</td>\n",
       "      <td>0.118679</td>\n",
       "      <td>-0.204833</td>\n",
       "      <td>-0.093165</td>\n",
       "      <td>-0.197057</td>\n",
       "      <td>-0.077554</td>\n",
       "      <td>-0.190165</td>\n",
       "      <td>-0.238334</td>\n",
       "      <td>-0.295753</td>\n",
       "    </tr>\n",
       "    <tr>\n",
       "      <th>1</th>\n",
       "      <td>1.107287</td>\n",
       "      <td>-0.383106</td>\n",
       "      <td>1.016977</td>\n",
       "      <td>0.155282</td>\n",
       "      <td>-0.059585</td>\n",
       "      <td>0.0</td>\n",
       "      <td>0.197639</td>\n",
       "      <td>0.321868</td>\n",
       "      <td>0.457021</td>\n",
       "      <td>0.022620</td>\n",
       "      <td>...</td>\n",
       "      <td>0.516737</td>\n",
       "      <td>2.233265</td>\n",
       "      <td>0.530183</td>\n",
       "      <td>0.406734</td>\n",
       "      <td>0.444748</td>\n",
       "      <td>0.385113</td>\n",
       "      <td>-0.960123</td>\n",
       "      <td>0.411970</td>\n",
       "      <td>0.250272</td>\n",
       "      <td>1.156846</td>\n",
       "    </tr>\n",
       "    <tr>\n",
       "      <th>2</th>\n",
       "      <td>-1.114000</td>\n",
       "      <td>0.798901</td>\n",
       "      <td>-0.481447</td>\n",
       "      <td>0.688278</td>\n",
       "      <td>-0.047447</td>\n",
       "      <td>0.0</td>\n",
       "      <td>-0.906768</td>\n",
       "      <td>0.254699</td>\n",
       "      <td>-0.260885</td>\n",
       "      <td>0.327222</td>\n",
       "      <td>...</td>\n",
       "      <td>4.950839</td>\n",
       "      <td>0.008115</td>\n",
       "      <td>-1.262799</td>\n",
       "      <td>0.022320</td>\n",
       "      <td>0.014418</td>\n",
       "      <td>0.029888</td>\n",
       "      <td>2.991195</td>\n",
       "      <td>3.627143</td>\n",
       "      <td>3.321511</td>\n",
       "      <td>-0.178955</td>\n",
       "    </tr>\n",
       "    <tr>\n",
       "      <th>3</th>\n",
       "      <td>-0.350156</td>\n",
       "      <td>-0.199072</td>\n",
       "      <td>-0.051705</td>\n",
       "      <td>-1.104376</td>\n",
       "      <td>-0.050831</td>\n",
       "      <td>0.0</td>\n",
       "      <td>0.502662</td>\n",
       "      <td>-0.013974</td>\n",
       "      <td>0.343240</td>\n",
       "      <td>-0.765369</td>\n",
       "      <td>...</td>\n",
       "      <td>-0.289463</td>\n",
       "      <td>-0.151957</td>\n",
       "      <td>-0.322218</td>\n",
       "      <td>-0.292200</td>\n",
       "      <td>-0.362121</td>\n",
       "      <td>-0.283360</td>\n",
       "      <td>-0.101845</td>\n",
       "      <td>-0.178804</td>\n",
       "      <td>-0.308135</td>\n",
       "      <td>-0.275049</td>\n",
       "    </tr>\n",
       "    <tr>\n",
       "      <th>4</th>\n",
       "      <td>0.242296</td>\n",
       "      <td>0.087328</td>\n",
       "      <td>1.117227</td>\n",
       "      <td>-0.156616</td>\n",
       "      <td>-0.047033</td>\n",
       "      <td>0.0</td>\n",
       "      <td>-0.115954</td>\n",
       "      <td>0.187531</td>\n",
       "      <td>0.545066</td>\n",
       "      <td>-0.149545</td>\n",
       "      <td>...</td>\n",
       "      <td>-0.138300</td>\n",
       "      <td>-0.179550</td>\n",
       "      <td>-5.906917</td>\n",
       "      <td>26.867221</td>\n",
       "      <td>27.071429</td>\n",
       "      <td>26.913337</td>\n",
       "      <td>-0.101845</td>\n",
       "      <td>-0.178804</td>\n",
       "      <td>-0.308135</td>\n",
       "      <td>-0.275049</td>\n",
       "    </tr>\n",
       "  </tbody>\n",
       "</table>\n",
       "<p>5 rows × 590 columns</p>\n",
       "</div>"
      ],
      "text/plain": [
       "        0         1         2         3         4    5         6         7    \\\n",
       "0  0.224463  0.849523 -0.436430  0.035804 -0.050121  0.0 -0.564354  0.265894   \n",
       "1  1.107287 -0.383106  1.016977  0.155282 -0.059585  0.0  0.197639  0.321868   \n",
       "2 -1.114000  0.798901 -0.481447  0.688278 -0.047447  0.0 -0.906768  0.254699   \n",
       "3 -0.350156 -0.199072 -0.051705 -1.104376 -0.050831  0.0  0.502662 -0.013974   \n",
       "4  0.242296  0.087328  1.117227 -0.156616 -0.047033  0.0 -0.115954  0.187531   \n",
       "\n",
       "        8         9    ...       580       581       582        583  \\\n",
       "0  0.509848  1.128455  ... -0.138300 -0.179550  0.118679  -0.204833   \n",
       "1  0.457021  0.022620  ...  0.516737  2.233265  0.530183   0.406734   \n",
       "2 -0.260885  0.327222  ...  4.950839  0.008115 -1.262799   0.022320   \n",
       "3  0.343240 -0.765369  ... -0.289463 -0.151957 -0.322218  -0.292200   \n",
       "4  0.545066 -0.149545  ... -0.138300 -0.179550 -5.906917  26.867221   \n",
       "\n",
       "         584        585       586       587       588       589  \n",
       "0  -0.093165  -0.197057 -0.077554 -0.190165 -0.238334 -0.295753  \n",
       "1   0.444748   0.385113 -0.960123  0.411970  0.250272  1.156846  \n",
       "2   0.014418   0.029888  2.991195  3.627143  3.321511 -0.178955  \n",
       "3  -0.362121  -0.283360 -0.101845 -0.178804 -0.308135 -0.275049  \n",
       "4  27.071429  26.913337 -0.101845 -0.178804 -0.308135 -0.275049  \n",
       "\n",
       "[5 rows x 590 columns]"
      ]
     },
     "execution_count": 21,
     "metadata": {},
     "output_type": "execute_result"
    }
   ],
   "source": [
    "XScaled_New = XScaled.fillna(0)\n",
    "XScaled_New.head()"
   ]
  },
  {
   "cell_type": "code",
   "execution_count": 22,
   "id": "8c6593be",
   "metadata": {},
   "outputs": [
    {
     "name": "stdout",
     "output_type": "stream",
     "text": [
      "[[ 1.00063857 -0.1442531   0.00467002 ... -0.02588397 -0.02817903\n",
      "   0.00418784]\n",
      " [-0.1442531   1.00063857  0.0058871  ...  0.01706713  0.00987425\n",
      "   0.04458032]\n",
      " [ 0.00467002  0.0058871   1.00063857 ... -0.02930529 -0.03076289\n",
      "  -0.03278414]\n",
      " ...\n",
      " [-0.02588397  0.01706713 -0.02930529 ...  1.00063857  0.97489778\n",
      "   0.39108314]\n",
      " [-0.02817903  0.00987425 -0.03076289 ...  0.97489778  1.00063857\n",
      "   0.389487  ]\n",
      " [ 0.00418784  0.04458032 -0.03278414 ...  0.39108314  0.389487\n",
      "   1.00063857]]\n"
     ]
    }
   ],
   "source": [
    "covMatrix = np.cov(XScaled_New,rowvar=False)\n",
    "print(covMatrix)"
   ]
  },
  {
   "cell_type": "markdown",
   "id": "15319150",
   "metadata": {},
   "source": [
    "#### Feature Reduction to 10 features"
   ]
  },
  {
   "cell_type": "code",
   "execution_count": 23,
   "id": "02d05789",
   "metadata": {},
   "outputs": [
    {
     "data": {
      "text/plain": [
       "PCA(n_components=10)"
      ]
     },
     "execution_count": 23,
     "metadata": {},
     "output_type": "execute_result"
    }
   ],
   "source": [
    "from sklearn.decomposition import PCA\n",
    "pca = PCA(n_components=10)\n",
    "pca.fit(XScaled_New)"
   ]
  },
  {
   "cell_type": "markdown",
   "id": "2f4864f0",
   "metadata": {},
   "source": [
    "The eigen Values"
   ]
  },
  {
   "cell_type": "code",
   "execution_count": 24,
   "id": "a8b50ae2",
   "metadata": {},
   "outputs": [
    {
     "name": "stdout",
     "output_type": "stream",
     "text": [
      "[26.3633688  17.27438861 13.39231156 12.06725723 10.38987125  9.85054332\n",
      "  9.36477513  8.70169415  8.53585661  7.68420793]\n"
     ]
    }
   ],
   "source": [
    "print(pca.explained_variance_)"
   ]
  },
  {
   "cell_type": "markdown",
   "id": "f8b0b966",
   "metadata": {},
   "source": [
    "The eigen Vectors"
   ]
  },
  {
   "cell_type": "code",
   "execution_count": 25,
   "id": "7e2107b9",
   "metadata": {},
   "outputs": [
    {
     "name": "stdout",
     "output_type": "stream",
     "text": [
      "[[-6.07071556e-03 -6.83500741e-06 -3.85946387e-03 ... -4.09137085e-04\n",
      "  -1.18301098e-04  1.50328041e-02]\n",
      " [-2.48798992e-02  1.29196641e-02  8.97667947e-03 ...  2.15979805e-02\n",
      "   1.78776909e-02  1.74725279e-02]\n",
      " [-9.92488299e-03 -2.99290047e-03 -8.31532226e-03 ...  3.36430292e-04\n",
      "   7.89214013e-04 -1.05873374e-02]\n",
      " ...\n",
      " [-9.61137773e-03  1.52403418e-03  1.41911225e-02 ...  3.52825918e-02\n",
      "   3.56388727e-02  4.09592229e-02]\n",
      " [-1.68573812e-02 -1.64637768e-02  1.22467015e-02 ...  1.18327519e-02\n",
      "   1.01174972e-02  4.72673069e-02]\n",
      " [ 7.64461489e-03 -4.86843815e-05  5.41826753e-02 ...  7.09436015e-03\n",
      "   1.25860166e-02  3.88850657e-02]]\n"
     ]
    }
   ],
   "source": [
    "print(pca.components_)"
   ]
  },
  {
   "cell_type": "code",
   "execution_count": 26,
   "id": "b8febfca",
   "metadata": {},
   "outputs": [
    {
     "name": "stdout",
     "output_type": "stream",
     "text": [
      "[0.05558343 0.0364206  0.02823579 0.0254421  0.02190557 0.02076847\n",
      " 0.0197443  0.01834629 0.01799664 0.01620106]\n"
     ]
    }
   ],
   "source": [
    "print(pca.explained_variance_ratio_)"
   ]
  },
  {
   "cell_type": "code",
   "execution_count": 27,
   "id": "a88e8a32",
   "metadata": {},
   "outputs": [
    {
     "data": {
      "image/png": "[encoded data removed]",
      "text/plain": [
       "<Figure size 432x288 with 1 Axes>"
      ]
     },
     "metadata": {
      "needs_background": "light"
     },
     "output_type": "display_data"
    }
   ],
   "source": [
    "plt.bar(list(range(1,11)),pca.explained_variance_ratio_,alpha=0.5, align='center')\n",
    "plt.ylabel('Variation explained')\n",
    "plt.xlabel('eigen Value')\n",
    "plt.show()"
   ]
  },
  {
   "cell_type": "code",
   "execution_count": 28,
   "id": "b5423e35",
   "metadata": {},
   "outputs": [
    {
     "data": {
      "image/png": "[encoded data removed]",
      "text/plain": [
       "<Figure size 432x288 with 1 Axes>"
      ]
     },
     "metadata": {
      "needs_background": "light"
     },
     "output_type": "display_data"
    }
   ],
   "source": [
    "plt.step(list(range(1,11)),np.cumsum(pca.explained_variance_ratio_), where='mid')\n",
    "plt.ylabel('Cum of variation explained')\n",
    "plt.xlabel('eigen Value')\n",
    "plt.show()"
   ]
  },
  {
   "cell_type": "markdown",
   "id": "ca3df750",
   "metadata": {},
   "source": [
    "#### Feature Reduction to 100 features "
   ]
  },
  {
   "cell_type": "code",
   "execution_count": 29,
   "id": "dd776e89",
   "metadata": {},
   "outputs": [
    {
     "data": {
      "text/plain": [
       "PCA(n_components=100)"
      ]
     },
     "execution_count": 29,
     "metadata": {},
     "output_type": "execute_result"
    }
   ],
   "source": [
    "pca = PCA(n_components=100)\n",
    "pca.fit(XScaled_New)"
   ]
  },
  {
   "cell_type": "code",
   "execution_count": 30,
   "id": "8ef8a7cf",
   "metadata": {},
   "outputs": [
    {
     "data": {
      "image/png": "[encoded data removed]",
      "text/plain": [
       "<Figure size 432x288 with 1 Axes>"
      ]
     },
     "metadata": {
      "needs_background": "light"
     },
     "output_type": "display_data"
    }
   ],
   "source": [
    "plt.step(list(range(1,101)),np.cumsum(pca.explained_variance_ratio_), where='mid')\n",
    "plt.ylabel('Cum of variation explained')\n",
    "plt.xlabel('eigen Value')\n",
    "plt.show()"
   ]
  },
  {
   "cell_type": "markdown",
   "id": "ea0d29d9",
   "metadata": {},
   "source": [
    "#### Accuracy Validation for 10 features "
   ]
  },
  {
   "cell_type": "code",
   "execution_count": 31,
   "id": "235bbd39",
   "metadata": {},
   "outputs": [
    {
     "name": "stdout",
     "output_type": "stream",
     "text": [
      "[[-6.07070990e-03 -6.87023426e-06 -3.85952562e-03 ... -4.09079246e-04\n",
      "  -1.18245821e-04  1.50329029e-02]\n",
      " [-2.48759191e-02  1.29160650e-02  8.97725969e-03 ...  2.16001373e-02\n",
      "   1.78797406e-02  1.74736290e-02]\n",
      " [-9.94464854e-03 -2.97439198e-03 -8.33317775e-03 ...  3.67158110e-04\n",
      "   8.19988008e-04 -1.05732233e-02]\n",
      " ...\n",
      " [-8.76694101e-03  6.73206632e-04  1.47900392e-02 ...  3.54168642e-02\n",
      "   3.57397007e-02  4.08921432e-02]\n",
      " [-1.72044021e-02 -1.60820524e-02  1.22625836e-02 ...  9.61493237e-03\n",
      "   7.93059077e-03  4.61658736e-02]\n",
      " [ 5.43005670e-03  1.25900501e-03  5.50798519e-02 ...  7.18666369e-03\n",
      "   1.27007523e-02  3.93958149e-02]]\n",
      "[0.05558343 0.0364206  0.0282358  0.02544211 0.02190545 0.02076857\n",
      " 0.01974503 0.01834465 0.0179952  0.01620778]\n"
     ]
    }
   ],
   "source": [
    "pca_ = PCA(n_components=10)\n",
    "pca_.fit(XScaled_New)\n",
    "print(pca_.components_)\n",
    "print(pca_.explained_variance_ratio_)\n",
    "Xpca_ = pca_.transform(XScaled_New)"
   ]
  },
  {
   "cell_type": "code",
   "execution_count": 32,
   "id": "2f1db4c5",
   "metadata": {},
   "outputs": [
    {
     "data": {
      "text/plain": [
       "array([[-1.6947232 ,  2.92530395,  3.89128326, ...,  1.7809699 ,\n",
       "        -0.0904426 ,  1.59286307],\n",
       "       [-2.24725388,  0.87734563,  2.88234209, ...,  1.24022841,\n",
       "        -1.64720481,  2.94765042],\n",
       "       [ 0.44297442,  1.23235161,  1.14613078, ...,  0.37161683,\n",
       "        -0.69116236,  2.65521664],\n",
       "       ...,\n",
       "       [-1.16963878, -1.77315267, -1.6195704 , ..., -1.05172463,\n",
       "        -0.70660405, -0.58853822],\n",
       "       [-1.17666024, -3.23485808, -3.49521795, ...,  0.53556834,\n",
       "         0.61741816,  0.73200692],\n",
       "       [ 1.95332848, -3.01270625, -2.61899695, ..., -1.39416486,\n",
       "         4.14636688,  0.47971779]])"
      ]
     },
     "execution_count": 32,
     "metadata": {},
     "output_type": "execute_result"
    }
   ],
   "source": [
    "Xpca_"
   ]
  },
  {
   "cell_type": "code",
   "execution_count": 33,
   "id": "1fcfb0ec",
   "metadata": {},
   "outputs": [
    {
     "name": "stderr",
     "output_type": "stream",
     "text": [
      "/Users/abishekfranklin/opt/anaconda3/lib/python3.8/site-packages/sklearn/linear_model/_logistic.py:814: ConvergenceWarning: lbfgs failed to converge (status=1):\n",
      "STOP: TOTAL NO. of ITERATIONS REACHED LIMIT.\n",
      "\n",
      "Increase the number of iterations (max_iter) or scale the data as shown in:\n",
      "    https://scikit-learn.org/stable/modules/preprocessing.html\n",
      "Please also refer to the documentation for alternative solver options:\n",
      "    https://scikit-learn.org/stable/modules/linear_model.html#logistic-regression\n",
      "  n_iter_i = _check_optimize_result(\n"
     ]
    },
    {
     "data": {
      "text/plain": [
       "0.9814932992980216"
      ]
     },
     "execution_count": 33,
     "metadata": {},
     "output_type": "execute_result"
    }
   ],
   "source": [
    "from sklearn.linear_model import LogisticRegression\n",
    "regression_model = LogisticRegression()\n",
    "regression_model.fit(XScaled_New, y)\n",
    "regression_model.score(XScaled_New, y)"
   ]
  },
  {
   "cell_type": "code",
   "execution_count": 34,
   "id": "eb4c79e4",
   "metadata": {},
   "outputs": [
    {
     "data": {
      "text/plain": [
       "0.9336311423101468"
      ]
     },
     "execution_count": 34,
     "metadata": {},
     "output_type": "execute_result"
    }
   ],
   "source": [
    "regression_model_pca = LogisticRegression()\n",
    "regression_model_pca.fit(Xpca_, y)\n",
    "regression_model_pca.score(Xpca_, y)"
   ]
  },
  {
   "cell_type": "code",
   "execution_count": 35,
   "id": "b0ffd190",
   "metadata": {},
   "outputs": [],
   "source": [
    "Xpca_df = pd.DataFrame(Xpca_)"
   ]
  },
  {
   "cell_type": "markdown",
   "id": "6d76f706",
   "metadata": {},
   "source": [
    "#### Ploting the features to understand the correlation "
   ]
  },
  {
   "cell_type": "code",
   "execution_count": 36,
   "id": "7eaf6fed",
   "metadata": {},
   "outputs": [
    {
     "data": {
      "text/plain": [
       "<seaborn.axisgrid.PairGrid at 0x7f9c0c825f10>"
      ]
     },
     "execution_count": 36,
     "metadata": {},
     "output_type": "execute_result"
    },
    {
     "data": {
      "image/png": "[encoded data removed]",
      "text/plain": [
       "<Figure size 1800x1800 with 110 Axes>"
      ]
     },
     "metadata": {
      "needs_background": "light"
     },
     "output_type": "display_data"
    }
   ],
   "source": [
    "import seaborn as sns\n",
    "sns.pairplot(Xpca_df , diag_kind = 'kde')"
   ]
  },
  {
   "cell_type": "markdown",
   "id": "dc563131",
   "metadata": {},
   "source": [
    "#### UpSampling the lower class"
   ]
  },
  {
   "cell_type": "code",
   "execution_count": 37,
   "id": "42f7629c",
   "metadata": {},
   "outputs": [
    {
     "name": "stdout",
     "output_type": "stream",
     "text": [
      "(1567, 10)\n",
      "(1567,)\n"
     ]
    }
   ],
   "source": [
    "X = Xpca_\n",
    "y = y.to_numpy()\n",
    "print(X.shape)\n",
    "print(y.shape)"
   ]
  },
  {
   "cell_type": "code",
   "execution_count": 38,
   "id": "6b31f49d",
   "metadata": {},
   "outputs": [
    {
     "data": {
      "text/plain": [
       "numpy.ndarray"
      ]
     },
     "execution_count": 38,
     "metadata": {},
     "output_type": "execute_result"
    }
   ],
   "source": [
    "type(y)"
   ]
  },
  {
   "cell_type": "code",
   "execution_count": 39,
   "id": "db0922be",
   "metadata": {},
   "outputs": [],
   "source": [
    "test_size = 0.3 # taking 70:30 training and test set\n",
    "seed = 7  # Random numbmer seeding for reapeatability of the code\n",
    "X_train, X_test, y_train, y_test = train_test_split(X, y, test_size=test_size, random_state=seed)"
   ]
  },
  {
   "cell_type": "code",
   "execution_count": 40,
   "id": "ba152133",
   "metadata": {},
   "outputs": [
    {
     "name": "stdout",
     "output_type": "stream",
     "text": [
      "Before UpSampling, Fail - counts of label '1': 81\n",
      "Before UpSampling, Pass - counts of label '-1': 1015 \n",
      "\n",
      "After UpSampling, Fail - counts of label '1': 1015\n",
      "After UpSampling, Pass - counts of label '-1': 1015 \n",
      "\n",
      "After UpSampling, the shape of train_X: (2030, 10)\n",
      "After UpSampling, the shape of train_y: (2030,) \n",
      "\n"
     ]
    }
   ],
   "source": [
    "print(\"Before UpSampling, Fail - counts of label '1': {}\".format(sum(y_train==1)))\n",
    "print(\"Before UpSampling, Pass - counts of label '-1': {} \\n\".format(sum(y_train==-1)))\n",
    "\n",
    "#from collections import Counter\n",
    "#from sklearn.datasets import make_classification\n",
    "from imblearn.over_sampling import SMOTE\n",
    "#X, y = make_classification(n_classes=2, class_sep=2, weights=[0.1, 0.9], n_informative=3, n_redundant=1, flip_y=0, n_features=20, n_clusters_per_class=1, n_samples=1000, random_state=10)\n",
    "sm = SMOTE(sampling_strategy = 1 ,k_neighbors = 5, random_state=1)   #Synthetic Minority Over Sampling Technique\n",
    "#sm = SMOTE(random_state=42)\n",
    "X_train_res, y_train_res = sm.fit_resample(X_train, y_train.ravel())\n",
    "\n",
    "print(\"After UpSampling, Fail - counts of label '1': {}\".format(sum(y_train_res==1)))\n",
    "print(\"After UpSampling, Pass - counts of label '-1': {} \\n\".format(sum(y_train_res==-1)))\n",
    "\n",
    "print('After UpSampling, the shape of train_X: {}'.format(X_train_res.shape))\n",
    "print('After UpSampling, the shape of train_y: {} \\n'.format(y_train_res.shape))"
   ]
  },
  {
   "cell_type": "markdown",
   "id": "f0a2f3c5",
   "metadata": {},
   "source": [
    "#### Accuracy validation on data before upsampling "
   ]
  },
  {
   "cell_type": "code",
   "execution_count": 41,
   "id": "737a9a6d",
   "metadata": {},
   "outputs": [
    {
     "name": "stdout",
     "output_type": "stream",
     "text": [
      "0.9490445859872612\n"
     ]
    }
   ],
   "source": [
    "# Fit the model on original data i.e. before upsampling\n",
    "model = LogisticRegression()\n",
    "model.fit(X_train, y_train)\n",
    "y_predict = model.predict(X_test)\n",
    "model_score = model.score(X_test, y_test)\n",
    "print(model_score)"
   ]
  },
  {
   "cell_type": "code",
   "execution_count": 42,
   "id": "180d630c",
   "metadata": {},
   "outputs": [
    {
     "name": "stdout",
     "output_type": "stream",
     "text": [
      "              precision    recall  f1-score   support\n",
      "\n",
      "        -1.0       0.95      1.00      0.97       448\n",
      "         1.0       0.00      0.00      0.00        23\n",
      "\n",
      "    accuracy                           0.95       471\n",
      "   macro avg       0.48      0.50      0.49       471\n",
      "weighted avg       0.90      0.95      0.93       471\n",
      "\n",
      "[[447   1]\n",
      " [ 23   0]]\n"
     ]
    }
   ],
   "source": [
    "from sklearn import metrics\n",
    "from sklearn.metrics import recall_score\n",
    "test_pred = model.predict(X_test)\n",
    "\n",
    "print(metrics.classification_report(y_test, test_pred))\n",
    "print(metrics.confusion_matrix(y_test, test_pred))"
   ]
  },
  {
   "cell_type": "markdown",
   "id": "8d376cb2",
   "metadata": {},
   "source": [
    "#### Accuracy validation on data after upsampling "
   ]
  },
  {
   "cell_type": "code",
   "execution_count": 43,
   "id": "3da099d4",
   "metadata": {},
   "outputs": [
    {
     "name": "stdout",
     "output_type": "stream",
     "text": [
      "0.5902335456475584\n",
      "[[267 181]\n",
      " [ 12  11]]\n",
      "              precision    recall  f1-score   support\n",
      "\n",
      "        -1.0       0.96      0.60      0.73       448\n",
      "         1.0       0.06      0.48      0.10        23\n",
      "\n",
      "    accuracy                           0.59       471\n",
      "   macro avg       0.51      0.54      0.42       471\n",
      "weighted avg       0.91      0.59      0.70       471\n",
      "\n"
     ]
    }
   ],
   "source": [
    "# fit model on upsampled data \n",
    "\n",
    "model.fit(X_train_res, y_train_res)\n",
    "y_predict = model.predict(X_test)\n",
    "model_score = model.score(X_test, y_test)\n",
    "print(model_score)\n",
    "print(metrics.confusion_matrix(y_test, y_predict))\n",
    "print(metrics.classification_report(y_test, y_predict))"
   ]
  },
  {
   "cell_type": "markdown",
   "id": "1bc3403e",
   "metadata": {},
   "source": [
    "#### Increasing the dimenionality from 10 to 15 "
   ]
  },
  {
   "cell_type": "code",
   "execution_count": 44,
   "id": "4948adc2",
   "metadata": {
    "scrolled": false
   },
   "outputs": [
    {
     "name": "stdout",
     "output_type": "stream",
     "text": [
      "[[-6.07080973e-03 -6.76255130e-06 -3.85957819e-03 ... -4.08971921e-04\n",
      "  -1.18133832e-04  1.50329812e-02]\n",
      " [-2.48801709e-02  1.29194800e-02  8.97631929e-03 ...  2.15989124e-02\n",
      "   1.78786339e-02  1.74734950e-02]\n",
      " [-9.92212526e-03 -2.99665109e-03 -8.32020644e-03 ...  3.58557947e-04\n",
      "   8.10518987e-04 -1.05808722e-02]\n",
      " ...\n",
      " [-1.63410657e-02 -2.57594667e-03  3.35079676e-03 ... -8.97656555e-03\n",
      "  -9.10936640e-03  2.69954798e-02]\n",
      " [-1.63779317e-02  1.81979277e-02 -2.49023917e-02 ... -4.49061837e-02\n",
      "  -4.60465193e-02 -2.57558326e-02]\n",
      " [-1.07360968e-02  5.91038867e-03  2.22590575e-02 ... -3.34874913e-02\n",
      "  -3.68250793e-02 -7.70191386e-03]]\n",
      "[0.05558343 0.0364206  0.02823581 0.02544212 0.02190565 0.02076915\n",
      " 0.01974507 0.01834641 0.01799608 0.01621379 0.01459839 0.01329628\n",
      " 0.01310696 0.01276739 0.01260037]\n"
     ]
    }
   ],
   "source": [
    "pca_ = PCA(n_components=15)\n",
    "pca_.fit(XScaled_New)\n",
    "print(pca_.components_)\n",
    "print(pca_.explained_variance_ratio_)\n",
    "Xpca_ = pca_.transform(XScaled_New)"
   ]
  },
  {
   "cell_type": "code",
   "execution_count": 45,
   "id": "5eb8118a",
   "metadata": {},
   "outputs": [
    {
     "name": "stdout",
     "output_type": "stream",
     "text": [
      "(1567, 15)\n",
      "(1567,)\n"
     ]
    }
   ],
   "source": [
    "X = Xpca_\n",
    "y = y\n",
    "print(X.shape)\n",
    "print(y.shape)"
   ]
  },
  {
   "cell_type": "code",
   "execution_count": 46,
   "id": "82814bf7",
   "metadata": {},
   "outputs": [],
   "source": [
    "test_size = 0.3 # taking 70:30 training and test set\n",
    "seed = 7  # Random numbmer seeding for reapeatability of the code\n",
    "X_train, X_test, y_train, y_test = train_test_split(X, y, test_size=test_size, random_state=seed)"
   ]
  },
  {
   "cell_type": "code",
   "execution_count": 47,
   "id": "29971664",
   "metadata": {},
   "outputs": [
    {
     "name": "stdout",
     "output_type": "stream",
     "text": [
      "Before UpSampling, Fail - counts of label '1': 81\n",
      "Before UpSampling, Pass - counts of label '-1': 1015 \n",
      "\n",
      "After UpSampling, Fail - counts of label '1': 1015\n",
      "After UpSampling, Pass - counts of label '-1': 1015 \n",
      "\n",
      "After UpSampling, the shape of train_X: (2030, 15)\n",
      "After UpSampling, the shape of train_y: (2030,) \n",
      "\n"
     ]
    }
   ],
   "source": [
    "print(\"Before UpSampling, Fail - counts of label '1': {}\".format(sum(y_train==1)))\n",
    "print(\"Before UpSampling, Pass - counts of label '-1': {} \\n\".format(sum(y_train==-1)))\n",
    "\n",
    "#from collections import Counter\n",
    "#from sklearn.datasets import make_classification\n",
    "from imblearn.over_sampling import SMOTE\n",
    "#X, y = make_classification(n_classes=2, class_sep=2, weights=[0.1, 0.9], n_informative=3, n_redundant=1, flip_y=0, n_features=20, n_clusters_per_class=1, n_samples=1000, random_state=10)\n",
    "sm = SMOTE(sampling_strategy = 1 ,k_neighbors = 5, random_state=1)   #Synthetic Minority Over Sampling Technique\n",
    "#sm = SMOTE(random_state=42)\n",
    "X_train_res, y_train_res = sm.fit_resample(X_train, y_train.ravel())\n",
    "\n",
    "print(\"After UpSampling, Fail - counts of label '1': {}\".format(sum(y_train_res==1)))\n",
    "print(\"After UpSampling, Pass - counts of label '-1': {} \\n\".format(sum(y_train_res==-1)))\n",
    "\n",
    "print('After UpSampling, the shape of train_X: {}'.format(X_train_res.shape))\n",
    "print('After UpSampling, the shape of train_y: {} \\n'.format(y_train_res.shape))"
   ]
  },
  {
   "cell_type": "code",
   "execution_count": 48,
   "id": "0a2edc7f",
   "metadata": {},
   "outputs": [
    {
     "name": "stdout",
     "output_type": "stream",
     "text": [
      "0.9511677282377919\n"
     ]
    }
   ],
   "source": [
    "# Fit the model on original data i.e. before upsampling\n",
    "model = LogisticRegression()\n",
    "model.fit(X_train, y_train)\n",
    "y_predict = model.predict(X_test)\n",
    "model_score = model.score(X_test, y_test)\n",
    "print(model_score)"
   ]
  },
  {
   "cell_type": "markdown",
   "id": "51c85efc",
   "metadata": {},
   "source": [
    "#### Accuracy validation on data after upsampling on the 15 dimensions "
   ]
  },
  {
   "cell_type": "code",
   "execution_count": 49,
   "id": "3eddd8d0",
   "metadata": {},
   "outputs": [
    {
     "name": "stdout",
     "output_type": "stream",
     "text": [
      "              precision    recall  f1-score   support\n",
      "\n",
      "        -1.0       0.95      1.00      0.97       448\n",
      "         1.0       0.00      0.00      0.00        23\n",
      "\n",
      "    accuracy                           0.95       471\n",
      "   macro avg       0.48      0.50      0.49       471\n",
      "weighted avg       0.90      0.95      0.93       471\n",
      "\n",
      "[[448   0]\n",
      " [ 23   0]]\n"
     ]
    },
    {
     "name": "stderr",
     "output_type": "stream",
     "text": [
      "/Users/abishekfranklin/opt/anaconda3/lib/python3.8/site-packages/sklearn/metrics/_classification.py:1308: UndefinedMetricWarning: Precision and F-score are ill-defined and being set to 0.0 in labels with no predicted samples. Use `zero_division` parameter to control this behavior.\n",
      "  _warn_prf(average, modifier, msg_start, len(result))\n",
      "/Users/abishekfranklin/opt/anaconda3/lib/python3.8/site-packages/sklearn/metrics/_classification.py:1308: UndefinedMetricWarning: Precision and F-score are ill-defined and being set to 0.0 in labels with no predicted samples. Use `zero_division` parameter to control this behavior.\n",
      "  _warn_prf(average, modifier, msg_start, len(result))\n",
      "/Users/abishekfranklin/opt/anaconda3/lib/python3.8/site-packages/sklearn/metrics/_classification.py:1308: UndefinedMetricWarning: Precision and F-score are ill-defined and being set to 0.0 in labels with no predicted samples. Use `zero_division` parameter to control this behavior.\n",
      "  _warn_prf(average, modifier, msg_start, len(result))\n"
     ]
    }
   ],
   "source": [
    "from sklearn import metrics\n",
    "from sklearn.metrics import recall_score\n",
    "test_pred = model.predict(X_test)\n",
    "\n",
    "print(metrics.classification_report(y_test, test_pred))\n",
    "print(metrics.confusion_matrix(y_test, test_pred))"
   ]
  },
  {
   "cell_type": "code",
   "execution_count": 50,
   "id": "810e11cf",
   "metadata": {},
   "outputs": [
    {
     "name": "stdout",
     "output_type": "stream",
     "text": [
      "0.613588110403397\n",
      "[[276 172]\n",
      " [ 10  13]]\n",
      "              precision    recall  f1-score   support\n",
      "\n",
      "        -1.0       0.97      0.62      0.75       448\n",
      "         1.0       0.07      0.57      0.12        23\n",
      "\n",
      "    accuracy                           0.61       471\n",
      "   macro avg       0.52      0.59      0.44       471\n",
      "weighted avg       0.92      0.61      0.72       471\n",
      "\n"
     ]
    }
   ],
   "source": [
    "# fit model on upsampled data \n",
    "\n",
    "model.fit(X_train_res, y_train_res)\n",
    "y_predict = model.predict(X_test)\n",
    "model_score = model.score(X_test, y_test)\n",
    "print(model_score)\n",
    "print(metrics.confusion_matrix(y_test, y_predict))\n",
    "print(metrics.classification_report(y_test, y_predict))"
   ]
  },
  {
   "cell_type": "markdown",
   "id": "c1258771",
   "metadata": {},
   "source": [
    "#### Now trying the dimensionality from 15 to 20 "
   ]
  },
  {
   "cell_type": "code",
   "execution_count": 51,
   "id": "1bf62a96",
   "metadata": {},
   "outputs": [
    {
     "name": "stdout",
     "output_type": "stream",
     "text": [
      "0.9511677282377919\n"
     ]
    }
   ],
   "source": [
    "pca_ = PCA(n_components=20)\n",
    "pca_.fit(XScaled_New)\n",
    "Xpca_ = pca_.transform(XScaled_New)\n",
    "X = Xpca_\n",
    "test_size = 0.3 # taking 70:30 training and test set\n",
    "seed = 7  # Random numbmer seeding for reapeatability of the code\n",
    "X_train, X_test, y_train, y_test = train_test_split(X, y, test_size=test_size, random_state=seed)\n",
    "sm = SMOTE(sampling_strategy = 1 ,k_neighbors = 5, random_state=1)   #Synthetic Minority Over Sampling Technique\n",
    "X_train_res, y_train_res = sm.fit_resample(X_train, y_train.ravel())\n",
    "# Fit the model on original data i.e. before upsampling\n",
    "model = LogisticRegression()\n",
    "model.fit(X_train, y_train)\n",
    "y_predict = model.predict(X_test)\n",
    "model_score = model.score(X_test, y_test)\n",
    "print(model_score)"
   ]
  },
  {
   "cell_type": "code",
   "execution_count": 52,
   "id": "1bdbdbb6",
   "metadata": {},
   "outputs": [
    {
     "name": "stdout",
     "output_type": "stream",
     "text": [
      "              precision    recall  f1-score   support\n",
      "\n",
      "        -1.0       0.95      1.00      0.97       448\n",
      "         1.0       0.00      0.00      0.00        23\n",
      "\n",
      "    accuracy                           0.95       471\n",
      "   macro avg       0.48      0.50      0.49       471\n",
      "weighted avg       0.90      0.95      0.93       471\n",
      "\n",
      "[[448   0]\n",
      " [ 23   0]]\n"
     ]
    },
    {
     "name": "stderr",
     "output_type": "stream",
     "text": [
      "/Users/abishekfranklin/opt/anaconda3/lib/python3.8/site-packages/sklearn/metrics/_classification.py:1308: UndefinedMetricWarning: Precision and F-score are ill-defined and being set to 0.0 in labels with no predicted samples. Use `zero_division` parameter to control this behavior.\n",
      "  _warn_prf(average, modifier, msg_start, len(result))\n",
      "/Users/abishekfranklin/opt/anaconda3/lib/python3.8/site-packages/sklearn/metrics/_classification.py:1308: UndefinedMetricWarning: Precision and F-score are ill-defined and being set to 0.0 in labels with no predicted samples. Use `zero_division` parameter to control this behavior.\n",
      "  _warn_prf(average, modifier, msg_start, len(result))\n",
      "/Users/abishekfranklin/opt/anaconda3/lib/python3.8/site-packages/sklearn/metrics/_classification.py:1308: UndefinedMetricWarning: Precision and F-score are ill-defined and being set to 0.0 in labels with no predicted samples. Use `zero_division` parameter to control this behavior.\n",
      "  _warn_prf(average, modifier, msg_start, len(result))\n"
     ]
    }
   ],
   "source": [
    "test_pred = model.predict(X_test)\n",
    "\n",
    "print(metrics.classification_report(y_test, test_pred))\n",
    "print(metrics.confusion_matrix(y_test, test_pred))"
   ]
  },
  {
   "cell_type": "code",
   "execution_count": 53,
   "id": "b99668af",
   "metadata": {},
   "outputs": [
    {
     "name": "stdout",
     "output_type": "stream",
     "text": [
      "0.6305732484076433\n",
      "[[284 164]\n",
      " [ 10  13]]\n",
      "              precision    recall  f1-score   support\n",
      "\n",
      "        -1.0       0.97      0.63      0.77       448\n",
      "         1.0       0.07      0.57      0.13        23\n",
      "\n",
      "    accuracy                           0.63       471\n",
      "   macro avg       0.52      0.60      0.45       471\n",
      "weighted avg       0.92      0.63      0.73       471\n",
      "\n"
     ]
    }
   ],
   "source": [
    "model.fit(X_train_res, y_train_res)\n",
    "y_predict = model.predict(X_test)\n",
    "model_score = model.score(X_test, y_test)\n",
    "print(model_score)\n",
    "print(metrics.confusion_matrix(y_test, y_predict))\n",
    "print(metrics.classification_report(y_test, y_predict))"
   ]
  },
  {
   "cell_type": "markdown",
   "id": "5a71a431",
   "metadata": {},
   "source": [
    "#### Insights: "
   ]
  },
  {
   "cell_type": "markdown",
   "id": "7004624f",
   "metadata": {},
   "source": [
    "On applying PCA to 10 dimensions the accuracy was 59%\n",
    "And on increasing it from 10 to 15 then the accuracy was 61%\n",
    "So while we increased it to 20 it was 63%\n",
    "\n",
    "Hence we see that be increasing the dimensions by 5 given was just 2% increase in the accuracy.\n",
    "So I'm choosing 15 dimension/features"
   ]
  },
  {
   "cell_type": "markdown",
   "id": "3e28a690",
   "metadata": {},
   "source": [
    "#### Applying Random Over Sampling to the data "
   ]
  },
  {
   "cell_type": "code",
   "execution_count": 54,
   "id": "2663f399",
   "metadata": {},
   "outputs": [],
   "source": [
    "from imblearn.over_sampling import RandomOverSampler\n",
    "\n",
    "ros = RandomOverSampler()\n",
    "\n",
    "X_ros, y_ros = ros.fit_resample(X_train, y_train)"
   ]
  },
  {
   "cell_type": "code",
   "execution_count": 55,
   "id": "c80aff73",
   "metadata": {},
   "outputs": [
    {
     "data": {
      "text/plain": [
       "array([ 1., -1., -1., ...,  1.,  1.,  1.])"
      ]
     },
     "execution_count": 55,
     "metadata": {},
     "output_type": "execute_result"
    }
   ],
   "source": [
    "y_ros"
   ]
  },
  {
   "cell_type": "code",
   "execution_count": 56,
   "id": "21d7edb2",
   "metadata": {},
   "outputs": [
    {
     "data": {
      "text/plain": [
       "(2030,)"
      ]
     },
     "execution_count": 56,
     "metadata": {},
     "output_type": "execute_result"
    }
   ],
   "source": [
    "y_ros.shape"
   ]
  },
  {
   "cell_type": "code",
   "execution_count": 57,
   "id": "702565fd",
   "metadata": {},
   "outputs": [
    {
     "data": {
      "text/plain": [
       "(2030, 20)"
      ]
     },
     "execution_count": 57,
     "metadata": {},
     "output_type": "execute_result"
    }
   ],
   "source": [
    "X_ros.shape"
   ]
  },
  {
   "cell_type": "markdown",
   "id": "61d3d900",
   "metadata": {},
   "source": [
    "#### Applying random under sampling "
   ]
  },
  {
   "cell_type": "code",
   "execution_count": 58,
   "id": "12b11318",
   "metadata": {},
   "outputs": [],
   "source": [
    "from imblearn.under_sampling import TomekLinks\n",
    "tl = TomekLinks()\n",
    "X_tl, y_tl = tl.fit_resample(X_train, y_train)   # id_tl is removed instances of majority class"
   ]
  },
  {
   "cell_type": "code",
   "execution_count": 59,
   "id": "4614af5a",
   "metadata": {},
   "outputs": [
    {
     "data": {
      "text/plain": [
       "(1066,)"
      ]
     },
     "execution_count": 59,
     "metadata": {},
     "output_type": "execute_result"
    }
   ],
   "source": [
    "y_tl.shape"
   ]
  },
  {
   "cell_type": "code",
   "execution_count": 60,
   "id": "ff171c01",
   "metadata": {},
   "outputs": [
    {
     "data": {
      "text/plain": [
       "(1066, 20)"
      ]
     },
     "execution_count": 60,
     "metadata": {},
     "output_type": "execute_result"
    }
   ],
   "source": [
    "X_tl.shape"
   ]
  },
  {
   "cell_type": "markdown",
   "id": "b845a3af",
   "metadata": {},
   "source": [
    "#### Implementing ROC for both Logistic Regression & SVM models "
   ]
  },
  {
   "cell_type": "code",
   "execution_count": 61,
   "id": "f1aa00f4",
   "metadata": {},
   "outputs": [],
   "source": [
    "from sklearn import svm\n",
    "from sklearn.metrics import roc_curve, auc\n",
    "X_train, X_test, y_train, y_test = train_test_split(X, y, test_size=0.50, random_state=1)\n",
    "classifier1 = LogisticRegression()\n",
    "classifier2 = svm.SVC(kernel='linear', probability=True)\n",
    "probas1_ = classifier1.fit(X_train, y_train).predict_proba(X_test)\n",
    "probas2_ = classifier2.fit(X_train, y_train).predict_proba(X_test)"
   ]
  },
  {
   "cell_type": "code",
   "execution_count": 62,
   "id": "46e9c806",
   "metadata": {},
   "outputs": [
    {
     "name": "stdout",
     "output_type": "stream",
     "text": [
      "Area under the ROC curve : 0.689269\n"
     ]
    }
   ],
   "source": [
    "# Compute ROC curve and area the curve for logistic\n",
    "fpr1, tpr1, thresholds1 = roc_curve(y_test, probas1_[:, 1])\n",
    "roc_auc1 = auc(fpr1, tpr1)\n",
    "print(\"Area under the ROC curve : %f\" % roc_auc1)"
   ]
  },
  {
   "cell_type": "code",
   "execution_count": 63,
   "id": "b4dddd17",
   "metadata": {},
   "outputs": [
    {
     "name": "stdout",
     "output_type": "stream",
     "text": [
      "Area under the ROC curve : 0.493480\n"
     ]
    }
   ],
   "source": [
    "# Compute ROC curve and area the curve\n",
    "fpr2, tpr2, thresholds2 = roc_curve(y_test, probas2_[:, 1])\n",
    "roc_auc2 = auc(fpr2, tpr2)\n",
    "print(\"Area under the ROC curve : %f\" % roc_auc2)"
   ]
  },
  {
   "cell_type": "code",
   "execution_count": 64,
   "id": "61a111ec",
   "metadata": {},
   "outputs": [
    {
     "data": {
      "image/png": "[encoded data removed]",
      "text/plain": [
       "<Figure size 432x288 with 1 Axes>"
      ]
     },
     "metadata": {
      "needs_background": "light"
     },
     "output_type": "display_data"
    }
   ],
   "source": [
    "# Plot ROC curve\n",
    "import pylab as pl\n",
    "pl.clf()\n",
    "pl.plot(fpr1, tpr1, label='ROC curve for logistic (area = %0.2f)' % roc_auc1)\n",
    "pl.plot(fpr2, tpr2, label='ROC curve for SVC (area = %0.2f)' % roc_auc2)\n",
    "pl.plot([0, 1], [0, 1], 'k--')\n",
    "pl.xlim([0.0, 1.0])\n",
    "pl.ylim([0.0, 1.0])\n",
    "pl.xlabel('False Positive Rate')\n",
    "pl.ylabel('True Positive Rate')\n",
    "pl.title('Receiverrating characteristic example')\n",
    "pl.legend(loc=\"lower right\")\n",
    "pl.show()"
   ]
  },
  {
   "cell_type": "markdown",
   "id": "4d32ab6a",
   "metadata": {},
   "source": [
    "#### Testing accuracy using KNN "
   ]
  },
  {
   "cell_type": "code",
   "execution_count": 65,
   "id": "ea67b2d3",
   "metadata": {},
   "outputs": [],
   "source": [
    "from sklearn.model_selection import train_test_split, cross_val_score\n",
    "\n",
    "X_train, X_test, y_train, y_test = train_test_split(X, y, stratify = y,random_state = 7)"
   ]
  },
  {
   "cell_type": "code",
   "execution_count": 66,
   "id": "1162a5fc",
   "metadata": {},
   "outputs": [],
   "source": [
    "from sklearn.neighbors import KNeighborsClassifier\n",
    "### Number of nearest neighbors\n",
    "knn_clf = KNeighborsClassifier()"
   ]
  },
  {
   "cell_type": "code",
   "execution_count": 67,
   "id": "ebec84de",
   "metadata": {},
   "outputs": [
    {
     "data": {
      "text/plain": [
       "KNeighborsClassifier()"
      ]
     },
     "execution_count": 67,
     "metadata": {},
     "output_type": "execute_result"
    }
   ],
   "source": [
    "knn_clf.fit(X_train, y_train)"
   ]
  },
  {
   "cell_type": "code",
   "execution_count": 68,
   "id": "6bf0b21c",
   "metadata": {},
   "outputs": [],
   "source": [
    "from sklearn.metrics import accuracy_score\n",
    "param_grid = {'n_neighbors': list(range(1,9)),'algorithm': ('auto', 'ball_tree', 'kd_tree' , 'brute') }"
   ]
  },
  {
   "cell_type": "markdown",
   "id": "5a3d1ad7",
   "metadata": {},
   "source": [
    "#### Trying Grid Search for KNN "
   ]
  },
  {
   "cell_type": "code",
   "execution_count": 69,
   "id": "e4d30ab1",
   "metadata": {},
   "outputs": [],
   "source": [
    "from sklearn.model_selection import GridSearchCV\n",
    "gs = GridSearchCV(knn_clf,param_grid,cv=10)"
   ]
  },
  {
   "cell_type": "code",
   "execution_count": 70,
   "id": "0a990728",
   "metadata": {},
   "outputs": [
    {
     "data": {
      "text/plain": [
       "GridSearchCV(cv=10, estimator=KNeighborsClassifier(),\n",
       "             param_grid={'algorithm': ('auto', 'ball_tree', 'kd_tree', 'brute'),\n",
       "                         'n_neighbors': [1, 2, 3, 4, 5, 6, 7, 8]})"
      ]
     },
     "execution_count": 70,
     "metadata": {},
     "output_type": "execute_result"
    }
   ],
   "source": [
    "gs.fit(X_train, y_train)"
   ]
  },
  {
   "cell_type": "code",
   "execution_count": 71,
   "id": "f9aaa98d",
   "metadata": {
    "scrolled": true
   },
   "outputs": [
    {
     "data": {
      "text/plain": [
       "{'algorithm': 'auto', 'n_neighbors': 8}"
      ]
     },
     "execution_count": 71,
     "metadata": {},
     "output_type": "execute_result"
    }
   ],
   "source": [
    "gs.best_params_"
   ]
  },
  {
   "cell_type": "code",
   "execution_count": 72,
   "id": "6555f411",
   "metadata": {},
   "outputs": [
    {
     "data": {
      "text/plain": [
       "[{'algorithm': 'auto', 'n_neighbors': 1},\n",
       " {'algorithm': 'auto', 'n_neighbors': 2},\n",
       " {'algorithm': 'auto', 'n_neighbors': 3},\n",
       " {'algorithm': 'auto', 'n_neighbors': 4},\n",
       " {'algorithm': 'auto', 'n_neighbors': 5},\n",
       " {'algorithm': 'auto', 'n_neighbors': 6},\n",
       " {'algorithm': 'auto', 'n_neighbors': 7},\n",
       " {'algorithm': 'auto', 'n_neighbors': 8},\n",
       " {'algorithm': 'ball_tree', 'n_neighbors': 1},\n",
       " {'algorithm': 'ball_tree', 'n_neighbors': 2},\n",
       " {'algorithm': 'ball_tree', 'n_neighbors': 3},\n",
       " {'algorithm': 'ball_tree', 'n_neighbors': 4},\n",
       " {'algorithm': 'ball_tree', 'n_neighbors': 5},\n",
       " {'algorithm': 'ball_tree', 'n_neighbors': 6},\n",
       " {'algorithm': 'ball_tree', 'n_neighbors': 7},\n",
       " {'algorithm': 'ball_tree', 'n_neighbors': 8},\n",
       " {'algorithm': 'kd_tree', 'n_neighbors': 1},\n",
       " {'algorithm': 'kd_tree', 'n_neighbors': 2},\n",
       " {'algorithm': 'kd_tree', 'n_neighbors': 3},\n",
       " {'algorithm': 'kd_tree', 'n_neighbors': 4},\n",
       " {'algorithm': 'kd_tree', 'n_neighbors': 5},\n",
       " {'algorithm': 'kd_tree', 'n_neighbors': 6},\n",
       " {'algorithm': 'kd_tree', 'n_neighbors': 7},\n",
       " {'algorithm': 'kd_tree', 'n_neighbors': 8},\n",
       " {'algorithm': 'brute', 'n_neighbors': 1},\n",
       " {'algorithm': 'brute', 'n_neighbors': 2},\n",
       " {'algorithm': 'brute', 'n_neighbors': 3},\n",
       " {'algorithm': 'brute', 'n_neighbors': 4},\n",
       " {'algorithm': 'brute', 'n_neighbors': 5},\n",
       " {'algorithm': 'brute', 'n_neighbors': 6},\n",
       " {'algorithm': 'brute', 'n_neighbors': 7},\n",
       " {'algorithm': 'brute', 'n_neighbors': 8}]"
      ]
     },
     "execution_count": 72,
     "metadata": {},
     "output_type": "execute_result"
    }
   ],
   "source": [
    "gs.cv_results_['params']"
   ]
  },
  {
   "cell_type": "code",
   "execution_count": 73,
   "id": "a12d29a4",
   "metadata": {},
   "outputs": [
    {
     "data": {
      "text/plain": [
       "array([0.88682457, 0.92850934, 0.92172244, 0.93021875, 0.92680719,\n",
       "       0.9319209 , 0.9319209 , 0.93362306, 0.88682457, 0.92850934,\n",
       "       0.92172244, 0.93021875, 0.92680719, 0.9319209 , 0.9319209 ,\n",
       "       0.93362306, 0.88682457, 0.92850934, 0.92172244, 0.93021875,\n",
       "       0.92680719, 0.9319209 , 0.9319209 , 0.93362306, 0.88682457,\n",
       "       0.92850934, 0.92172244, 0.93021875, 0.92680719, 0.9319209 ,\n",
       "       0.9319209 , 0.93362306])"
      ]
     },
     "execution_count": 73,
     "metadata": {},
     "output_type": "execute_result"
    }
   ],
   "source": [
    "gs.cv_results_['mean_test_score']"
   ]
  },
  {
   "cell_type": "markdown",
   "id": "2b8641ba",
   "metadata": {},
   "source": [
    "#### Applying Grid Search to Test set using Standard Scalar, PCA and Logistic regression"
   ]
  },
  {
   "cell_type": "code",
   "execution_count": 104,
   "id": "c62e2456",
   "metadata": {},
   "outputs": [
    {
     "name": "stdout",
     "output_type": "stream",
     "text": [
      "Test Accuracy: 0.934\n"
     ]
    }
   ],
   "source": [
    "from sklearn.preprocessing import StandardScaler \n",
    "from sklearn.decomposition import PCA \n",
    "from sklearn.linear_model import LogisticRegression \n",
    "from sklearn.pipeline import Pipeline \n",
    "\n",
    "pipe_lr = Pipeline([('scl', StandardScaler()), ('pca', PCA(n_components=15)), ('clf', LogisticRegression(random_state=1))]) \n",
    "pipe_lr.fit(X_train, y_train) \n",
    "print('Test Accuracy: %.3f' % pipe_lr.score(X_test, y_test))"
   ]
  },
  {
   "cell_type": "code",
   "execution_count": 75,
   "id": "08bf6c4a",
   "metadata": {},
   "outputs": [
    {
     "name": "stdout",
     "output_type": "stream",
     "text": [
      " Best cross-validation accuracy: 0.93\n",
      " Best parameters:  {'pca__n_components': 14, 'svc__C': 0.001, 'svc__gamma': 0.001, 'svc__kernel': 'rbf'}\n"
     ]
    }
   ],
   "source": [
    "from sklearn.model_selection import GridSearchCV\n",
    "from sklearn.svm import SVC \n",
    "\n",
    "pipe_svc = Pipeline([('scl', StandardScaler()), ('pca', PCA()), ('svc', SVC())]) \n",
    "#pipe_svc = Pipeline([('pca', PCA(n_components=20)), ('svc', SVC())]) \n",
    "\n",
    "param_grid = {'pca__n_components':[14,15],'svc__C': [0.001, 0.01, 0.1, 1, 10, 100], 'svc__gamma': [0.001, 0.01, 0.1, 1, 10], 'svc__kernel':['rbf','poly']} \n",
    "\n",
    "grid = GridSearchCV( pipe_svc , param_grid = param_grid, cv = 5) \n",
    "\n",
    "grid.fit( X_train, y_train) \n",
    "\n",
    "print(\" Best cross-validation accuracy: {:.2f}\". format( grid.best_score_)) \n",
    "print(\" Best parameters: \", grid.best_params_) "
   ]
  },
  {
   "cell_type": "markdown",
   "id": "9dfaedb8",
   "metadata": {},
   "source": [
    "#### Importing the prediction Dataset "
   ]
  },
  {
   "cell_type": "code",
   "execution_count": 76,
   "id": "dd4eb9af",
   "metadata": {},
   "outputs": [
    {
     "data": {
      "text/html": [
       "<div>\n",
       "<style scoped>\n",
       "    .dataframe tbody tr th:only-of-type {\n",
       "        vertical-align: middle;\n",
       "    }\n",
       "\n",
       "    .dataframe tbody tr th {\n",
       "        vertical-align: top;\n",
       "    }\n",
       "\n",
       "    .dataframe thead th {\n",
       "        text-align: right;\n",
       "    }\n",
       "</style>\n",
       "<table border=\"1\" class=\"dataframe\">\n",
       "  <thead>\n",
       "    <tr style=\"text-align: right;\">\n",
       "      <th></th>\n",
       "      <th>Time</th>\n",
       "      <th>0</th>\n",
       "      <th>1</th>\n",
       "      <th>2</th>\n",
       "      <th>3</th>\n",
       "      <th>4</th>\n",
       "      <th>5</th>\n",
       "      <th>6</th>\n",
       "      <th>7</th>\n",
       "      <th>8</th>\n",
       "      <th>...</th>\n",
       "      <th>580</th>\n",
       "      <th>581</th>\n",
       "      <th>582</th>\n",
       "      <th>583</th>\n",
       "      <th>584</th>\n",
       "      <th>585</th>\n",
       "      <th>586</th>\n",
       "      <th>587</th>\n",
       "      <th>588</th>\n",
       "      <th>589</th>\n",
       "    </tr>\n",
       "  </thead>\n",
       "  <tbody>\n",
       "    <tr>\n",
       "      <th>0</th>\n",
       "      <td>2008-07-19 11:55:00</td>\n",
       "      <td>3030.93</td>\n",
       "      <td>2564.00</td>\n",
       "      <td>2187.7333</td>\n",
       "      <td>1411.1265</td>\n",
       "      <td>1.3602</td>\n",
       "      <td>100</td>\n",
       "      <td>97.6133</td>\n",
       "      <td>0.1242</td>\n",
       "      <td>1.5005</td>\n",
       "      <td>...</td>\n",
       "      <td>NaN</td>\n",
       "      <td>NaN</td>\n",
       "      <td>0.5005</td>\n",
       "      <td>0.0118</td>\n",
       "      <td>0.0035</td>\n",
       "      <td>2.3630</td>\n",
       "      <td>NaN</td>\n",
       "      <td>NaN</td>\n",
       "      <td>NaN</td>\n",
       "      <td>NaN</td>\n",
       "    </tr>\n",
       "    <tr>\n",
       "      <th>1</th>\n",
       "      <td>2008-07-19 12:32:00</td>\n",
       "      <td>3095.78</td>\n",
       "      <td>2465.14</td>\n",
       "      <td>2230.4222</td>\n",
       "      <td>1463.6606</td>\n",
       "      <td>0.8294</td>\n",
       "      <td>100</td>\n",
       "      <td>102.3433</td>\n",
       "      <td>0.1247</td>\n",
       "      <td>1.4966</td>\n",
       "      <td>...</td>\n",
       "      <td>0.0060</td>\n",
       "      <td>208.2045</td>\n",
       "      <td>0.5019</td>\n",
       "      <td>0.0223</td>\n",
       "      <td>0.0055</td>\n",
       "      <td>4.4447</td>\n",
       "      <td>0.0096</td>\n",
       "      <td>0.0201</td>\n",
       "      <td>0.0060</td>\n",
       "      <td>208.2045</td>\n",
       "    </tr>\n",
       "    <tr>\n",
       "      <th>2</th>\n",
       "      <td>2008-07-19 13:17:00</td>\n",
       "      <td>2932.61</td>\n",
       "      <td>2559.94</td>\n",
       "      <td>2186.4111</td>\n",
       "      <td>1698.0172</td>\n",
       "      <td>1.5102</td>\n",
       "      <td>100</td>\n",
       "      <td>95.4878</td>\n",
       "      <td>0.1241</td>\n",
       "      <td>1.4436</td>\n",
       "      <td>...</td>\n",
       "      <td>0.0148</td>\n",
       "      <td>82.8602</td>\n",
       "      <td>0.4958</td>\n",
       "      <td>0.0157</td>\n",
       "      <td>0.0039</td>\n",
       "      <td>3.1745</td>\n",
       "      <td>0.0584</td>\n",
       "      <td>0.0484</td>\n",
       "      <td>0.0148</td>\n",
       "      <td>82.8602</td>\n",
       "    </tr>\n",
       "    <tr>\n",
       "      <th>3</th>\n",
       "      <td>2008-07-19 14:43:00</td>\n",
       "      <td>2988.72</td>\n",
       "      <td>2479.90</td>\n",
       "      <td>2199.0333</td>\n",
       "      <td>909.7926</td>\n",
       "      <td>1.3204</td>\n",
       "      <td>100</td>\n",
       "      <td>104.2367</td>\n",
       "      <td>0.1217</td>\n",
       "      <td>1.4882</td>\n",
       "      <td>...</td>\n",
       "      <td>0.0044</td>\n",
       "      <td>73.8432</td>\n",
       "      <td>0.4990</td>\n",
       "      <td>0.0103</td>\n",
       "      <td>0.0025</td>\n",
       "      <td>2.0544</td>\n",
       "      <td>0.0202</td>\n",
       "      <td>0.0149</td>\n",
       "      <td>0.0044</td>\n",
       "      <td>73.8432</td>\n",
       "    </tr>\n",
       "    <tr>\n",
       "      <th>4</th>\n",
       "      <td>2008-07-19 15:22:00</td>\n",
       "      <td>3032.24</td>\n",
       "      <td>2502.87</td>\n",
       "      <td>2233.3667</td>\n",
       "      <td>1326.5200</td>\n",
       "      <td>1.5334</td>\n",
       "      <td>100</td>\n",
       "      <td>100.3967</td>\n",
       "      <td>0.1235</td>\n",
       "      <td>1.5031</td>\n",
       "      <td>...</td>\n",
       "      <td>NaN</td>\n",
       "      <td>NaN</td>\n",
       "      <td>0.4800</td>\n",
       "      <td>0.4766</td>\n",
       "      <td>0.1045</td>\n",
       "      <td>99.3032</td>\n",
       "      <td>0.0202</td>\n",
       "      <td>0.0149</td>\n",
       "      <td>0.0044</td>\n",
       "      <td>73.8432</td>\n",
       "    </tr>\n",
       "  </tbody>\n",
       "</table>\n",
       "<p>5 rows × 591 columns</p>\n",
       "</div>"
      ],
      "text/plain": [
       "                 Time        0        1          2          3       4    5  \\\n",
       "0 2008-07-19 11:55:00  3030.93  2564.00  2187.7333  1411.1265  1.3602  100   \n",
       "1 2008-07-19 12:32:00  3095.78  2465.14  2230.4222  1463.6606  0.8294  100   \n",
       "2 2008-07-19 13:17:00  2932.61  2559.94  2186.4111  1698.0172  1.5102  100   \n",
       "3 2008-07-19 14:43:00  2988.72  2479.90  2199.0333   909.7926  1.3204  100   \n",
       "4 2008-07-19 15:22:00  3032.24  2502.87  2233.3667  1326.5200  1.5334  100   \n",
       "\n",
       "          6       7       8  ...     580       581     582     583     584  \\\n",
       "0   97.6133  0.1242  1.5005  ...     NaN       NaN  0.5005  0.0118  0.0035   \n",
       "1  102.3433  0.1247  1.4966  ...  0.0060  208.2045  0.5019  0.0223  0.0055   \n",
       "2   95.4878  0.1241  1.4436  ...  0.0148   82.8602  0.4958  0.0157  0.0039   \n",
       "3  104.2367  0.1217  1.4882  ...  0.0044   73.8432  0.4990  0.0103  0.0025   \n",
       "4  100.3967  0.1235  1.5031  ...     NaN       NaN  0.4800  0.4766  0.1045   \n",
       "\n",
       "       585     586     587     588       589  \n",
       "0   2.3630     NaN     NaN     NaN       NaN  \n",
       "1   4.4447  0.0096  0.0201  0.0060  208.2045  \n",
       "2   3.1745  0.0584  0.0484  0.0148   82.8602  \n",
       "3   2.0544  0.0202  0.0149  0.0044   73.8432  \n",
       "4  99.3032  0.0202  0.0149  0.0044   73.8432  \n",
       "\n",
       "[5 rows x 591 columns]"
      ]
     },
     "execution_count": 76,
     "metadata": {},
     "output_type": "execute_result"
    }
   ],
   "source": [
    "df_pred = pd.read_excel (r'Future_predictions.xlsx')\n",
    "df_pred.head()"
   ]
  },
  {
   "cell_type": "markdown",
   "id": "a8dbfd48",
   "metadata": {},
   "source": [
    "#### Data Cleansing for the Prediction set"
   ]
  },
  {
   "cell_type": "code",
   "execution_count": 77,
   "id": "d0ef50d7",
   "metadata": {},
   "outputs": [
    {
     "data": {
      "text/plain": [
       "0    2008-07-19 11:55:00\n",
       "1    2008-07-19 12:32:00\n",
       "2    2008-07-19 13:17:00\n",
       "3    2008-07-19 14:43:00\n",
       "4    2008-07-19 15:22:00\n",
       "5    2008-07-19 17:53:00\n",
       "6    2008-07-19 19:44:00\n",
       "7    2008-07-19 19:45:00\n",
       "8    2008-07-19 20:24:00\n",
       "9    2008-07-19 21:35:00\n",
       "10   2008-07-19 21:57:00\n",
       "11   2008-07-19 22:52:00\n",
       "12   2008-07-20 03:35:00\n",
       "13   2008-07-21 08:21:00\n",
       "14   2008-07-21 11:53:00\n",
       "15   2008-07-22 00:03:00\n",
       "16   2008-07-22 02:59:00\n",
       "17   2008-07-22 08:41:00\n",
       "Name: Time, dtype: datetime64[ns]"
      ]
     },
     "execution_count": 77,
     "metadata": {},
     "output_type": "execute_result"
    }
   ],
   "source": [
    "df_pred.pop('Time')"
   ]
  },
  {
   "cell_type": "code",
   "execution_count": 78,
   "id": "2bb84cfa",
   "metadata": {},
   "outputs": [],
   "source": [
    "Xtest = df_pred"
   ]
  },
  {
   "cell_type": "code",
   "execution_count": 79,
   "id": "9571e8df",
   "metadata": {},
   "outputs": [],
   "source": [
    "imp_mean = SimpleImputer(missing_values=np.nan, strategy='median')"
   ]
  },
  {
   "cell_type": "code",
   "execution_count": 80,
   "id": "b1eb5b8f",
   "metadata": {},
   "outputs": [
    {
     "data": {
      "text/html": [
       "<div>\n",
       "<style scoped>\n",
       "    .dataframe tbody tr th:only-of-type {\n",
       "        vertical-align: middle;\n",
       "    }\n",
       "\n",
       "    .dataframe tbody tr th {\n",
       "        vertical-align: top;\n",
       "    }\n",
       "\n",
       "    .dataframe thead th {\n",
       "        text-align: right;\n",
       "    }\n",
       "</style>\n",
       "<table border=\"1\" class=\"dataframe\">\n",
       "  <thead>\n",
       "    <tr style=\"text-align: right;\">\n",
       "      <th></th>\n",
       "      <th>0</th>\n",
       "      <th>1</th>\n",
       "      <th>2</th>\n",
       "      <th>3</th>\n",
       "      <th>4</th>\n",
       "      <th>5</th>\n",
       "      <th>6</th>\n",
       "      <th>7</th>\n",
       "      <th>8</th>\n",
       "      <th>9</th>\n",
       "      <th>...</th>\n",
       "      <th>580</th>\n",
       "      <th>581</th>\n",
       "      <th>582</th>\n",
       "      <th>583</th>\n",
       "      <th>584</th>\n",
       "      <th>585</th>\n",
       "      <th>586</th>\n",
       "      <th>587</th>\n",
       "      <th>588</th>\n",
       "      <th>589</th>\n",
       "    </tr>\n",
       "  </thead>\n",
       "  <tbody>\n",
       "    <tr>\n",
       "      <th>0</th>\n",
       "      <td>0.633604</td>\n",
       "      <td>0.551712</td>\n",
       "      <td>-1.265365</td>\n",
       "      <td>0.849035</td>\n",
       "      <td>0.547452</td>\n",
       "      <td>NaN</td>\n",
       "      <td>-1.620743</td>\n",
       "      <td>0.924037</td>\n",
       "      <td>-0.207971</td>\n",
       "      <td>0.747091</td>\n",
       "      <td>...</td>\n",
       "      <td>NaN</td>\n",
       "      <td>NaN</td>\n",
       "      <td>0.346901</td>\n",
       "      <td>-0.276983</td>\n",
       "      <td>-0.263185</td>\n",
       "      <td>-0.275793</td>\n",
       "      <td>NaN</td>\n",
       "      <td>NaN</td>\n",
       "      <td>NaN</td>\n",
       "      <td>NaN</td>\n",
       "    </tr>\n",
       "    <tr>\n",
       "      <th>1</th>\n",
       "      <td>1.978732</td>\n",
       "      <td>-0.893073</td>\n",
       "      <td>0.280677</td>\n",
       "      <td>1.060345</td>\n",
       "      <td>-1.372940</td>\n",
       "      <td>NaN</td>\n",
       "      <td>-0.187504</td>\n",
       "      <td>1.139487</td>\n",
       "      <td>-0.308727</td>\n",
       "      <td>-0.240923</td>\n",
       "      <td>...</td>\n",
       "      <td>NaN</td>\n",
       "      <td>NaN</td>\n",
       "      <td>0.587064</td>\n",
       "      <td>-0.177817</td>\n",
       "      <td>-0.176500</td>\n",
       "      <td>-0.181537</td>\n",
       "      <td>NaN</td>\n",
       "      <td>NaN</td>\n",
       "      <td>NaN</td>\n",
       "      <td>NaN</td>\n",
       "    </tr>\n",
       "    <tr>\n",
       "      <th>2</th>\n",
       "      <td>-1.405765</td>\n",
       "      <td>0.492377</td>\n",
       "      <td>-1.313251</td>\n",
       "      <td>2.003007</td>\n",
       "      <td>1.090140</td>\n",
       "      <td>NaN</td>\n",
       "      <td>-2.264791</td>\n",
       "      <td>0.880948</td>\n",
       "      <td>-1.677977</td>\n",
       "      <td>0.031225</td>\n",
       "      <td>...</td>\n",
       "      <td>NaN</td>\n",
       "      <td>NaN</td>\n",
       "      <td>-0.459359</td>\n",
       "      <td>-0.240150</td>\n",
       "      <td>-0.245848</td>\n",
       "      <td>-0.239049</td>\n",
       "      <td>NaN</td>\n",
       "      <td>NaN</td>\n",
       "      <td>NaN</td>\n",
       "      <td>NaN</td>\n",
       "    </tr>\n",
       "    <tr>\n",
       "      <th>3</th>\n",
       "      <td>-0.241923</td>\n",
       "      <td>-0.677363</td>\n",
       "      <td>-0.856119</td>\n",
       "      <td>-1.167502</td>\n",
       "      <td>0.403458</td>\n",
       "      <td>NaN</td>\n",
       "      <td>0.386215</td>\n",
       "      <td>-0.153208</td>\n",
       "      <td>-0.525740</td>\n",
       "      <td>-0.944957</td>\n",
       "      <td>...</td>\n",
       "      <td>NaN</td>\n",
       "      <td>NaN</td>\n",
       "      <td>0.089584</td>\n",
       "      <td>-0.291149</td>\n",
       "      <td>-0.306527</td>\n",
       "      <td>-0.289766</td>\n",
       "      <td>NaN</td>\n",
       "      <td>NaN</td>\n",
       "      <td>NaN</td>\n",
       "      <td>NaN</td>\n",
       "    </tr>\n",
       "    <tr>\n",
       "      <th>4</th>\n",
       "      <td>0.660776</td>\n",
       "      <td>-0.341670</td>\n",
       "      <td>0.387317</td>\n",
       "      <td>0.508718</td>\n",
       "      <td>1.174075</td>\n",
       "      <td>NaN</td>\n",
       "      <td>-0.777344</td>\n",
       "      <td>0.622409</td>\n",
       "      <td>-0.140800</td>\n",
       "      <td>-0.394746</td>\n",
       "      <td>...</td>\n",
       "      <td>NaN</td>\n",
       "      <td>NaN</td>\n",
       "      <td>-3.169765</td>\n",
       "      <td>4.112767</td>\n",
       "      <td>4.114396</td>\n",
       "      <td>4.113491</td>\n",
       "      <td>NaN</td>\n",
       "      <td>NaN</td>\n",
       "      <td>NaN</td>\n",
       "      <td>NaN</td>\n",
       "    </tr>\n",
       "  </tbody>\n",
       "</table>\n",
       "<p>5 rows × 590 columns</p>\n",
       "</div>"
      ],
      "text/plain": [
       "        0         1         2         3         4    5         6         7    \\\n",
       "0  0.633604  0.551712 -1.265365  0.849035  0.547452  NaN -1.620743  0.924037   \n",
       "1  1.978732 -0.893073  0.280677  1.060345 -1.372940  NaN -0.187504  1.139487   \n",
       "2 -1.405765  0.492377 -1.313251  2.003007  1.090140  NaN -2.264791  0.880948   \n",
       "3 -0.241923 -0.677363 -0.856119 -1.167502  0.403458  NaN  0.386215 -0.153208   \n",
       "4  0.660776 -0.341670  0.387317  0.508718  1.174075  NaN -0.777344  0.622409   \n",
       "\n",
       "        8         9    ...  580  581       582       583       584       585  \\\n",
       "0 -0.207971  0.747091  ...  NaN  NaN  0.346901 -0.276983 -0.263185 -0.275793   \n",
       "1 -0.308727 -0.240923  ...  NaN  NaN  0.587064 -0.177817 -0.176500 -0.181537   \n",
       "2 -1.677977  0.031225  ...  NaN  NaN -0.459359 -0.240150 -0.245848 -0.239049   \n",
       "3 -0.525740 -0.944957  ...  NaN  NaN  0.089584 -0.291149 -0.306527 -0.289766   \n",
       "4 -0.140800 -0.394746  ...  NaN  NaN -3.169765  4.112767  4.114396  4.113491   \n",
       "\n",
       "   586  587  588  589  \n",
       "0  NaN  NaN  NaN  NaN  \n",
       "1  NaN  NaN  NaN  NaN  \n",
       "2  NaN  NaN  NaN  NaN  \n",
       "3  NaN  NaN  NaN  NaN  \n",
       "4  NaN  NaN  NaN  NaN  \n",
       "\n",
       "[5 rows x 590 columns]"
      ]
     },
     "execution_count": 80,
     "metadata": {},
     "output_type": "execute_result"
    }
   ],
   "source": [
    "Xtest=Xtest.apply(zscore)\n",
    "Xtest.head()"
   ]
  },
  {
   "cell_type": "code",
   "execution_count": 81,
   "id": "5b1b446f",
   "metadata": {
    "scrolled": true
   },
   "outputs": [
    {
     "data": {
      "text/html": [
       "<div>\n",
       "<style scoped>\n",
       "    .dataframe tbody tr th:only-of-type {\n",
       "        vertical-align: middle;\n",
       "    }\n",
       "\n",
       "    .dataframe tbody tr th {\n",
       "        vertical-align: top;\n",
       "    }\n",
       "\n",
       "    .dataframe thead th {\n",
       "        text-align: right;\n",
       "    }\n",
       "</style>\n",
       "<table border=\"1\" class=\"dataframe\">\n",
       "  <thead>\n",
       "    <tr style=\"text-align: right;\">\n",
       "      <th></th>\n",
       "      <th>0</th>\n",
       "      <th>1</th>\n",
       "      <th>2</th>\n",
       "      <th>3</th>\n",
       "      <th>4</th>\n",
       "      <th>5</th>\n",
       "      <th>6</th>\n",
       "      <th>7</th>\n",
       "      <th>8</th>\n",
       "      <th>9</th>\n",
       "      <th>...</th>\n",
       "      <th>580</th>\n",
       "      <th>581</th>\n",
       "      <th>582</th>\n",
       "      <th>583</th>\n",
       "      <th>584</th>\n",
       "      <th>585</th>\n",
       "      <th>586</th>\n",
       "      <th>587</th>\n",
       "      <th>588</th>\n",
       "      <th>589</th>\n",
       "    </tr>\n",
       "  </thead>\n",
       "  <tbody>\n",
       "    <tr>\n",
       "      <th>0</th>\n",
       "      <td>0.633604</td>\n",
       "      <td>0.551712</td>\n",
       "      <td>-1.265365</td>\n",
       "      <td>0.849035</td>\n",
       "      <td>0.547452</td>\n",
       "      <td>0.0</td>\n",
       "      <td>-1.620743</td>\n",
       "      <td>0.924037</td>\n",
       "      <td>-0.207971</td>\n",
       "      <td>0.747091</td>\n",
       "      <td>...</td>\n",
       "      <td>0.0</td>\n",
       "      <td>0.0</td>\n",
       "      <td>0.346901</td>\n",
       "      <td>-0.276983</td>\n",
       "      <td>-0.263185</td>\n",
       "      <td>-0.275793</td>\n",
       "      <td>0.0</td>\n",
       "      <td>0.0</td>\n",
       "      <td>0.0</td>\n",
       "      <td>0.0</td>\n",
       "    </tr>\n",
       "    <tr>\n",
       "      <th>1</th>\n",
       "      <td>1.978732</td>\n",
       "      <td>-0.893073</td>\n",
       "      <td>0.280677</td>\n",
       "      <td>1.060345</td>\n",
       "      <td>-1.372940</td>\n",
       "      <td>0.0</td>\n",
       "      <td>-0.187504</td>\n",
       "      <td>1.139487</td>\n",
       "      <td>-0.308727</td>\n",
       "      <td>-0.240923</td>\n",
       "      <td>...</td>\n",
       "      <td>0.0</td>\n",
       "      <td>0.0</td>\n",
       "      <td>0.587064</td>\n",
       "      <td>-0.177817</td>\n",
       "      <td>-0.176500</td>\n",
       "      <td>-0.181537</td>\n",
       "      <td>0.0</td>\n",
       "      <td>0.0</td>\n",
       "      <td>0.0</td>\n",
       "      <td>0.0</td>\n",
       "    </tr>\n",
       "    <tr>\n",
       "      <th>2</th>\n",
       "      <td>-1.405765</td>\n",
       "      <td>0.492377</td>\n",
       "      <td>-1.313251</td>\n",
       "      <td>2.003007</td>\n",
       "      <td>1.090140</td>\n",
       "      <td>0.0</td>\n",
       "      <td>-2.264791</td>\n",
       "      <td>0.880948</td>\n",
       "      <td>-1.677977</td>\n",
       "      <td>0.031225</td>\n",
       "      <td>...</td>\n",
       "      <td>0.0</td>\n",
       "      <td>0.0</td>\n",
       "      <td>-0.459359</td>\n",
       "      <td>-0.240150</td>\n",
       "      <td>-0.245848</td>\n",
       "      <td>-0.239049</td>\n",
       "      <td>0.0</td>\n",
       "      <td>0.0</td>\n",
       "      <td>0.0</td>\n",
       "      <td>0.0</td>\n",
       "    </tr>\n",
       "    <tr>\n",
       "      <th>3</th>\n",
       "      <td>-0.241923</td>\n",
       "      <td>-0.677363</td>\n",
       "      <td>-0.856119</td>\n",
       "      <td>-1.167502</td>\n",
       "      <td>0.403458</td>\n",
       "      <td>0.0</td>\n",
       "      <td>0.386215</td>\n",
       "      <td>-0.153208</td>\n",
       "      <td>-0.525740</td>\n",
       "      <td>-0.944957</td>\n",
       "      <td>...</td>\n",
       "      <td>0.0</td>\n",
       "      <td>0.0</td>\n",
       "      <td>0.089584</td>\n",
       "      <td>-0.291149</td>\n",
       "      <td>-0.306527</td>\n",
       "      <td>-0.289766</td>\n",
       "      <td>0.0</td>\n",
       "      <td>0.0</td>\n",
       "      <td>0.0</td>\n",
       "      <td>0.0</td>\n",
       "    </tr>\n",
       "    <tr>\n",
       "      <th>4</th>\n",
       "      <td>0.660776</td>\n",
       "      <td>-0.341670</td>\n",
       "      <td>0.387317</td>\n",
       "      <td>0.508718</td>\n",
       "      <td>1.174075</td>\n",
       "      <td>0.0</td>\n",
       "      <td>-0.777344</td>\n",
       "      <td>0.622409</td>\n",
       "      <td>-0.140800</td>\n",
       "      <td>-0.394746</td>\n",
       "      <td>...</td>\n",
       "      <td>0.0</td>\n",
       "      <td>0.0</td>\n",
       "      <td>-3.169765</td>\n",
       "      <td>4.112767</td>\n",
       "      <td>4.114396</td>\n",
       "      <td>4.113491</td>\n",
       "      <td>0.0</td>\n",
       "      <td>0.0</td>\n",
       "      <td>0.0</td>\n",
       "      <td>0.0</td>\n",
       "    </tr>\n",
       "  </tbody>\n",
       "</table>\n",
       "<p>5 rows × 590 columns</p>\n",
       "</div>"
      ],
      "text/plain": [
       "        0         1         2         3         4    5         6         7    \\\n",
       "0  0.633604  0.551712 -1.265365  0.849035  0.547452  0.0 -1.620743  0.924037   \n",
       "1  1.978732 -0.893073  0.280677  1.060345 -1.372940  0.0 -0.187504  1.139487   \n",
       "2 -1.405765  0.492377 -1.313251  2.003007  1.090140  0.0 -2.264791  0.880948   \n",
       "3 -0.241923 -0.677363 -0.856119 -1.167502  0.403458  0.0  0.386215 -0.153208   \n",
       "4  0.660776 -0.341670  0.387317  0.508718  1.174075  0.0 -0.777344  0.622409   \n",
       "\n",
       "        8         9    ...  580  581       582       583       584       585  \\\n",
       "0 -0.207971  0.747091  ...  0.0  0.0  0.346901 -0.276983 -0.263185 -0.275793   \n",
       "1 -0.308727 -0.240923  ...  0.0  0.0  0.587064 -0.177817 -0.176500 -0.181537   \n",
       "2 -1.677977  0.031225  ...  0.0  0.0 -0.459359 -0.240150 -0.245848 -0.239049   \n",
       "3 -0.525740 -0.944957  ...  0.0  0.0  0.089584 -0.291149 -0.306527 -0.289766   \n",
       "4 -0.140800 -0.394746  ...  0.0  0.0 -3.169765  4.112767  4.114396  4.113491   \n",
       "\n",
       "   586  587  588  589  \n",
       "0  0.0  0.0  0.0  0.0  \n",
       "1  0.0  0.0  0.0  0.0  \n",
       "2  0.0  0.0  0.0  0.0  \n",
       "3  0.0  0.0  0.0  0.0  \n",
       "4  0.0  0.0  0.0  0.0  \n",
       "\n",
       "[5 rows x 590 columns]"
      ]
     },
     "execution_count": 81,
     "metadata": {},
     "output_type": "execute_result"
    }
   ],
   "source": [
    "Xtest_New = Xtest.fillna(0)\n",
    "Xtest_New.head()"
   ]
  },
  {
   "cell_type": "code",
   "execution_count": 82,
   "id": "2e3ab804",
   "metadata": {},
   "outputs": [
    {
     "name": "stdout",
     "output_type": "stream",
     "text": [
      "<class 'pandas.core.frame.DataFrame'>\n",
      "RangeIndex: 18 entries, 0 to 17\n",
      "Columns: 590 entries, 0 to 589\n",
      "dtypes: float64(590)\n",
      "memory usage: 83.1 KB\n"
     ]
    }
   ],
   "source": [
    "Xtest_New.info()"
   ]
  },
  {
   "cell_type": "code",
   "execution_count": 83,
   "id": "b79aa963",
   "metadata": {},
   "outputs": [
    {
     "data": {
      "text/html": [
       "<div>\n",
       "<style scoped>\n",
       "    .dataframe tbody tr th:only-of-type {\n",
       "        vertical-align: middle;\n",
       "    }\n",
       "\n",
       "    .dataframe tbody tr th {\n",
       "        vertical-align: top;\n",
       "    }\n",
       "\n",
       "    .dataframe thead th {\n",
       "        text-align: right;\n",
       "    }\n",
       "</style>\n",
       "<table border=\"1\" class=\"dataframe\">\n",
       "  <thead>\n",
       "    <tr style=\"text-align: right;\">\n",
       "      <th></th>\n",
       "      <th>0</th>\n",
       "      <th>1</th>\n",
       "      <th>2</th>\n",
       "      <th>3</th>\n",
       "      <th>4</th>\n",
       "      <th>5</th>\n",
       "      <th>6</th>\n",
       "      <th>7</th>\n",
       "      <th>8</th>\n",
       "      <th>9</th>\n",
       "      <th>...</th>\n",
       "      <th>580</th>\n",
       "      <th>581</th>\n",
       "      <th>582</th>\n",
       "      <th>583</th>\n",
       "      <th>584</th>\n",
       "      <th>585</th>\n",
       "      <th>586</th>\n",
       "      <th>587</th>\n",
       "      <th>588</th>\n",
       "      <th>589</th>\n",
       "    </tr>\n",
       "  </thead>\n",
       "  <tbody>\n",
       "    <tr>\n",
       "      <th>0</th>\n",
       "      <td>0.633604</td>\n",
       "      <td>0.551712</td>\n",
       "      <td>-1.265365</td>\n",
       "      <td>0.849035</td>\n",
       "      <td>0.547452</td>\n",
       "      <td>0.0</td>\n",
       "      <td>-1.620743</td>\n",
       "      <td>0.924037</td>\n",
       "      <td>-0.207971</td>\n",
       "      <td>0.747091</td>\n",
       "      <td>...</td>\n",
       "      <td>0.0</td>\n",
       "      <td>0.0</td>\n",
       "      <td>0.346901</td>\n",
       "      <td>-0.276983</td>\n",
       "      <td>-0.263185</td>\n",
       "      <td>-0.275793</td>\n",
       "      <td>0.0</td>\n",
       "      <td>0.0</td>\n",
       "      <td>0.0</td>\n",
       "      <td>0.0</td>\n",
       "    </tr>\n",
       "    <tr>\n",
       "      <th>1</th>\n",
       "      <td>1.978732</td>\n",
       "      <td>-0.893073</td>\n",
       "      <td>0.280677</td>\n",
       "      <td>1.060345</td>\n",
       "      <td>-1.372940</td>\n",
       "      <td>0.0</td>\n",
       "      <td>-0.187504</td>\n",
       "      <td>1.139487</td>\n",
       "      <td>-0.308727</td>\n",
       "      <td>-0.240923</td>\n",
       "      <td>...</td>\n",
       "      <td>0.0</td>\n",
       "      <td>0.0</td>\n",
       "      <td>0.587064</td>\n",
       "      <td>-0.177817</td>\n",
       "      <td>-0.176500</td>\n",
       "      <td>-0.181537</td>\n",
       "      <td>0.0</td>\n",
       "      <td>0.0</td>\n",
       "      <td>0.0</td>\n",
       "      <td>0.0</td>\n",
       "    </tr>\n",
       "    <tr>\n",
       "      <th>2</th>\n",
       "      <td>-1.405765</td>\n",
       "      <td>0.492377</td>\n",
       "      <td>-1.313251</td>\n",
       "      <td>2.003007</td>\n",
       "      <td>1.090140</td>\n",
       "      <td>0.0</td>\n",
       "      <td>-2.264791</td>\n",
       "      <td>0.880948</td>\n",
       "      <td>-1.677977</td>\n",
       "      <td>0.031225</td>\n",
       "      <td>...</td>\n",
       "      <td>0.0</td>\n",
       "      <td>0.0</td>\n",
       "      <td>-0.459359</td>\n",
       "      <td>-0.240150</td>\n",
       "      <td>-0.245848</td>\n",
       "      <td>-0.239049</td>\n",
       "      <td>0.0</td>\n",
       "      <td>0.0</td>\n",
       "      <td>0.0</td>\n",
       "      <td>0.0</td>\n",
       "    </tr>\n",
       "    <tr>\n",
       "      <th>3</th>\n",
       "      <td>-0.241923</td>\n",
       "      <td>-0.677363</td>\n",
       "      <td>-0.856119</td>\n",
       "      <td>-1.167502</td>\n",
       "      <td>0.403458</td>\n",
       "      <td>0.0</td>\n",
       "      <td>0.386215</td>\n",
       "      <td>-0.153208</td>\n",
       "      <td>-0.525740</td>\n",
       "      <td>-0.944957</td>\n",
       "      <td>...</td>\n",
       "      <td>0.0</td>\n",
       "      <td>0.0</td>\n",
       "      <td>0.089584</td>\n",
       "      <td>-0.291149</td>\n",
       "      <td>-0.306527</td>\n",
       "      <td>-0.289766</td>\n",
       "      <td>0.0</td>\n",
       "      <td>0.0</td>\n",
       "      <td>0.0</td>\n",
       "      <td>0.0</td>\n",
       "    </tr>\n",
       "    <tr>\n",
       "      <th>4</th>\n",
       "      <td>0.660776</td>\n",
       "      <td>-0.341670</td>\n",
       "      <td>0.387317</td>\n",
       "      <td>0.508718</td>\n",
       "      <td>1.174075</td>\n",
       "      <td>0.0</td>\n",
       "      <td>-0.777344</td>\n",
       "      <td>0.622409</td>\n",
       "      <td>-0.140800</td>\n",
       "      <td>-0.394746</td>\n",
       "      <td>...</td>\n",
       "      <td>0.0</td>\n",
       "      <td>0.0</td>\n",
       "      <td>-3.169765</td>\n",
       "      <td>4.112767</td>\n",
       "      <td>4.114396</td>\n",
       "      <td>4.113491</td>\n",
       "      <td>0.0</td>\n",
       "      <td>0.0</td>\n",
       "      <td>0.0</td>\n",
       "      <td>0.0</td>\n",
       "    </tr>\n",
       "    <tr>\n",
       "      <th>5</th>\n",
       "      <td>-1.122842</td>\n",
       "      <td>-1.365119</td>\n",
       "      <td>0.387317</td>\n",
       "      <td>0.508718</td>\n",
       "      <td>1.174075</td>\n",
       "      <td>0.0</td>\n",
       "      <td>-0.777344</td>\n",
       "      <td>0.622409</td>\n",
       "      <td>0.520573</td>\n",
       "      <td>0.776673</td>\n",
       "      <td>...</td>\n",
       "      <td>0.0</td>\n",
       "      <td>0.0</td>\n",
       "      <td>-0.613749</td>\n",
       "      <td>-0.209928</td>\n",
       "      <td>-0.224176</td>\n",
       "      <td>-0.209478</td>\n",
       "      <td>0.0</td>\n",
       "      <td>0.0</td>\n",
       "      <td>0.0</td>\n",
       "      <td>0.0</td>\n",
       "    </tr>\n",
       "    <tr>\n",
       "      <th>6</th>\n",
       "      <td>0.619914</td>\n",
       "      <td>-1.404871</td>\n",
       "      <td>0.280677</td>\n",
       "      <td>1.060345</td>\n",
       "      <td>-1.372940</td>\n",
       "      <td>0.0</td>\n",
       "      <td>-0.187504</td>\n",
       "      <td>1.139487</td>\n",
       "      <td>1.887240</td>\n",
       "      <td>-1.808730</td>\n",
       "      <td>...</td>\n",
       "      <td>0.0</td>\n",
       "      <td>0.0</td>\n",
       "      <td>0.432674</td>\n",
       "      <td>-0.253372</td>\n",
       "      <td>-0.232845</td>\n",
       "      <td>-0.253674</td>\n",
       "      <td>0.0</td>\n",
       "      <td>0.0</td>\n",
       "      <td>0.0</td>\n",
       "      <td>0.0</td>\n",
       "    </tr>\n",
       "    <tr>\n",
       "      <th>7</th>\n",
       "      <td>1.213347</td>\n",
       "      <td>2.395324</td>\n",
       "      <td>0.949879</td>\n",
       "      <td>-0.786680</td>\n",
       "      <td>-1.521275</td>\n",
       "      <td>0.0</td>\n",
       "      <td>0.993235</td>\n",
       "      <td>-1.532083</td>\n",
       "      <td>0.174386</td>\n",
       "      <td>0.717510</td>\n",
       "      <td>...</td>\n",
       "      <td>0.0</td>\n",
       "      <td>0.0</td>\n",
       "      <td>-0.013342</td>\n",
       "      <td>-0.288316</td>\n",
       "      <td>-0.267519</td>\n",
       "      <td>-0.286519</td>\n",
       "      <td>0.0</td>\n",
       "      <td>0.0</td>\n",
       "      <td>0.0</td>\n",
       "      <td>0.0</td>\n",
       "    </tr>\n",
       "    <tr>\n",
       "      <th>8</th>\n",
       "      <td>-0.678338</td>\n",
       "      <td>1.084701</td>\n",
       "      <td>0.949879</td>\n",
       "      <td>-0.786680</td>\n",
       "      <td>-1.521275</td>\n",
       "      <td>0.0</td>\n",
       "      <td>0.993235</td>\n",
       "      <td>-1.532083</td>\n",
       "      <td>0.704001</td>\n",
       "      <td>0.445362</td>\n",
       "      <td>...</td>\n",
       "      <td>0.0</td>\n",
       "      <td>0.0</td>\n",
       "      <td>0.141048</td>\n",
       "      <td>-0.225983</td>\n",
       "      <td>-0.215508</td>\n",
       "      <td>-0.226774</td>\n",
       "      <td>0.0</td>\n",
       "      <td>0.0</td>\n",
       "      <td>0.0</td>\n",
       "      <td>0.0</td>\n",
       "    </tr>\n",
       "    <tr>\n",
       "      <th>9</th>\n",
       "      <td>0.326205</td>\n",
       "      <td>-1.430446</td>\n",
       "      <td>0.949879</td>\n",
       "      <td>-0.786680</td>\n",
       "      <td>-1.521275</td>\n",
       "      <td>0.0</td>\n",
       "      <td>0.993235</td>\n",
       "      <td>-1.532083</td>\n",
       "      <td>0.763421</td>\n",
       "      <td>0.729343</td>\n",
       "      <td>...</td>\n",
       "      <td>0.0</td>\n",
       "      <td>0.0</td>\n",
       "      <td>-0.304968</td>\n",
       "      <td>-0.244872</td>\n",
       "      <td>-0.250182</td>\n",
       "      <td>-0.243840</td>\n",
       "      <td>0.0</td>\n",
       "      <td>0.0</td>\n",
       "      <td>0.0</td>\n",
       "      <td>0.0</td>\n",
       "    </tr>\n",
       "    <tr>\n",
       "      <th>10</th>\n",
       "      <td>-0.131367</td>\n",
       "      <td>0.320950</td>\n",
       "      <td>-0.997765</td>\n",
       "      <td>-0.619039</td>\n",
       "      <td>0.403458</td>\n",
       "      <td>0.0</td>\n",
       "      <td>0.114506</td>\n",
       "      <td>0.105331</td>\n",
       "      <td>0.151134</td>\n",
       "      <td>-1.335430</td>\n",
       "      <td>...</td>\n",
       "      <td>0.0</td>\n",
       "      <td>0.0</td>\n",
       "      <td>-1.025456</td>\n",
       "      <td>-0.239205</td>\n",
       "      <td>-0.237179</td>\n",
       "      <td>-0.237374</td>\n",
       "      <td>0.0</td>\n",
       "      <td>0.0</td>\n",
       "      <td>0.0</td>\n",
       "      <td>0.0</td>\n",
       "    </tr>\n",
       "    <tr>\n",
       "      <th>11</th>\n",
       "      <td>-1.483963</td>\n",
       "      <td>-0.684671</td>\n",
       "      <td>-0.958329</td>\n",
       "      <td>1.631909</td>\n",
       "      <td>-0.770557</td>\n",
       "      <td>0.0</td>\n",
       "      <td>-1.529143</td>\n",
       "      <td>1.570385</td>\n",
       "      <td>-1.021770</td>\n",
       "      <td>0.794421</td>\n",
       "      <td>...</td>\n",
       "      <td>0.0</td>\n",
       "      <td>0.0</td>\n",
       "      <td>0.038121</td>\n",
       "      <td>0.014849</td>\n",
       "      <td>-0.016133</td>\n",
       "      <td>0.005005</td>\n",
       "      <td>0.0</td>\n",
       "      <td>0.0</td>\n",
       "      <td>0.0</td>\n",
       "      <td>0.0</td>\n",
       "    </tr>\n",
       "    <tr>\n",
       "      <th>12</th>\n",
       "      <td>-1.665871</td>\n",
       "      <td>-0.275466</td>\n",
       "      <td>-0.997765</td>\n",
       "      <td>-0.619039</td>\n",
       "      <td>0.403458</td>\n",
       "      <td>0.0</td>\n",
       "      <td>0.114506</td>\n",
       "      <td>0.105331</td>\n",
       "      <td>0.579994</td>\n",
       "      <td>-1.743651</td>\n",
       "      <td>...</td>\n",
       "      <td>0.0</td>\n",
       "      <td>0.0</td>\n",
       "      <td>-0.596594</td>\n",
       "      <td>-0.243927</td>\n",
       "      <td>-0.237179</td>\n",
       "      <td>-0.242758</td>\n",
       "      <td>0.0</td>\n",
       "      <td>0.0</td>\n",
       "      <td>0.0</td>\n",
       "      <td>0.0</td>\n",
       "    </tr>\n",
       "    <tr>\n",
       "      <th>13</th>\n",
       "      <td>1.059025</td>\n",
       "      <td>0.044152</td>\n",
       "      <td>-1.384880</td>\n",
       "      <td>-1.296884</td>\n",
       "      <td>0.933122</td>\n",
       "      <td>0.0</td>\n",
       "      <td>1.487475</td>\n",
       "      <td>0.837858</td>\n",
       "      <td>0.388815</td>\n",
       "      <td>-1.447839</td>\n",
       "      <td>...</td>\n",
       "      <td>0.0</td>\n",
       "      <td>0.0</td>\n",
       "      <td>0.844381</td>\n",
       "      <td>-0.245816</td>\n",
       "      <td>-0.250182</td>\n",
       "      <td>-0.246665</td>\n",
       "      <td>0.0</td>\n",
       "      <td>0.0</td>\n",
       "      <td>0.0</td>\n",
       "      <td>0.0</td>\n",
       "    </tr>\n",
       "    <tr>\n",
       "      <th>14</th>\n",
       "      <td>-0.755291</td>\n",
       "      <td>1.508666</td>\n",
       "      <td>0.070622</td>\n",
       "      <td>-1.014728</td>\n",
       "      <td>0.302157</td>\n",
       "      <td>0.0</td>\n",
       "      <td>0.571718</td>\n",
       "      <td>-1.015005</td>\n",
       "      <td>-1.579804</td>\n",
       "      <td>0.640599</td>\n",
       "      <td>...</td>\n",
       "      <td>0.0</td>\n",
       "      <td>0.0</td>\n",
       "      <td>1.582023</td>\n",
       "      <td>-0.299649</td>\n",
       "      <td>-0.302193</td>\n",
       "      <td>-0.299097</td>\n",
       "      <td>0.0</td>\n",
       "      <td>0.0</td>\n",
       "      <td>0.0</td>\n",
       "      <td>0.0</td>\n",
       "    </tr>\n",
       "    <tr>\n",
       "      <th>15</th>\n",
       "      <td>-0.250427</td>\n",
       "      <td>0.292451</td>\n",
       "      <td>0.070622</td>\n",
       "      <td>-1.014728</td>\n",
       "      <td>0.302157</td>\n",
       "      <td>0.0</td>\n",
       "      <td>0.571718</td>\n",
       "      <td>-1.015005</td>\n",
       "      <td>0.980435</td>\n",
       "      <td>1.267722</td>\n",
       "      <td>...</td>\n",
       "      <td>0.0</td>\n",
       "      <td>0.0</td>\n",
       "      <td>1.256088</td>\n",
       "      <td>-0.314760</td>\n",
       "      <td>-0.323864</td>\n",
       "      <td>-0.313274</td>\n",
       "      <td>0.0</td>\n",
       "      <td>0.0</td>\n",
       "      <td>0.0</td>\n",
       "      <td>0.0</td>\n",
       "    </tr>\n",
       "    <tr>\n",
       "      <th>16</th>\n",
       "      <td>0.573244</td>\n",
       "      <td>0.505968</td>\n",
       "      <td>1.723304</td>\n",
       "      <td>0.234941</td>\n",
       "      <td>0.673355</td>\n",
       "      <td>0.0</td>\n",
       "      <td>0.559264</td>\n",
       "      <td>-0.584107</td>\n",
       "      <td>-1.853654</td>\n",
       "      <td>0.676096</td>\n",
       "      <td>...</td>\n",
       "      <td>0.0</td>\n",
       "      <td>0.0</td>\n",
       "      <td>0.346901</td>\n",
       "      <td>-0.286427</td>\n",
       "      <td>-0.267519</td>\n",
       "      <td>-0.285102</td>\n",
       "      <td>0.0</td>\n",
       "      <td>0.0</td>\n",
       "      <td>0.0</td>\n",
       "      <td>0.0</td>\n",
       "    </tr>\n",
       "    <tr>\n",
       "      <th>17</th>\n",
       "      <td>0.670939</td>\n",
       "      <td>-0.123622</td>\n",
       "      <td>1.723304</td>\n",
       "      <td>0.234941</td>\n",
       "      <td>0.673355</td>\n",
       "      <td>0.0</td>\n",
       "      <td>0.559264</td>\n",
       "      <td>-0.584107</td>\n",
       "      <td>1.166446</td>\n",
       "      <td>1.090234</td>\n",
       "      <td>...</td>\n",
       "      <td>0.0</td>\n",
       "      <td>0.0</td>\n",
       "      <td>0.518446</td>\n",
       "      <td>-0.289261</td>\n",
       "      <td>-0.297858</td>\n",
       "      <td>-0.287796</td>\n",
       "      <td>0.0</td>\n",
       "      <td>0.0</td>\n",
       "      <td>0.0</td>\n",
       "      <td>0.0</td>\n",
       "    </tr>\n",
       "  </tbody>\n",
       "</table>\n",
       "<p>18 rows × 590 columns</p>\n",
       "</div>"
      ],
      "text/plain": [
       "         0         1         2         3         4    5         6         7    \\\n",
       "0   0.633604  0.551712 -1.265365  0.849035  0.547452  0.0 -1.620743  0.924037   \n",
       "1   1.978732 -0.893073  0.280677  1.060345 -1.372940  0.0 -0.187504  1.139487   \n",
       "2  -1.405765  0.492377 -1.313251  2.003007  1.090140  0.0 -2.264791  0.880948   \n",
       "3  -0.241923 -0.677363 -0.856119 -1.167502  0.403458  0.0  0.386215 -0.153208   \n",
       "4   0.660776 -0.341670  0.387317  0.508718  1.174075  0.0 -0.777344  0.622409   \n",
       "5  -1.122842 -1.365119  0.387317  0.508718  1.174075  0.0 -0.777344  0.622409   \n",
       "6   0.619914 -1.404871  0.280677  1.060345 -1.372940  0.0 -0.187504  1.139487   \n",
       "7   1.213347  2.395324  0.949879 -0.786680 -1.521275  0.0  0.993235 -1.532083   \n",
       "8  -0.678338  1.084701  0.949879 -0.786680 -1.521275  0.0  0.993235 -1.532083   \n",
       "9   0.326205 -1.430446  0.949879 -0.786680 -1.521275  0.0  0.993235 -1.532083   \n",
       "10 -0.131367  0.320950 -0.997765 -0.619039  0.403458  0.0  0.114506  0.105331   \n",
       "11 -1.483963 -0.684671 -0.958329  1.631909 -0.770557  0.0 -1.529143  1.570385   \n",
       "12 -1.665871 -0.275466 -0.997765 -0.619039  0.403458  0.0  0.114506  0.105331   \n",
       "13  1.059025  0.044152 -1.384880 -1.296884  0.933122  0.0  1.487475  0.837858   \n",
       "14 -0.755291  1.508666  0.070622 -1.014728  0.302157  0.0  0.571718 -1.015005   \n",
       "15 -0.250427  0.292451  0.070622 -1.014728  0.302157  0.0  0.571718 -1.015005   \n",
       "16  0.573244  0.505968  1.723304  0.234941  0.673355  0.0  0.559264 -0.584107   \n",
       "17  0.670939 -0.123622  1.723304  0.234941  0.673355  0.0  0.559264 -0.584107   \n",
       "\n",
       "         8         9    ...  580  581       582       583       584       585  \\\n",
       "0  -0.207971  0.747091  ...  0.0  0.0  0.346901 -0.276983 -0.263185 -0.275793   \n",
       "1  -0.308727 -0.240923  ...  0.0  0.0  0.587064 -0.177817 -0.176500 -0.181537   \n",
       "2  -1.677977  0.031225  ...  0.0  0.0 -0.459359 -0.240150 -0.245848 -0.239049   \n",
       "3  -0.525740 -0.944957  ...  0.0  0.0  0.089584 -0.291149 -0.306527 -0.289766   \n",
       "4  -0.140800 -0.394746  ...  0.0  0.0 -3.169765  4.112767  4.114396  4.113491   \n",
       "5   0.520573  0.776673  ...  0.0  0.0 -0.613749 -0.209928 -0.224176 -0.209478   \n",
       "6   1.887240 -1.808730  ...  0.0  0.0  0.432674 -0.253372 -0.232845 -0.253674   \n",
       "7   0.174386  0.717510  ...  0.0  0.0 -0.013342 -0.288316 -0.267519 -0.286519   \n",
       "8   0.704001  0.445362  ...  0.0  0.0  0.141048 -0.225983 -0.215508 -0.226774   \n",
       "9   0.763421  0.729343  ...  0.0  0.0 -0.304968 -0.244872 -0.250182 -0.243840   \n",
       "10  0.151134 -1.335430  ...  0.0  0.0 -1.025456 -0.239205 -0.237179 -0.237374   \n",
       "11 -1.021770  0.794421  ...  0.0  0.0  0.038121  0.014849 -0.016133  0.005005   \n",
       "12  0.579994 -1.743651  ...  0.0  0.0 -0.596594 -0.243927 -0.237179 -0.242758   \n",
       "13  0.388815 -1.447839  ...  0.0  0.0  0.844381 -0.245816 -0.250182 -0.246665   \n",
       "14 -1.579804  0.640599  ...  0.0  0.0  1.582023 -0.299649 -0.302193 -0.299097   \n",
       "15  0.980435  1.267722  ...  0.0  0.0  1.256088 -0.314760 -0.323864 -0.313274   \n",
       "16 -1.853654  0.676096  ...  0.0  0.0  0.346901 -0.286427 -0.267519 -0.285102   \n",
       "17  1.166446  1.090234  ...  0.0  0.0  0.518446 -0.289261 -0.297858 -0.287796   \n",
       "\n",
       "    586  587  588  589  \n",
       "0   0.0  0.0  0.0  0.0  \n",
       "1   0.0  0.0  0.0  0.0  \n",
       "2   0.0  0.0  0.0  0.0  \n",
       "3   0.0  0.0  0.0  0.0  \n",
       "4   0.0  0.0  0.0  0.0  \n",
       "5   0.0  0.0  0.0  0.0  \n",
       "6   0.0  0.0  0.0  0.0  \n",
       "7   0.0  0.0  0.0  0.0  \n",
       "8   0.0  0.0  0.0  0.0  \n",
       "9   0.0  0.0  0.0  0.0  \n",
       "10  0.0  0.0  0.0  0.0  \n",
       "11  0.0  0.0  0.0  0.0  \n",
       "12  0.0  0.0  0.0  0.0  \n",
       "13  0.0  0.0  0.0  0.0  \n",
       "14  0.0  0.0  0.0  0.0  \n",
       "15  0.0  0.0  0.0  0.0  \n",
       "16  0.0  0.0  0.0  0.0  \n",
       "17  0.0  0.0  0.0  0.0  \n",
       "\n",
       "[18 rows x 590 columns]"
      ]
     },
     "execution_count": 83,
     "metadata": {},
     "output_type": "execute_result"
    }
   ],
   "source": [
    "Xtest_New"
   ]
  },
  {
   "cell_type": "markdown",
   "id": "87348b29",
   "metadata": {},
   "source": [
    "#### Applying PCA to the Prediction set "
   ]
  },
  {
   "cell_type": "code",
   "execution_count": 93,
   "id": "cccadf7b",
   "metadata": {},
   "outputs": [],
   "source": [
    "pca_ = PCA(n_components=15)\n",
    "pca_.fit(Xtest_New)\n",
    "Xtest_ = pca_.transform(Xtest_New)"
   ]
  },
  {
   "cell_type": "code",
   "execution_count": 94,
   "id": "8fb8cac8",
   "metadata": {},
   "outputs": [
    {
     "data": {
      "text/plain": [
       "numpy.ndarray"
      ]
     },
     "execution_count": 94,
     "metadata": {},
     "output_type": "execute_result"
    }
   ],
   "source": [
    "type(Xtest_)"
   ]
  },
  {
   "cell_type": "code",
   "execution_count": 95,
   "id": "d2b2b645",
   "metadata": {},
   "outputs": [],
   "source": [
    "Xtest_ = pd.DataFrame(Xtest_)"
   ]
  },
  {
   "cell_type": "code",
   "execution_count": 96,
   "id": "b3b1c286",
   "metadata": {},
   "outputs": [
    {
     "data": {
      "text/html": [
       "<div>\n",
       "<style scoped>\n",
       "    .dataframe tbody tr th:only-of-type {\n",
       "        vertical-align: middle;\n",
       "    }\n",
       "\n",
       "    .dataframe tbody tr th {\n",
       "        vertical-align: top;\n",
       "    }\n",
       "\n",
       "    .dataframe thead th {\n",
       "        text-align: right;\n",
       "    }\n",
       "</style>\n",
       "<table border=\"1\" class=\"dataframe\">\n",
       "  <thead>\n",
       "    <tr style=\"text-align: right;\">\n",
       "      <th></th>\n",
       "      <th>0</th>\n",
       "      <th>1</th>\n",
       "      <th>2</th>\n",
       "      <th>3</th>\n",
       "      <th>4</th>\n",
       "      <th>5</th>\n",
       "      <th>6</th>\n",
       "      <th>7</th>\n",
       "      <th>8</th>\n",
       "      <th>9</th>\n",
       "      <th>10</th>\n",
       "      <th>11</th>\n",
       "      <th>12</th>\n",
       "      <th>13</th>\n",
       "      <th>14</th>\n",
       "    </tr>\n",
       "  </thead>\n",
       "  <tbody>\n",
       "    <tr>\n",
       "      <th>0</th>\n",
       "      <td>-3.923053</td>\n",
       "      <td>-7.946640</td>\n",
       "      <td>10.213082</td>\n",
       "      <td>0.633516</td>\n",
       "      <td>-3.554888</td>\n",
       "      <td>-5.381059</td>\n",
       "      <td>3.465329</td>\n",
       "      <td>-3.261216</td>\n",
       "      <td>-2.880800</td>\n",
       "      <td>-3.816805</td>\n",
       "      <td>9.257654</td>\n",
       "      <td>1.489370</td>\n",
       "      <td>-3.303779</td>\n",
       "      <td>0.660168</td>\n",
       "      <td>2.135261</td>\n",
       "    </tr>\n",
       "    <tr>\n",
       "      <th>1</th>\n",
       "      <td>-3.658483</td>\n",
       "      <td>-7.672662</td>\n",
       "      <td>0.174318</td>\n",
       "      <td>-2.075523</td>\n",
       "      <td>-11.468644</td>\n",
       "      <td>-0.995377</td>\n",
       "      <td>-6.350135</td>\n",
       "      <td>-5.636816</td>\n",
       "      <td>-0.327049</td>\n",
       "      <td>-4.331100</td>\n",
       "      <td>-6.144530</td>\n",
       "      <td>4.110890</td>\n",
       "      <td>1.487660</td>\n",
       "      <td>-2.617099</td>\n",
       "      <td>1.892082</td>\n",
       "    </tr>\n",
       "    <tr>\n",
       "      <th>2</th>\n",
       "      <td>-1.819877</td>\n",
       "      <td>-5.282364</td>\n",
       "      <td>-2.203124</td>\n",
       "      <td>9.873761</td>\n",
       "      <td>4.715034</td>\n",
       "      <td>-5.171326</td>\n",
       "      <td>-3.562737</td>\n",
       "      <td>3.859705</td>\n",
       "      <td>8.054370</td>\n",
       "      <td>-2.763402</td>\n",
       "      <td>1.852854</td>\n",
       "      <td>-3.680976</td>\n",
       "      <td>3.986393</td>\n",
       "      <td>-6.569661</td>\n",
       "      <td>-0.500460</td>\n",
       "    </tr>\n",
       "    <tr>\n",
       "      <th>3</th>\n",
       "      <td>-6.035992</td>\n",
       "      <td>-0.209640</td>\n",
       "      <td>-5.560782</td>\n",
       "      <td>8.596407</td>\n",
       "      <td>4.248716</td>\n",
       "      <td>3.232881</td>\n",
       "      <td>-5.490201</td>\n",
       "      <td>2.045413</td>\n",
       "      <td>-5.437171</td>\n",
       "      <td>4.268154</td>\n",
       "      <td>0.683512</td>\n",
       "      <td>6.469245</td>\n",
       "      <td>-4.954942</td>\n",
       "      <td>-3.702058</td>\n",
       "      <td>-1.537884</td>\n",
       "    </tr>\n",
       "    <tr>\n",
       "      <th>4</th>\n",
       "      <td>-2.771434</td>\n",
       "      <td>-1.524738</td>\n",
       "      <td>-12.370724</td>\n",
       "      <td>-9.049522</td>\n",
       "      <td>-3.210187</td>\n",
       "      <td>10.498712</td>\n",
       "      <td>5.226031</td>\n",
       "      <td>4.154994</td>\n",
       "      <td>-2.550471</td>\n",
       "      <td>-3.329478</td>\n",
       "      <td>4.487941</td>\n",
       "      <td>-2.152526</td>\n",
       "      <td>0.158795</td>\n",
       "      <td>-3.717324</td>\n",
       "      <td>1.579811</td>\n",
       "    </tr>\n",
       "  </tbody>\n",
       "</table>\n",
       "</div>"
      ],
      "text/plain": [
       "         0         1          2         3          4          5         6   \\\n",
       "0 -3.923053 -7.946640  10.213082  0.633516  -3.554888  -5.381059  3.465329   \n",
       "1 -3.658483 -7.672662   0.174318 -2.075523 -11.468644  -0.995377 -6.350135   \n",
       "2 -1.819877 -5.282364  -2.203124  9.873761   4.715034  -5.171326 -3.562737   \n",
       "3 -6.035992 -0.209640  -5.560782  8.596407   4.248716   3.232881 -5.490201   \n",
       "4 -2.771434 -1.524738 -12.370724 -9.049522  -3.210187  10.498712  5.226031   \n",
       "\n",
       "         7         8         9         10        11        12        13  \\\n",
       "0 -3.261216 -2.880800 -3.816805  9.257654  1.489370 -3.303779  0.660168   \n",
       "1 -5.636816 -0.327049 -4.331100 -6.144530  4.110890  1.487660 -2.617099   \n",
       "2  3.859705  8.054370 -2.763402  1.852854 -3.680976  3.986393 -6.569661   \n",
       "3  2.045413 -5.437171  4.268154  0.683512  6.469245 -4.954942 -3.702058   \n",
       "4  4.154994 -2.550471 -3.329478  4.487941 -2.152526  0.158795 -3.717324   \n",
       "\n",
       "         14  \n",
       "0  2.135261  \n",
       "1  1.892082  \n",
       "2 -0.500460  \n",
       "3 -1.537884  \n",
       "4  1.579811  "
      ]
     },
     "execution_count": 96,
     "metadata": {},
     "output_type": "execute_result"
    }
   ],
   "source": [
    "Xtest_.head()"
   ]
  },
  {
   "cell_type": "code",
   "execution_count": 97,
   "id": "d5570fdf",
   "metadata": {},
   "outputs": [
    {
     "data": {
      "text/plain": [
       "(18, 15)"
      ]
     },
     "execution_count": 97,
     "metadata": {},
     "output_type": "execute_result"
    }
   ],
   "source": [
    "Xtest_.shape"
   ]
  },
  {
   "cell_type": "code",
   "execution_count": 98,
   "id": "6b10651d",
   "metadata": {},
   "outputs": [],
   "source": [
    "ytest_ = y_test[:18]"
   ]
  },
  {
   "cell_type": "code",
   "execution_count": 99,
   "id": "2680b080",
   "metadata": {},
   "outputs": [
    {
     "data": {
      "text/plain": [
       "(18,)"
      ]
     },
     "execution_count": 99,
     "metadata": {},
     "output_type": "execute_result"
    }
   ],
   "source": [
    "ytest_.shape"
   ]
  },
  {
   "cell_type": "code",
   "execution_count": 100,
   "id": "ffe8ce1a",
   "metadata": {},
   "outputs": [
    {
     "name": "stderr",
     "output_type": "stream",
     "text": [
      "/Users/abishekfranklin/opt/anaconda3/lib/python3.8/site-packages/sklearn/model_selection/_split.py:676: UserWarning: The least populated class in y has only 1 members, which is less than n_splits=5.\n",
      "  warnings.warn(\n",
      "/Users/abishekfranklin/opt/anaconda3/lib/python3.8/site-packages/sklearn/model_selection/_validation.py:372: FitFailedWarning: \n",
      "240 fits failed out of a total of 600.\n",
      "The score on these train-test partitions for these parameters will be set to nan.\n",
      "If these failures are not expected, you can try to debug them by setting error_score='raise'.\n",
      "\n",
      "Below are more details about the failures:\n",
      "--------------------------------------------------------------------------------\n",
      "60 fits failed with the following error:\n",
      "Traceback (most recent call last):\n",
      "  File \"/Users/abishekfranklin/opt/anaconda3/lib/python3.8/site-packages/sklearn/model_selection/_validation.py\", line 681, in _fit_and_score\n",
      "    estimator.fit(X_train, y_train, **fit_params)\n",
      "  File \"/Users/abishekfranklin/opt/anaconda3/lib/python3.8/site-packages/sklearn/pipeline.py\", line 394, in fit\n",
      "    self._final_estimator.fit(Xt, y, **fit_params_last_step)\n",
      "  File \"/Users/abishekfranklin/opt/anaconda3/lib/python3.8/site-packages/sklearn/svm/_base.py\", line 199, in fit\n",
      "    y = self._validate_targets(y)\n",
      "  File \"/Users/abishekfranklin/opt/anaconda3/lib/python3.8/site-packages/sklearn/svm/_base.py\", line 720, in _validate_targets\n",
      "    raise ValueError(\n",
      "ValueError: The number of classes has to be greater than one; got 1 class\n",
      "\n",
      "--------------------------------------------------------------------------------\n",
      "180 fits failed with the following error:\n",
      "Traceback (most recent call last):\n",
      "  File \"/Users/abishekfranklin/opt/anaconda3/lib/python3.8/site-packages/sklearn/model_selection/_validation.py\", line 681, in _fit_and_score\n",
      "    estimator.fit(X_train, y_train, **fit_params)\n",
      "  File \"/Users/abishekfranklin/opt/anaconda3/lib/python3.8/site-packages/sklearn/pipeline.py\", line 390, in fit\n",
      "    Xt = self._fit(X, y, **fit_params_steps)\n",
      "  File \"/Users/abishekfranklin/opt/anaconda3/lib/python3.8/site-packages/sklearn/pipeline.py\", line 348, in _fit\n",
      "    X, fitted_transformer = fit_transform_one_cached(\n",
      "  File \"/Users/abishekfranklin/opt/anaconda3/lib/python3.8/site-packages/joblib/memory.py\", line 352, in __call__\n",
      "    return self.func(*args, **kwargs)\n",
      "  File \"/Users/abishekfranklin/opt/anaconda3/lib/python3.8/site-packages/sklearn/pipeline.py\", line 893, in _fit_transform_one\n",
      "    res = transformer.fit_transform(X, y, **fit_params)\n",
      "  File \"/Users/abishekfranklin/opt/anaconda3/lib/python3.8/site-packages/sklearn/decomposition/_pca.py\", line 407, in fit_transform\n",
      "    U, S, Vt = self._fit(X)\n",
      "  File \"/Users/abishekfranklin/opt/anaconda3/lib/python3.8/site-packages/sklearn/decomposition/_pca.py\", line 457, in _fit\n",
      "    return self._fit_full(X, n_components)\n",
      "  File \"/Users/abishekfranklin/opt/anaconda3/lib/python3.8/site-packages/sklearn/decomposition/_pca.py\", line 475, in _fit_full\n",
      "    raise ValueError(\n",
      "ValueError: n_components=15 must be between 0 and min(n_samples, n_features)=14 with svd_solver='full'\n",
      "\n",
      "  warnings.warn(some_fits_failed_message, FitFailedWarning)\n",
      "/Users/abishekfranklin/opt/anaconda3/lib/python3.8/site-packages/sklearn/model_selection/_search.py:969: UserWarning: One or more of the test scores are non-finite: [nan nan nan nan nan nan nan nan nan nan nan nan nan nan nan nan nan nan\n",
      " nan nan nan nan nan nan nan nan nan nan nan nan nan nan nan nan nan nan\n",
      " nan nan nan nan nan nan nan nan nan nan nan nan nan nan nan nan nan nan\n",
      " nan nan nan nan nan nan nan nan nan nan nan nan nan nan nan nan nan nan\n",
      " nan nan nan nan nan nan nan nan nan nan nan nan nan nan nan nan nan nan\n",
      " nan nan nan nan nan nan nan nan nan nan nan nan nan nan nan nan nan nan\n",
      " nan nan nan nan nan nan nan nan nan nan nan nan]\n",
      "  warnings.warn(\n"
     ]
    },
    {
     "data": {
      "text/plain": [
       "GridSearchCV(cv=5,\n",
       "             estimator=Pipeline(steps=[('scl', StandardScaler()),\n",
       "                                       ('pca', PCA()), ('svc', SVC())]),\n",
       "             param_grid={'pca__n_components': [14, 15],\n",
       "                         'svc__C': [0.001, 0.01, 0.1, 1, 10, 100],\n",
       "                         'svc__gamma': [0.001, 0.01, 0.1, 1, 10],\n",
       "                         'svc__kernel': ['rbf', 'poly']})"
      ]
     },
     "execution_count": 100,
     "metadata": {},
     "output_type": "execute_result"
    }
   ],
   "source": [
    "grid.fit(Xtest_,ytest_)"
   ]
  },
  {
   "cell_type": "code",
   "execution_count": 101,
   "id": "6ec680e0",
   "metadata": {},
   "outputs": [
    {
     "name": "stdout",
     "output_type": "stream",
     "text": [
      " Prediction set accuracy: 0.94\n"
     ]
    }
   ],
   "source": [
    "print(\" Prediction set accuracy: {:.2f}\". format( grid.score( Xtest_, ytest_)))"
   ]
  },
  {
   "cell_type": "code",
   "execution_count": 102,
   "id": "f0b89d3d",
   "metadata": {},
   "outputs": [
    {
     "data": {
      "text/plain": [
       "array([-1., -1., -1., -1., -1., -1., -1., -1., -1., -1., -1., -1., -1.,\n",
       "       -1., -1., -1., -1., -1.])"
      ]
     },
     "execution_count": 102,
     "metadata": {},
     "output_type": "execute_result"
    }
   ],
   "source": [
    "grid.predict(Xtest_)"
   ]
  },
  {
   "cell_type": "markdown",
   "id": "d73aa2d2",
   "metadata": {},
   "source": [
    "#### Used the Prediction Dataset and got an accuracy of 94% and also predicted the target variables "
   ]
  },
  {
   "cell_type": "markdown",
   "id": "f6699aee",
   "metadata": {},
   "source": [
    "End"
   ]
  }
 ],
 "metadata": {
  "kernelspec": {
   "display_name": "Python 3 (ipykernel)",
   "language": "python",
   "name": "python3"
  },
  "language_info": {
   "codemirror_mode": {
    "name": "ipython",
    "version": 3
   },
   "file_extension": ".py",
   "mimetype": "text/x-python",
   "name": "python",
   "nbconvert_exporter": "python",
   "pygments_lexer": "ipython3",
   "version": "3.8.8"
  }
 },
 "nbformat": 4,
 "nbformat_minor": 5
}
