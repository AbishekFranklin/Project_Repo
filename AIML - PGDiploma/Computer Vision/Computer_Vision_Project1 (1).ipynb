{
 "cells": [
  {
   "cell_type": "markdown",
   "metadata": {
    "id": "d0_uTdPxSux-"
   },
   "source": [
    "**Mount Google drive if you are using google colab**"
   ]
  },
  {
   "cell_type": "code",
   "execution_count": 42,
   "metadata": {
    "colab": {
     "base_uri": "https://localhost:8080/"
    },
    "id": "JKBojQrKFj9D",
    "outputId": "93730bc0-4ebb-4a75-e150-8b178d40f2aa"
   },
   "outputs": [
    {
     "name": "stdout",
     "output_type": "stream",
     "text": [
      "Drive already mounted at /content/drive; to attempt to forcibly remount, call drive.mount(\"/content/drive\", force_remount=True).\n"
     ]
    }
   ],
   "source": [
    "from google.colab import drive\n",
    "drive.mount('/content/drive')"
   ]
  },
  {
   "cell_type": "markdown",
   "metadata": {
    "id": "pynM99L1Syo-"
   },
   "source": [
    "**Change current working directory to project folder**"
   ]
  },
  {
   "cell_type": "code",
   "execution_count": 43,
   "metadata": {
    "id": "hswGSiH-FzO3"
   },
   "outputs": [],
   "source": [
    "import os\n",
    "os.chdir('/content/drive/My Drive/Project 1/')"
   ]
  },
  {
   "cell_type": "code",
   "execution_count": 44,
   "metadata": {
    "id": "zov9cjtQOu4Q"
   },
   "outputs": [],
   "source": [
    "DATA_FOLDER = \"/content/drive/My Drive/Project 1/\""
   ]
  },
  {
   "cell_type": "markdown",
   "metadata": {
    "id": "A4sG0qn4Syx3"
   },
   "source": [
    "**Load the \"images.npy\" file**"
   ]
  },
  {
   "cell_type": "code",
   "execution_count": 45,
   "metadata": {
    "id": "tp1ZcMuSO3Pi"
   },
   "outputs": [],
   "source": [
    "import numpy as np\n",
    "data = np.load(DATA_FOLDER+\"images.npy\",allow_pickle=True)\n",
    "#allow_pickle : Allow loading pickled object arrays stored in npy files"
   ]
  },
  {
   "cell_type": "markdown",
   "metadata": {
    "id": "WSFdqcldSy5j"
   },
   "source": [
    "**Checking the sample image from the loaded \"images.npy\" file**"
   ]
  },
  {
   "cell_type": "code",
   "execution_count": 46,
   "metadata": {
    "colab": {
     "base_uri": "https://localhost:8080/"
    },
    "id": "kmfiHZRqO8Qm",
    "outputId": "5d772cdf-3e3c-48e4-c9c7-d96a5f464a34"
   },
   "outputs": [
    {
     "name": "stdout",
     "output_type": "stream",
     "text": [
      "[array([[[42, 37, 34],\n",
      "         [56, 51, 48],\n",
      "         [71, 66, 63],\n",
      "         ...,\n",
      "         [23, 33, 34],\n",
      "         [26, 36, 37],\n",
      "         [28, 38, 39]],\n",
      "\n",
      "        [[40, 35, 32],\n",
      "         [51, 46, 43],\n",
      "         [64, 59, 56],\n",
      "         ...,\n",
      "         [27, 36, 35],\n",
      "         [24, 33, 32],\n",
      "         [26, 35, 34]],\n",
      "\n",
      "        [[43, 38, 35],\n",
      "         [51, 46, 43],\n",
      "         [61, 56, 53],\n",
      "         ...,\n",
      "         [28, 30, 27],\n",
      "         [33, 35, 32],\n",
      "         [35, 37, 34]],\n",
      "\n",
      "        ...,\n",
      "\n",
      "        [[56, 47, 40],\n",
      "         [57, 48, 41],\n",
      "         [61, 52, 45],\n",
      "         ...,\n",
      "         [67, 48, 42],\n",
      "         [55, 35, 28],\n",
      "         [60, 40, 33]],\n",
      "\n",
      "        [[53, 44, 37],\n",
      "         [54, 45, 38],\n",
      "         [57, 48, 41],\n",
      "         ...,\n",
      "         [59, 40, 34],\n",
      "         [60, 40, 33],\n",
      "         [54, 34, 27]],\n",
      "\n",
      "        [[53, 44, 37],\n",
      "         [54, 45, 38],\n",
      "         [57, 48, 41],\n",
      "         ...,\n",
      "         [59, 40, 34],\n",
      "         [70, 50, 43],\n",
      "         [64, 44, 37]]], dtype=uint8)\n",
      " list([{'label': ['Face'], 'notes': '', 'points': [{'x': 0.08615384615384615, 'y': 0.3063063063063063}, {'x': 0.1723076923076923, 'y': 0.45345345345345345}], 'imageWidth': 650, 'imageHeight': 333}, {'label': ['Face'], 'notes': '', 'points': [{'x': 0.583076923076923, 'y': 0.2912912912912913}, {'x': 0.6584615384615384, 'y': 0.46846846846846846}], 'imageWidth': 650, 'imageHeight': 333}])]\n",
      "[{'label': ['Face'], 'notes': '', 'points': [{'x': 0.48, 'y': 0.10385756676557864}, {'x': 0.7716666666666666, 'y': 0.6795252225519288}], 'imageWidth': 600, 'imageHeight': 337}]\n"
     ]
    }
   ],
   "source": [
    "for key in data:\n",
    "    print (key)\n",
    "    print (data[10][1])\n",
    "    break"
   ]
  },
  {
   "cell_type": "markdown",
   "metadata": {
    "id": "8zP0nIhoSzAC"
   },
   "source": [
    "**Set image dimensions**"
   ]
  },
  {
   "cell_type": "code",
   "execution_count": 47,
   "metadata": {
    "id": "BswFrXBrO83r"
   },
   "outputs": [],
   "source": [
    "IMAGE_WIDTH = 224\n",
    "IMAGE_HEIGHT = 224 "
   ]
  },
  {
   "cell_type": "markdown",
   "metadata": {
    "id": "TVNyhWQsSzHe"
   },
   "source": [
    "**Creating features and labels**"
   ]
  },
  {
   "cell_type": "code",
   "execution_count": 48,
   "metadata": {
    "id": "dOEQMTDWPFLr"
   },
   "outputs": [],
   "source": [
    "import cv2\n",
    "from tensorflow.keras.applications.mobilenet import preprocess_input\n",
    "\n",
    "masks = np.zeros((int(data.shape[0]), IMAGE_HEIGHT, IMAGE_WIDTH))\n",
    "X_train = np.zeros((int(data.shape[0]), IMAGE_HEIGHT, IMAGE_WIDTH, 3))\n",
    "for index in range(data.shape[0]):\n",
    "    img = data[index][0]\n",
    "    img = cv2.resize(img, dsize=(IMAGE_HEIGHT, IMAGE_WIDTH), interpolation=cv2.INTER_CUBIC)\n",
    "    try:\n",
    "      img = img[:, :, :3]\n",
    "    except:\n",
    "      continue\n",
    "    X_train[index] = preprocess_input(np.array(img, dtype=np.float32))\n",
    "    for i in data[index][1]:\n",
    "        x1 = int(i[\"points\"][0]['x'] * IMAGE_WIDTH)\n",
    "        x2 = int(i[\"points\"][1]['x'] * IMAGE_WIDTH)\n",
    "        y1 = int(i[\"points\"][0]['y'] * IMAGE_HEIGHT)\n",
    "        y2 = int(i[\"points\"][1]['y'] * IMAGE_HEIGHT)\n",
    "        masks[index][y1:y2, x1:x2] = 1"
   ]
  },
  {
   "cell_type": "markdown",
   "metadata": {
    "id": "avu97eHRT9By"
   },
   "source": [
    "**Checking the shape of X_train and mask array**"
   ]
  },
  {
   "cell_type": "code",
   "execution_count": 49,
   "metadata": {
    "colab": {
     "base_uri": "https://localhost:8080/"
    },
    "id": "5KVN4pSrPHit",
    "outputId": "5ec50991-887d-4bc3-d4a0-c6f2bcff4c6d"
   },
   "outputs": [
    {
     "data": {
      "text/plain": [
       "(409, 224, 224, 3)"
      ]
     },
     "execution_count": 49,
     "metadata": {},
     "output_type": "execute_result"
    }
   ],
   "source": [
    "X_train.shape"
   ]
  },
  {
   "cell_type": "code",
   "execution_count": 50,
   "metadata": {
    "colab": {
     "base_uri": "https://localhost:8080/"
    },
    "id": "f7egYd7IPMlf",
    "outputId": "b26234f9-1512-4b64-bdca-9c3dde73f435"
   },
   "outputs": [
    {
     "data": {
      "text/plain": [
       "(409, 224, 224)"
      ]
     },
     "execution_count": 50,
     "metadata": {},
     "output_type": "execute_result"
    }
   ],
   "source": [
    "masks.shape"
   ]
  },
  {
   "cell_type": "markdown",
   "metadata": {
    "id": "O9P6ymEwUJFb"
   },
   "source": [
    "**Printing a prediction image and image array**"
   ]
  },
  {
   "cell_type": "code",
   "execution_count": 51,
   "metadata": {
    "colab": {
     "base_uri": "https://localhost:8080/",
     "height": 1000
    },
    "id": "kOPZdFj8PQT3",
    "outputId": "8c1e8f54-7fae-4d40-dfcf-1e59d9461468"
   },
   "outputs": [
    {
     "name": "stderr",
     "output_type": "stream",
     "text": [
      "Clipping input data to the valid range for imshow with RGB data ([0..1] for floats or [0..255] for integers).\n"
     ]
    },
    {
     "name": "stdout",
     "output_type": "stream",
     "text": [
      "[[[ 0.45882356  0.47450984  0.57647061]\n",
      "  [ 0.45882356  0.47450984  0.57647061]\n",
      "  [ 0.47450984  0.49019611  0.59215689]\n",
      "  ...\n",
      "  [-0.72549021 -0.49803919 -0.16862744]\n",
      "  [-0.75686276 -0.48235291 -0.30196077]\n",
      "  [-0.74117649 -0.47450978 -0.27843136]]\n",
      "\n",
      " [[ 0.49803925  0.52941179  0.62352943]\n",
      "  [ 0.49803925  0.52941179  0.62352943]\n",
      "  [ 0.52941179  0.56078434  0.65490198]\n",
      "  ...\n",
      "  [-0.74901962 -0.52156866 -0.21568626]\n",
      "  [-0.65490198 -0.38823527 -0.17647058]\n",
      "  [-0.67058825 -0.40392154 -0.18431371]]\n",
      "\n",
      " [[ 0.44313729  0.47450984  0.56862748]\n",
      "  [ 0.36470592  0.39607847  0.49019611]\n",
      "  [ 0.41960788  0.45098042  0.54509807]\n",
      "  ...\n",
      "  [-0.65490198 -0.41960782 -0.13725489]\n",
      "  [-0.84313726 -0.58431375 -0.32549018]\n",
      "  [-0.85882354 -0.60000002 -0.34117645]]\n",
      "\n",
      " ...\n",
      "\n",
      " [[-1.         -1.         -1.        ]\n",
      "  [-1.         -1.         -1.        ]\n",
      "  [-1.         -1.         -1.        ]\n",
      "  ...\n",
      "  [-1.         -1.         -1.        ]\n",
      "  [-1.         -1.         -1.        ]\n",
      "  [-1.         -1.         -1.        ]]\n",
      "\n",
      " [[-1.         -1.         -1.        ]\n",
      "  [-1.         -1.         -1.        ]\n",
      "  [-1.         -1.         -1.        ]\n",
      "  ...\n",
      "  [-1.         -1.         -1.        ]\n",
      "  [-1.         -1.         -1.        ]\n",
      "  [-1.         -1.         -1.        ]]\n",
      "\n",
      " [[-1.         -1.         -1.        ]\n",
      "  [-1.         -1.         -1.        ]\n",
      "  [-1.         -1.         -1.        ]\n",
      "  ...\n",
      "  [-1.         -1.         -1.        ]\n",
      "  [-1.         -1.         -1.        ]\n",
      "  [-1.         -1.         -1.        ]]]\n",
      "<class 'numpy.ndarray'>\n"
     ]
    },
    {
     "data": {
      "text/plain": [
       "<matplotlib.image.AxesImage at 0x7f871981cd50>"
      ]
     },
     "execution_count": 51,
     "metadata": {},
     "output_type": "execute_result"
    },
    {
     "data": {
      "image/png": "[encoded data removed]",
      "text/plain": [
       "<Figure size 432x288 with 1 Axes>"
      ]
     },
     "metadata": {
      "needs_background": "light"
     },
     "output_type": "display_data"
    }
   ],
   "source": [
    "from matplotlib import pyplot\n",
    "n = 5\n",
    "print(X_train[n])\n",
    "print(type(X_train[n]))\n",
    "pyplot.imshow(X_train[n])"
   ]
  },
  {
   "cell_type": "code",
   "execution_count": 52,
   "metadata": {
    "colab": {
     "base_uri": "https://localhost:8080/",
     "height": 287
    },
    "id": "D4ok4P15PZrw",
    "outputId": "07b75b2d-dfa8-4f24-9a64-6509a0095704"
   },
   "outputs": [
    {
     "data": {
      "text/plain": [
       "<matplotlib.image.AxesImage at 0x7f871d5a9950>"
      ]
     },
     "execution_count": 52,
     "metadata": {},
     "output_type": "execute_result"
    },
    {
     "data": {
      "image/png": "[encoded data removed]",
      "text/plain": [
       "<Figure size 432x288 with 1 Axes>"
      ]
     },
     "metadata": {
      "needs_background": "light"
     },
     "output_type": "display_data"
    }
   ],
   "source": [
    "pyplot.imshow(masks[n])"
   ]
  },
  {
   "cell_type": "markdown",
   "metadata": {
    "id": "Rma_AKtNUZ7N"
   },
   "source": [
    "**Creating the model**"
   ]
  },
  {
   "cell_type": "code",
   "execution_count": 53,
   "metadata": {
    "id": "-WxZnWtRPpej"
   },
   "outputs": [],
   "source": [
    "from tensorflow.keras.applications.mobilenet import MobileNet\n",
    "from tensorflow.keras.layers import Concatenate, UpSampling2D, Conv2D, Reshape\n",
    "from tensorflow.keras.models import Model\n",
    "\n",
    "\n",
    "def create_model(trainable=True):\n",
    "    model = MobileNet(input_shape=(IMAGE_HEIGHT,IMAGE_WIDTH,3),include_top=False,weights='imagenet',alpha=1.0) # Width hyper parameter for MobileNet (0.25, 0.5, 0.75, 1.0). Higher width means more accurate but slower\n",
    "\n",
    "    for layer in model.layers:\n",
    "        layer.trainable = trainable\n",
    "\n",
    "    block0 = model.get_layer(\"conv_pw_1_relu\").output \n",
    "    block = model.get_layer(\"conv_pw_1_relu\").output\n",
    "    block1 = model.get_layer(\"conv_pw_3_relu\").output\n",
    "    block2 = model.get_layer(\"conv_pw_5_relu\").output\n",
    "    block3 = model.get_layer(\"conv_pw_11_relu\").output\n",
    "    block4 = model.get_layer(\"conv_pw_13_relu\").output\n",
    "\n",
    "    x = Concatenate()([UpSampling2D()(block4), block3])\n",
    "    x = Concatenate()([UpSampling2D()(x), block2])\n",
    "    x = Concatenate()([UpSampling2D()(x), block1])\n",
    "    x = Concatenate()([UpSampling2D()(x), block])\n",
    "    x = UpSampling2D()(x)\n",
    "    x = Conv2D(1, kernel_size=1, activation=\"sigmoid\")(x)\n",
    "\n",
    "    x = Reshape((IMAGE_HEIGHT, IMAGE_WIDTH))(x)\n",
    "    return Model(inputs=model.input, outputs=x)"
   ]
  },
  {
   "cell_type": "markdown",
   "metadata": {
    "id": "nFc2YXA2UrD1"
   },
   "source": [
    "**Model Summary**"
   ]
  },
  {
   "cell_type": "code",
   "execution_count": 54,
   "metadata": {
    "colab": {
     "base_uri": "https://localhost:8080/"
    },
    "id": "GIJQmgXNPuYj",
    "outputId": "13b0162a-e5eb-442d-dcf6-f1aa6c1b1787"
   },
   "outputs": [
    {
     "name": "stdout",
     "output_type": "stream",
     "text": [
      "Model: \"model_2\"\n",
      "__________________________________________________________________________________________________\n",
      " Layer (type)                   Output Shape         Param #     Connected to                     \n",
      "==================================================================================================\n",
      " input_3 (InputLayer)           [(None, 224, 224, 3  0           []                               \n",
      "                                )]                                                                \n",
      "                                                                                                  \n",
      " conv1 (Conv2D)                 (None, 112, 112, 32  864         ['input_3[0][0]']                \n",
      "                                )                                                                 \n",
      "                                                                                                  \n",
      " conv1_bn (BatchNormalization)  (None, 112, 112, 32  128         ['conv1[0][0]']                  \n",
      "                                )                                                                 \n",
      "                                                                                                  \n",
      " conv1_relu (ReLU)              (None, 112, 112, 32  0           ['conv1_bn[0][0]']               \n",
      "                                )                                                                 \n",
      "                                                                                                  \n",
      " conv_dw_1 (DepthwiseConv2D)    (None, 112, 112, 32  288         ['conv1_relu[0][0]']             \n",
      "                                )                                                                 \n",
      "                                                                                                  \n",
      " conv_dw_1_bn (BatchNormalizati  (None, 112, 112, 32  128        ['conv_dw_1[0][0]']              \n",
      " on)                            )                                                                 \n",
      "                                                                                                  \n",
      " conv_dw_1_relu (ReLU)          (None, 112, 112, 32  0           ['conv_dw_1_bn[0][0]']           \n",
      "                                )                                                                 \n",
      "                                                                                                  \n",
      " conv_pw_1 (Conv2D)             (None, 112, 112, 64  2048        ['conv_dw_1_relu[0][0]']         \n",
      "                                )                                                                 \n",
      "                                                                                                  \n",
      " conv_pw_1_bn (BatchNormalizati  (None, 112, 112, 64  256        ['conv_pw_1[0][0]']              \n",
      " on)                            )                                                                 \n",
      "                                                                                                  \n",
      " conv_pw_1_relu (ReLU)          (None, 112, 112, 64  0           ['conv_pw_1_bn[0][0]']           \n",
      "                                )                                                                 \n",
      "                                                                                                  \n",
      " conv_pad_2 (ZeroPadding2D)     (None, 113, 113, 64  0           ['conv_pw_1_relu[0][0]']         \n",
      "                                )                                                                 \n",
      "                                                                                                  \n",
      " conv_dw_2 (DepthwiseConv2D)    (None, 56, 56, 64)   576         ['conv_pad_2[0][0]']             \n",
      "                                                                                                  \n",
      " conv_dw_2_bn (BatchNormalizati  (None, 56, 56, 64)  256         ['conv_dw_2[0][0]']              \n",
      " on)                                                                                              \n",
      "                                                                                                  \n",
      " conv_dw_2_relu (ReLU)          (None, 56, 56, 64)   0           ['conv_dw_2_bn[0][0]']           \n",
      "                                                                                                  \n",
      " conv_pw_2 (Conv2D)             (None, 56, 56, 128)  8192        ['conv_dw_2_relu[0][0]']         \n",
      "                                                                                                  \n",
      " conv_pw_2_bn (BatchNormalizati  (None, 56, 56, 128)  512        ['conv_pw_2[0][0]']              \n",
      " on)                                                                                              \n",
      "                                                                                                  \n",
      " conv_pw_2_relu (ReLU)          (None, 56, 56, 128)  0           ['conv_pw_2_bn[0][0]']           \n",
      "                                                                                                  \n",
      " conv_dw_3 (DepthwiseConv2D)    (None, 56, 56, 128)  1152        ['conv_pw_2_relu[0][0]']         \n",
      "                                                                                                  \n",
      " conv_dw_3_bn (BatchNormalizati  (None, 56, 56, 128)  512        ['conv_dw_3[0][0]']              \n",
      " on)                                                                                              \n",
      "                                                                                                  \n",
      " conv_dw_3_relu (ReLU)          (None, 56, 56, 128)  0           ['conv_dw_3_bn[0][0]']           \n",
      "                                                                                                  \n",
      " conv_pw_3 (Conv2D)             (None, 56, 56, 128)  16384       ['conv_dw_3_relu[0][0]']         \n",
      "                                                                                                  \n",
      " conv_pw_3_bn (BatchNormalizati  (None, 56, 56, 128)  512        ['conv_pw_3[0][0]']              \n",
      " on)                                                                                              \n",
      "                                                                                                  \n",
      " conv_pw_3_relu (ReLU)          (None, 56, 56, 128)  0           ['conv_pw_3_bn[0][0]']           \n",
      "                                                                                                  \n",
      " conv_pad_4 (ZeroPadding2D)     (None, 57, 57, 128)  0           ['conv_pw_3_relu[0][0]']         \n",
      "                                                                                                  \n",
      " conv_dw_4 (DepthwiseConv2D)    (None, 28, 28, 128)  1152        ['conv_pad_4[0][0]']             \n",
      "                                                                                                  \n",
      " conv_dw_4_bn (BatchNormalizati  (None, 28, 28, 128)  512        ['conv_dw_4[0][0]']              \n",
      " on)                                                                                              \n",
      "                                                                                                  \n",
      " conv_dw_4_relu (ReLU)          (None, 28, 28, 128)  0           ['conv_dw_4_bn[0][0]']           \n",
      "                                                                                                  \n",
      " conv_pw_4 (Conv2D)             (None, 28, 28, 256)  32768       ['conv_dw_4_relu[0][0]']         \n",
      "                                                                                                  \n",
      " conv_pw_4_bn (BatchNormalizati  (None, 28, 28, 256)  1024       ['conv_pw_4[0][0]']              \n",
      " on)                                                                                              \n",
      "                                                                                                  \n",
      " conv_pw_4_relu (ReLU)          (None, 28, 28, 256)  0           ['conv_pw_4_bn[0][0]']           \n",
      "                                                                                                  \n",
      " conv_dw_5 (DepthwiseConv2D)    (None, 28, 28, 256)  2304        ['conv_pw_4_relu[0][0]']         \n",
      "                                                                                                  \n",
      " conv_dw_5_bn (BatchNormalizati  (None, 28, 28, 256)  1024       ['conv_dw_5[0][0]']              \n",
      " on)                                                                                              \n",
      "                                                                                                  \n",
      " conv_dw_5_relu (ReLU)          (None, 28, 28, 256)  0           ['conv_dw_5_bn[0][0]']           \n",
      "                                                                                                  \n",
      " conv_pw_5 (Conv2D)             (None, 28, 28, 256)  65536       ['conv_dw_5_relu[0][0]']         \n",
      "                                                                                                  \n",
      " conv_pw_5_bn (BatchNormalizati  (None, 28, 28, 256)  1024       ['conv_pw_5[0][0]']              \n",
      " on)                                                                                              \n",
      "                                                                                                  \n",
      " conv_pw_5_relu (ReLU)          (None, 28, 28, 256)  0           ['conv_pw_5_bn[0][0]']           \n",
      "                                                                                                  \n",
      " conv_pad_6 (ZeroPadding2D)     (None, 29, 29, 256)  0           ['conv_pw_5_relu[0][0]']         \n",
      "                                                                                                  \n",
      " conv_dw_6 (DepthwiseConv2D)    (None, 14, 14, 256)  2304        ['conv_pad_6[0][0]']             \n",
      "                                                                                                  \n",
      " conv_dw_6_bn (BatchNormalizati  (None, 14, 14, 256)  1024       ['conv_dw_6[0][0]']              \n",
      " on)                                                                                              \n",
      "                                                                                                  \n",
      " conv_dw_6_relu (ReLU)          (None, 14, 14, 256)  0           ['conv_dw_6_bn[0][0]']           \n",
      "                                                                                                  \n",
      " conv_pw_6 (Conv2D)             (None, 14, 14, 512)  131072      ['conv_dw_6_relu[0][0]']         \n",
      "                                                                                                  \n",
      " conv_pw_6_bn (BatchNormalizati  (None, 14, 14, 512)  2048       ['conv_pw_6[0][0]']              \n",
      " on)                                                                                              \n",
      "                                                                                                  \n",
      " conv_pw_6_relu (ReLU)          (None, 14, 14, 512)  0           ['conv_pw_6_bn[0][0]']           \n",
      "                                                                                                  \n",
      " conv_dw_7 (DepthwiseConv2D)    (None, 14, 14, 512)  4608        ['conv_pw_6_relu[0][0]']         \n",
      "                                                                                                  \n",
      " conv_dw_7_bn (BatchNormalizati  (None, 14, 14, 512)  2048       ['conv_dw_7[0][0]']              \n",
      " on)                                                                                              \n",
      "                                                                                                  \n",
      " conv_dw_7_relu (ReLU)          (None, 14, 14, 512)  0           ['conv_dw_7_bn[0][0]']           \n",
      "                                                                                                  \n",
      " conv_pw_7 (Conv2D)             (None, 14, 14, 512)  262144      ['conv_dw_7_relu[0][0]']         \n",
      "                                                                                                  \n",
      " conv_pw_7_bn (BatchNormalizati  (None, 14, 14, 512)  2048       ['conv_pw_7[0][0]']              \n",
      " on)                                                                                              \n",
      "                                                                                                  \n",
      " conv_pw_7_relu (ReLU)          (None, 14, 14, 512)  0           ['conv_pw_7_bn[0][0]']           \n",
      "                                                                                                  \n",
      " conv_dw_8 (DepthwiseConv2D)    (None, 14, 14, 512)  4608        ['conv_pw_7_relu[0][0]']         \n",
      "                                                                                                  \n",
      " conv_dw_8_bn (BatchNormalizati  (None, 14, 14, 512)  2048       ['conv_dw_8[0][0]']              \n",
      " on)                                                                                              \n",
      "                                                                                                  \n",
      " conv_dw_8_relu (ReLU)          (None, 14, 14, 512)  0           ['conv_dw_8_bn[0][0]']           \n",
      "                                                                                                  \n",
      " conv_pw_8 (Conv2D)             (None, 14, 14, 512)  262144      ['conv_dw_8_relu[0][0]']         \n",
      "                                                                                                  \n",
      " conv_pw_8_bn (BatchNormalizati  (None, 14, 14, 512)  2048       ['conv_pw_8[0][0]']              \n",
      " on)                                                                                              \n",
      "                                                                                                  \n",
      " conv_pw_8_relu (ReLU)          (None, 14, 14, 512)  0           ['conv_pw_8_bn[0][0]']           \n",
      "                                                                                                  \n",
      " conv_dw_9 (DepthwiseConv2D)    (None, 14, 14, 512)  4608        ['conv_pw_8_relu[0][0]']         \n",
      "                                                                                                  \n",
      " conv_dw_9_bn (BatchNormalizati  (None, 14, 14, 512)  2048       ['conv_dw_9[0][0]']              \n",
      " on)                                                                                              \n",
      "                                                                                                  \n",
      " conv_dw_9_relu (ReLU)          (None, 14, 14, 512)  0           ['conv_dw_9_bn[0][0]']           \n",
      "                                                                                                  \n",
      " conv_pw_9 (Conv2D)             (None, 14, 14, 512)  262144      ['conv_dw_9_relu[0][0]']         \n",
      "                                                                                                  \n",
      " conv_pw_9_bn (BatchNormalizati  (None, 14, 14, 512)  2048       ['conv_pw_9[0][0]']              \n",
      " on)                                                                                              \n",
      "                                                                                                  \n",
      " conv_pw_9_relu (ReLU)          (None, 14, 14, 512)  0           ['conv_pw_9_bn[0][0]']           \n",
      "                                                                                                  \n",
      " conv_dw_10 (DepthwiseConv2D)   (None, 14, 14, 512)  4608        ['conv_pw_9_relu[0][0]']         \n",
      "                                                                                                  \n",
      " conv_dw_10_bn (BatchNormalizat  (None, 14, 14, 512)  2048       ['conv_dw_10[0][0]']             \n",
      " ion)                                                                                             \n",
      "                                                                                                  \n",
      " conv_dw_10_relu (ReLU)         (None, 14, 14, 512)  0           ['conv_dw_10_bn[0][0]']          \n",
      "                                                                                                  \n",
      " conv_pw_10 (Conv2D)            (None, 14, 14, 512)  262144      ['conv_dw_10_relu[0][0]']        \n",
      "                                                                                                  \n",
      " conv_pw_10_bn (BatchNormalizat  (None, 14, 14, 512)  2048       ['conv_pw_10[0][0]']             \n",
      " ion)                                                                                             \n",
      "                                                                                                  \n",
      " conv_pw_10_relu (ReLU)         (None, 14, 14, 512)  0           ['conv_pw_10_bn[0][0]']          \n",
      "                                                                                                  \n",
      " conv_dw_11 (DepthwiseConv2D)   (None, 14, 14, 512)  4608        ['conv_pw_10_relu[0][0]']        \n",
      "                                                                                                  \n",
      " conv_dw_11_bn (BatchNormalizat  (None, 14, 14, 512)  2048       ['conv_dw_11[0][0]']             \n",
      " ion)                                                                                             \n",
      "                                                                                                  \n",
      " conv_dw_11_relu (ReLU)         (None, 14, 14, 512)  0           ['conv_dw_11_bn[0][0]']          \n",
      "                                                                                                  \n",
      " conv_pw_11 (Conv2D)            (None, 14, 14, 512)  262144      ['conv_dw_11_relu[0][0]']        \n",
      "                                                                                                  \n",
      " conv_pw_11_bn (BatchNormalizat  (None, 14, 14, 512)  2048       ['conv_pw_11[0][0]']             \n",
      " ion)                                                                                             \n",
      "                                                                                                  \n",
      " conv_pw_11_relu (ReLU)         (None, 14, 14, 512)  0           ['conv_pw_11_bn[0][0]']          \n",
      "                                                                                                  \n",
      " conv_pad_12 (ZeroPadding2D)    (None, 15, 15, 512)  0           ['conv_pw_11_relu[0][0]']        \n",
      "                                                                                                  \n",
      " conv_dw_12 (DepthwiseConv2D)   (None, 7, 7, 512)    4608        ['conv_pad_12[0][0]']            \n",
      "                                                                                                  \n",
      " conv_dw_12_bn (BatchNormalizat  (None, 7, 7, 512)   2048        ['conv_dw_12[0][0]']             \n",
      " ion)                                                                                             \n",
      "                                                                                                  \n",
      " conv_dw_12_relu (ReLU)         (None, 7, 7, 512)    0           ['conv_dw_12_bn[0][0]']          \n",
      "                                                                                                  \n",
      " conv_pw_12 (Conv2D)            (None, 7, 7, 1024)   524288      ['conv_dw_12_relu[0][0]']        \n",
      "                                                                                                  \n",
      " conv_pw_12_bn (BatchNormalizat  (None, 7, 7, 1024)  4096        ['conv_pw_12[0][0]']             \n",
      " ion)                                                                                             \n",
      "                                                                                                  \n",
      " conv_pw_12_relu (ReLU)         (None, 7, 7, 1024)   0           ['conv_pw_12_bn[0][0]']          \n",
      "                                                                                                  \n",
      " conv_dw_13 (DepthwiseConv2D)   (None, 7, 7, 1024)   9216        ['conv_pw_12_relu[0][0]']        \n",
      "                                                                                                  \n",
      " conv_dw_13_bn (BatchNormalizat  (None, 7, 7, 1024)  4096        ['conv_dw_13[0][0]']             \n",
      " ion)                                                                                             \n",
      "                                                                                                  \n",
      " conv_dw_13_relu (ReLU)         (None, 7, 7, 1024)   0           ['conv_dw_13_bn[0][0]']          \n",
      "                                                                                                  \n",
      " conv_pw_13 (Conv2D)            (None, 7, 7, 1024)   1048576     ['conv_dw_13_relu[0][0]']        \n",
      "                                                                                                  \n",
      " conv_pw_13_bn (BatchNormalizat  (None, 7, 7, 1024)  4096        ['conv_pw_13[0][0]']             \n",
      " ion)                                                                                             \n",
      "                                                                                                  \n",
      " conv_pw_13_relu (ReLU)         (None, 7, 7, 1024)   0           ['conv_pw_13_bn[0][0]']          \n",
      "                                                                                                  \n",
      " up_sampling2d_10 (UpSampling2D  (None, 14, 14, 1024  0          ['conv_pw_13_relu[0][0]']        \n",
      " )                              )                                                                 \n",
      "                                                                                                  \n",
      " concatenate_8 (Concatenate)    (None, 14, 14, 1536  0           ['up_sampling2d_10[0][0]',       \n",
      "                                )                                 'conv_pw_11_relu[0][0]']        \n",
      "                                                                                                  \n",
      " up_sampling2d_11 (UpSampling2D  (None, 28, 28, 1536  0          ['concatenate_8[0][0]']          \n",
      " )                              )                                                                 \n",
      "                                                                                                  \n",
      " concatenate_9 (Concatenate)    (None, 28, 28, 1792  0           ['up_sampling2d_11[0][0]',       \n",
      "                                )                                 'conv_pw_5_relu[0][0]']         \n",
      "                                                                                                  \n",
      " up_sampling2d_12 (UpSampling2D  (None, 56, 56, 1792  0          ['concatenate_9[0][0]']          \n",
      " )                              )                                                                 \n",
      "                                                                                                  \n",
      " concatenate_10 (Concatenate)   (None, 56, 56, 1920  0           ['up_sampling2d_12[0][0]',       \n",
      "                                )                                 'conv_pw_3_relu[0][0]']         \n",
      "                                                                                                  \n",
      " up_sampling2d_13 (UpSampling2D  (None, 112, 112, 19  0          ['concatenate_10[0][0]']         \n",
      " )                              20)                                                               \n",
      "                                                                                                  \n",
      " concatenate_11 (Concatenate)   (None, 112, 112, 19  0           ['up_sampling2d_13[0][0]',       \n",
      "                                84)                               'conv_pw_1_relu[0][0]']         \n",
      "                                                                                                  \n",
      " up_sampling2d_14 (UpSampling2D  (None, 224, 224, 19  0          ['concatenate_11[0][0]']         \n",
      " )                              84)                                                               \n",
      "                                                                                                  \n",
      " conv2d_2 (Conv2D)              (None, 224, 224, 1)  1985        ['up_sampling2d_14[0][0]']       \n",
      "                                                                                                  \n",
      " reshape_2 (Reshape)            (None, 224, 224)     0           ['conv2d_2[0][0]']               \n",
      "                                                                                                  \n",
      "==================================================================================================\n",
      "Total params: 3,230,849\n",
      "Trainable params: 3,208,961\n",
      "Non-trainable params: 21,888\n",
      "__________________________________________________________________________________________________\n"
     ]
    }
   ],
   "source": [
    "# Give trainable=False as argument, if you want to freeze lower layers for fast training (but low accuracy)\n",
    "model = create_model()\n",
    "\n",
    "# Print summary\n",
    "model.summary()"
   ]
  },
  {
   "cell_type": "markdown",
   "metadata": {
    "id": "MjaRc0M0U1zs"
   },
   "source": [
    "**Defining dice coefficient function**"
   ]
  },
  {
   "cell_type": "code",
   "execution_count": 55,
   "metadata": {
    "id": "V9cKPquFPzCi"
   },
   "outputs": [],
   "source": [
    "from keras import backend as K\n",
    "import numpy as np"
   ]
  },
  {
   "cell_type": "code",
   "execution_count": 56,
   "metadata": {
    "id": "YJGEds0wP5e6"
   },
   "outputs": [],
   "source": [
    "def dice_coefficient(y_true, y_pred,smooth=1):\n",
    "    y_true_f = K.flatten(y_true)\n",
    "    y_pred_f = K.flatten(y_pred)\n",
    "    intersection = K.sum(y_true_f * y_pred_f)\n",
    "    return (2. * intersection + smooth) / (K.sum(y_true_f) + K.sum(y_pred_f) + smooth)"
   ]
  },
  {
   "cell_type": "markdown",
   "metadata": {
    "id": "A3nlWAVoU_5D"
   },
   "source": [
    "**Defining the loss**"
   ]
  },
  {
   "cell_type": "code",
   "execution_count": 57,
   "metadata": {
    "id": "M9zXe0tUP--x"
   },
   "outputs": [],
   "source": [
    "from tensorflow.keras.losses import binary_crossentropy\n",
    "from tensorflow.keras.backend import log, epsilon\n",
    "def loss(y_true, y_pred):\n",
    "    return binary_crossentropy(y_true, y_pred) - log(dice_coefficient(y_true, y_pred) + epsilon())"
   ]
  },
  {
   "cell_type": "markdown",
   "metadata": {
    "id": "KJO8884WVGRE"
   },
   "source": [
    "**Compiling the model**"
   ]
  },
  {
   "cell_type": "code",
   "execution_count": 58,
   "metadata": {
    "id": "ZIFSyP8bQAEZ"
   },
   "outputs": [],
   "source": [
    "model.compile(loss=loss, optimizer=\"adam\", metrics=[dice_coefficient])"
   ]
  },
  {
   "cell_type": "markdown",
   "metadata": {
    "id": "risKDsVkVNi8"
   },
   "source": [
    "**Defining checkpoint and earlystopping**"
   ]
  },
  {
   "cell_type": "code",
   "execution_count": 59,
   "metadata": {
    "colab": {
     "base_uri": "https://localhost:8080/"
    },
    "id": "dRTXy9pLQEr1",
    "outputId": "16e213fe-c967-46d4-ec13-d0669025ee02"
   },
   "outputs": [
    {
     "name": "stdout",
     "output_type": "stream",
     "text": [
      "WARNING:tensorflow:`period` argument is deprecated. Please use `save_freq` to specify the frequency in number of batches seen.\n"
     ]
    }
   ],
   "source": [
    "from tensorflow.keras.callbacks import ModelCheckpoint, EarlyStopping, ReduceLROnPlateau\n",
    "checkpoint = ModelCheckpoint(\"model-{loss:.2f}.h5\", monitor=\"loss\", verbose=1, save_best_only=True,\n",
    "                             save_weights_only=True, mode=\"min\", period=1)\n",
    "stop = EarlyStopping(monitor=\"loss\", patience=5, mode=\"min\")\n",
    "reduce_lr = ReduceLROnPlateau(monitor=\"loss\", factor=0.2, patience=5, min_lr=1e-6, verbose=1, mode=\"min\")"
   ]
  },
  {
   "cell_type": "markdown",
   "metadata": {
    "id": "zwecl7iTVTds"
   },
   "source": [
    "**Fitting the Model**"
   ]
  },
  {
   "cell_type": "code",
   "execution_count": 60,
   "metadata": {
    "colab": {
     "base_uri": "https://localhost:8080/"
    },
    "id": "iqTe1yTcQEtU",
    "outputId": "ed80d630-ec43-43a9-d0d7-41aacd9b2542"
   },
   "outputs": [
    {
     "name": "stdout",
     "output_type": "stream",
     "text": [
      "Epoch 1/20\n",
      "409/409 [==============================] - ETA: 0s - loss: 1.1731 - dice_coefficient: 0.5147\n",
      "Epoch 1: loss improved from inf to 1.17308, saving model to model-1.17.h5\n",
      "409/409 [==============================] - 445s 1s/step - loss: 1.1731 - dice_coefficient: 0.5147 - lr: 0.0010\n",
      "Epoch 2/20\n",
      "409/409 [==============================] - ETA: 0s - loss: 0.8566 - dice_coefficient: 0.5972\n",
      "Epoch 2: loss improved from 1.17308 to 0.85655, saving model to model-0.86.h5\n",
      "409/409 [==============================] - 440s 1s/step - loss: 0.8566 - dice_coefficient: 0.5972 - lr: 0.0010\n",
      "Epoch 3/20\n",
      "409/409 [==============================] - ETA: 0s - loss: 0.7284 - dice_coefficient: 0.6383\n",
      "Epoch 3: loss improved from 0.85655 to 0.72836, saving model to model-0.73.h5\n",
      "409/409 [==============================] - 439s 1s/step - loss: 0.7284 - dice_coefficient: 0.6383 - lr: 0.0010\n",
      "Epoch 4/20\n",
      "409/409 [==============================] - ETA: 0s - loss: 0.6939 - dice_coefficient: 0.6493\n",
      "Epoch 4: loss improved from 0.72836 to 0.69392, saving model to model-0.69.h5\n",
      "409/409 [==============================] - 441s 1s/step - loss: 0.6939 - dice_coefficient: 0.6493 - lr: 0.0010\n",
      "Epoch 5/20\n",
      "409/409 [==============================] - ETA: 0s - loss: 0.5769 - dice_coefficient: 0.6963\n",
      "Epoch 5: loss improved from 0.69392 to 0.57688, saving model to model-0.58.h5\n",
      "409/409 [==============================] - 443s 1s/step - loss: 0.5769 - dice_coefficient: 0.6963 - lr: 0.0010\n",
      "Epoch 6/20\n",
      "409/409 [==============================] - ETA: 0s - loss: 0.5294 - dice_coefficient: 0.7137\n",
      "Epoch 6: loss improved from 0.57688 to 0.52937, saving model to model-0.53.h5\n",
      "409/409 [==============================] - 441s 1s/step - loss: 0.5294 - dice_coefficient: 0.7137 - lr: 0.0010\n",
      "Epoch 7/20\n",
      "409/409 [==============================] - ETA: 0s - loss: 0.5522 - dice_coefficient: 0.7085\n",
      "Epoch 7: loss did not improve from 0.52937\n",
      "409/409 [==============================] - 439s 1s/step - loss: 0.5522 - dice_coefficient: 0.7085 - lr: 0.0010\n",
      "Epoch 8/20\n",
      "409/409 [==============================] - ETA: 0s - loss: 0.5097 - dice_coefficient: 0.7274\n",
      "Epoch 8: loss improved from 0.52937 to 0.50969, saving model to model-0.51.h5\n",
      "409/409 [==============================] - 439s 1s/step - loss: 0.5097 - dice_coefficient: 0.7274 - lr: 0.0010\n",
      "Epoch 9/20\n",
      "409/409 [==============================] - ETA: 0s - loss: 0.4304 - dice_coefficient: 0.7564\n",
      "Epoch 9: loss improved from 0.50969 to 0.43043, saving model to model-0.43.h5\n",
      "409/409 [==============================] - 439s 1s/step - loss: 0.4304 - dice_coefficient: 0.7564 - lr: 0.0010\n",
      "Epoch 10/20\n",
      "409/409 [==============================] - ETA: 0s - loss: 0.3942 - dice_coefficient: 0.7743\n",
      "Epoch 10: loss improved from 0.43043 to 0.39418, saving model to model-0.39.h5\n",
      "409/409 [==============================] - 439s 1s/step - loss: 0.3942 - dice_coefficient: 0.7743 - lr: 0.0010\n",
      "Epoch 11/20\n",
      "409/409 [==============================] - ETA: 0s - loss: 0.3490 - dice_coefficient: 0.7960\n",
      "Epoch 11: loss improved from 0.39418 to 0.34900, saving model to model-0.35.h5\n",
      "409/409 [==============================] - 437s 1s/step - loss: 0.3490 - dice_coefficient: 0.7960 - lr: 0.0010\n",
      "Epoch 12/20\n",
      "409/409 [==============================] - ETA: 0s - loss: 0.3183 - dice_coefficient: 0.8114\n",
      "Epoch 12: loss improved from 0.34900 to 0.31831, saving model to model-0.32.h5\n",
      "409/409 [==============================] - 437s 1s/step - loss: 0.3183 - dice_coefficient: 0.8114 - lr: 0.0010\n",
      "Epoch 13/20\n",
      "409/409 [==============================] - ETA: 0s - loss: 0.3224 - dice_coefficient: 0.8097\n",
      "Epoch 13: loss did not improve from 0.31831\n",
      "409/409 [==============================] - 439s 1s/step - loss: 0.3224 - dice_coefficient: 0.8097 - lr: 0.0010\n",
      "Epoch 14/20\n",
      "409/409 [==============================] - ETA: 0s - loss: 0.3232 - dice_coefficient: 0.8097\n",
      "Epoch 14: loss did not improve from 0.31831\n",
      "409/409 [==============================] - 437s 1s/step - loss: 0.3232 - dice_coefficient: 0.8097 - lr: 0.0010\n",
      "Epoch 15/20\n",
      "409/409 [==============================] - ETA: 0s - loss: 0.3106 - dice_coefficient: 0.8182\n",
      "Epoch 15: loss improved from 0.31831 to 0.31055, saving model to model-0.31.h5\n",
      "409/409 [==============================] - 436s 1s/step - loss: 0.3106 - dice_coefficient: 0.8182 - lr: 0.0010\n",
      "Epoch 16/20\n",
      "409/409 [==============================] - ETA: 0s - loss: 0.5325 - dice_coefficient: 0.7275\n",
      "Epoch 16: loss did not improve from 0.31055\n",
      "409/409 [==============================] - 437s 1s/step - loss: 0.5325 - dice_coefficient: 0.7275 - lr: 0.0010\n",
      "Epoch 17/20\n",
      "409/409 [==============================] - ETA: 0s - loss: 0.4544 - dice_coefficient: 0.7528\n",
      "Epoch 17: loss did not improve from 0.31055\n",
      "409/409 [==============================] - 437s 1s/step - loss: 0.4544 - dice_coefficient: 0.7528 - lr: 0.0010\n",
      "Epoch 18/20\n",
      "409/409 [==============================] - ETA: 0s - loss: 0.3679 - dice_coefficient: 0.7900\n",
      "Epoch 18: loss did not improve from 0.31055\n",
      "409/409 [==============================] - 437s 1s/step - loss: 0.3679 - dice_coefficient: 0.7900 - lr: 0.0010\n",
      "Epoch 19/20\n",
      "409/409 [==============================] - ETA: 0s - loss: 0.2927 - dice_coefficient: 0.8250\n",
      "Epoch 19: loss improved from 0.31055 to 0.29268, saving model to model-0.29.h5\n",
      "409/409 [==============================] - 440s 1s/step - loss: 0.2927 - dice_coefficient: 0.8250 - lr: 0.0010\n",
      "Epoch 20/20\n",
      "409/409 [==============================] - ETA: 0s - loss: 0.2578 - dice_coefficient: 0.8431\n",
      "Epoch 20: loss improved from 0.29268 to 0.25783, saving model to model-0.26.h5\n",
      "409/409 [==============================] - 440s 1s/step - loss: 0.2578 - dice_coefficient: 0.8431 - lr: 0.0010\n"
     ]
    },
    {
     "data": {
      "text/plain": [
       "<keras.callbacks.History at 0x7f871833cfd0>"
      ]
     },
     "execution_count": 60,
     "metadata": {},
     "output_type": "execute_result"
    }
   ],
   "source": [
    "model.fit(X_train,masks,\n",
    "            epochs=20,batch_size = 1,callbacks=[checkpoint, reduce_lr, stop],\n",
    "            verbose=1)"
   ]
  },
  {
   "cell_type": "markdown",
   "metadata": {
    "id": "g3trONPCWUJx"
   },
   "source": [
    "**Predicted the mask for the prediction image**"
   ]
  },
  {
   "cell_type": "code",
   "execution_count": 61,
   "metadata": {
    "id": "duTwGZQHQMCM"
   },
   "outputs": [],
   "source": [
    "n = 5\n",
    "sample_image = X_train[n]\n",
    "sample_mask = masks[n]\n",
    "pred_mask = model.predict(sample_image.reshape(1,sample_image.shape[0],sample_image.shape[1],sample_image.shape[2]))"
   ]
  },
  {
   "cell_type": "markdown",
   "metadata": {
    "id": "1uIR84OOWk84"
   },
   "source": [
    "**Imposing the mask on the imag**"
   ]
  },
  {
   "cell_type": "code",
   "execution_count": 62,
   "metadata": {
    "colab": {
     "base_uri": "https://localhost:8080/",
     "height": 222
    },
    "id": "VZEzkelHQMuk",
    "outputId": "0f07dc79-43e2-48a7-a791-8c8bb75eda3f"
   },
   "outputs": [
    {
     "name": "stderr",
     "output_type": "stream",
     "text": [
      "Clipping input data to the valid range for imshow with RGB data ([0..1] for floats or [0..255] for integers).\n"
     ]
    },
    {
     "data": {
      "image/png": "[encoded data removed]",
      "text/plain": [
       "<Figure size 432x288 with 1 Axes>"
      ]
     },
     "metadata": {
      "needs_background": "light"
     },
     "output_type": "display_data"
    }
   ],
   "source": [
    "import matplotlib.pyplot as plt\n",
    "plt.figure()\n",
    "plt.subplot(1,2,2)\n",
    "plt.imshow(sample_image, 'Greens', interpolation = 'none')\n",
    "plt.imshow(sample_mask, 'Reds', interpolation = 'none', alpha = 0.7)\n",
    "plt.show()"
   ]
  }
 ],
 "metadata": {
  "colab": {
   "collapsed_sections": [],
   "name": "Computer Vision - Project1.ipynb",
   "provenance": []
  },
  "kernelspec": {
   "display_name": "Python 3",
   "language": "python",
   "name": "python3"
  },
  "language_info": {
   "name": "python"
  }
 },
 "nbformat": 4,
 "nbformat_minor": 1
}
