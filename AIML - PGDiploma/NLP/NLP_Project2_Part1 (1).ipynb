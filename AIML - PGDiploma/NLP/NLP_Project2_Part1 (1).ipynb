{
  "cells": [
    {
      "cell_type": "markdown",
      "source": [
        "Importing Packages"
      ],
      "metadata": {
        "id": "5wu-IJSBAHGe"
      }
    },
    {
      "cell_type": "code",
      "execution_count": 5,
      "metadata": {
        "colab": {
          "base_uri": "https://localhost:8080/"
        },
        "id": "OiJCJ6pmri5r",
        "outputId": "3b0d7170-d419-4ca2-cc28-9243e46a3fd9"
      },
      "outputs": [
        {
          "output_type": "stream",
          "name": "stdout",
          "text": [
            "Drive already mounted at /content/drive; to attempt to forcibly remount, call drive.mount(\"/content/drive\", force_remount=True).\n"
          ]
        }
      ],
      "source": [
        "# Mounting Google Drive\n",
        "from google.colab import drive\n",
        "drive.mount('/content/drive')"
      ]
    },
    {
      "cell_type": "code",
      "execution_count": 6,
      "metadata": {
        "id": "QblnEOger1tI"
      },
      "outputs": [],
      "source": [
        "# Setting the current working directory\n",
        "import os; os.chdir('drive/My Drive/NLP')"
      ]
    },
    {
      "cell_type": "code",
      "execution_count": 7,
      "metadata": {
        "id": "MSu6Pr6MsloO"
      },
      "outputs": [],
      "source": [
        "# Import packages\n",
        "import pandas as pd, numpy as np\n",
        "import tensorflow as tf\n",
        "assert tf.__version__ >= '2.0'\n",
        "\n",
        "from itertools import islice\n",
        "\n",
        "# Keras\n",
        "from keras.layers import Dense, Embedding, LSTM, Dropout, MaxPooling1D, Conv1D\n",
        "from keras.preprocessing.sequence import pad_sequences\n",
        "from keras.models import Model, Sequential\n",
        "from keras.preprocessing import sequence\n",
        "from keras.datasets import imdb\n",
        "\n",
        "from keras.callbacks import ModelCheckpoint, EarlyStopping\n",
        "\n",
        "from sklearn.model_selection import train_test_split\n",
        "from sklearn.metrics import classification_report\n",
        "\n",
        "# Suppress warnings\n",
        "import warnings; warnings.filterwarnings('ignore')\n",
        "\n",
        "random_state = 42\n",
        "np.random.seed(random_state)\n",
        "tf.random.set_seed(random_state)"
      ]
    },
    {
      "cell_type": "markdown",
      "metadata": {
        "id": "qMEsHYrWxdtk"
      },
      "source": [
        "Loading Dataset - Train & Test Split"
      ]
    },
    {
      "cell_type": "code",
      "execution_count": 8,
      "metadata": {
        "id": "h0g381XzeCyz",
        "colab": {
          "base_uri": "https://localhost:8080/"
        },
        "outputId": "931b77ce-e5c0-443f-9f79-c1936632b513"
      },
      "outputs": [
        {
          "output_type": "stream",
          "name": "stdout",
          "text": [
            "Downloading data from https://storage.googleapis.com/tensorflow/tf-keras-datasets/imdb.npz\n",
            "17465344/17464789 [==============================] - 0s 0us/step\n",
            "17473536/17464789 [==============================] - 0s 0us/step\n",
            "------------------------------------------------------------ \n",
            "Number of rows in training dataset: 32000\n",
            "Number of columns in training dataset: 300\n",
            "Number of unique words in training dataset: 9999\n",
            "------------------------------------------------------------ \n",
            "Number of rows in validation dataset: 8000\n",
            "Number of columns in validation dataset: 300\n",
            "Number of unique words in validation dataset: 9984\n",
            "------------------------------------------------------------ \n",
            "Number of rows in test dataset: 10000\n",
            "Number of columns in test dataset: 300\n",
            "Number of unique words in test dataset: 9995\n",
            "------------------------------------------------------------ \n",
            "Unique Categories: (array([0, 1]), array([0, 1]), array([0, 1]))\n"
          ]
        }
      ],
      "source": [
        "vocab_size = 10000\n",
        "maxlen = 300\n",
        "(x_train, y_train), (x_test, y_test) = imdb.load_data(num_words = vocab_size)\n",
        "\n",
        "x_train = pad_sequences(x_train, maxlen = maxlen, padding = 'pre')\n",
        "x_test =  pad_sequences(x_test, maxlen = maxlen, padding = 'pre')\n",
        "\n",
        "X = np.concatenate((x_train, x_test), axis = 0)\n",
        "y = np.concatenate((y_train, y_test), axis = 0)\n",
        "\n",
        "x_train, x_test, y_train, y_test = train_test_split(X, y, test_size = 0.2, random_state = random_state, shuffle = True)\n",
        "x_train, x_valid, y_train, y_valid = train_test_split(x_train, y_train, test_size = 0.2, random_state = random_state, shuffle = True)\n",
        "\n",
        "print('---'*20, f'\\nNumber of rows in training dataset: {x_train.shape[0]}')\n",
        "print(f'Number of columns in training dataset: {x_train.shape[1]}')\n",
        "print(f'Number of unique words in training dataset: {len(np.unique(np.hstack(x_train)))}')\n",
        "\n",
        "\n",
        "print('---'*20, f'\\nNumber of rows in validation dataset: {x_valid.shape[0]}')\n",
        "print(f'Number of columns in validation dataset: {x_valid.shape[1]}')\n",
        "print(f'Number of unique words in validation dataset: {len(np.unique(np.hstack(x_valid)))}')\n",
        "\n",
        "\n",
        "print('---'*20, f'\\nNumber of rows in test dataset: {x_test.shape[0]}')\n",
        "print(f'Number of columns in test dataset: {x_test.shape[1]}')\n",
        "print(f'Number of unique words in test dataset: {len(np.unique(np.hstack(x_test)))}')\n",
        "\n",
        "\n",
        "print('---'*20, f'\\nUnique Categories: {np.unique(y_train), np.unique(y_valid), np.unique(y_test)}')"
      ]
    },
    {
      "cell_type": "markdown",
      "metadata": {
        "id": "evBIH06AhdCO"
      },
      "source": [
        "Get word index and create a key-value pair for word and word id"
      ]
    },
    {
      "cell_type": "code",
      "execution_count": 9,
      "metadata": {
        "id": "FJhKAPne7gST",
        "colab": {
          "base_uri": "https://localhost:8080/"
        },
        "outputId": "6f8886e9-91cd-43fd-e32d-e2f50c40fdb2"
      },
      "outputs": [
        {
          "output_type": "stream",
          "name": "stdout",
          "text": [
            "Downloading data from https://storage.googleapis.com/tensorflow/tf-keras-datasets/imdb_word_index.json\n",
            "1646592/1641221 [==============================] - 0s 0us/step\n",
            "1654784/1641221 [==============================] - 0s 0us/step\n",
            "Review: <PAD> <PAD> <PAD> <PAD> <PAD> <PAD> <PAD> <PAD> <PAD> <PAD> <PAD> <PAD> <PAD> <PAD> <PAD> <PAD> <PAD> <PAD> <PAD> <PAD> <PAD> <PAD> <PAD> <PAD> <PAD> <PAD> <PAD> <PAD> <PAD> <PAD> <PAD> <PAD> <PAD> <PAD> <PAD> <PAD> <PAD> <PAD> <PAD> <PAD> <PAD> <PAD> <PAD> <PAD> <PAD> <PAD> <PAD> <PAD> <PAD> <PAD> <PAD> <PAD> <PAD> <PAD> <PAD> <PAD> <PAD> <PAD> <PAD> <PAD> <PAD> <PAD> <PAD> <PAD> <PAD> <PAD> <PAD> <PAD> <PAD> <PAD> <PAD> <START> the only possible way to enjoy this flick is to bang your head against the wall allow some internal <UNK> of the brain let a bunch of your brain cells die and once you are officially mentally retarded perhaps then you might enjoy this film br br the only saving grace was the story between <UNK> and stephanie govinda was excellent in the role of the cab driver and so was the brit girl perhaps if they would have created the whole movie on their <UNK> in india and how they eventually fall in love would have made it a much more enjoyable film br br the only reason i gave it a 3 rating is because of <UNK> and his ability as an actor when it comes to comedy br br <UNK> <UNK> and anil kapoor were wasted needlessly plus the scene at <UNK> of the re union was just too much to <UNK> being an international <UNK> in the post 9 11 world anil kapoor would have got himself shot much before he even reached the sky bridge to <UNK> his true love but then again the point of the movie was to defy logic gravity physics and throw an egg on the face of the general audience br br watch it at your own peril at least i know i have been <UNK> for life\n",
            "Actual Sentiment: 0\n",
            "------------------------------------------------------------------------------------------ \n",
            " [(34704, 'fawn'), (52009, 'tsukino'), (52010, 'nunnery'), (16819, 'sonja'), (63954, 'vani'), (1411, 'woods'), (16118, 'spiders'), (2348, 'hanging'), (2292, 'woody'), (52011, 'trawling'), (52012, \"hold's\"), (11310, 'comically'), (40833, 'localized'), (30571, 'disobeying'), (52013, \"'royale\"), (40834, \"harpo's\"), (52014, 'canet'), (19316, 'aileen'), (52015, 'acurately'), (52016, \"diplomat's\"), (25245, 'rickman'), (6749, 'arranged'), (52017, 'rumbustious'), (52018, 'familiarness'), (52019, \"spider'\"), (68807, 'hahahah'), (52020, \"wood'\"), (40836, 'transvestism'), (34705, \"hangin'\"), (2341, 'bringing'), (40837, 'seamier'), (34706, 'wooded'), (52021, 'bravora'), (16820, 'grueling'), (1639, 'wooden'), (16821, 'wednesday'), (52022, \"'prix\"), (34707, 'altagracia'), (52023, 'circuitry'), (11588, 'crotch'), (57769, 'busybody'), (52024, \"tart'n'tangy\"), (14132, 'burgade'), (52026, 'thrace'), (11041, \"tom's\"), (52028, 'snuggles'), (29117, 'francesco'), (52030, 'complainers'), (52128, 'templarios'), (40838, '272')]\n"
          ]
        }
      ],
      "source": [
        "def decode_review(x, y):\n",
        "  w2i = imdb.get_word_index()                                \n",
        "  w2i = {k:(v + 3) for k, v in w2i.items()}\n",
        "  w2i['<PAD>'] = 0\n",
        "  w2i['<START>'] = 1\n",
        "  w2i['<UNK>'] = 2\n",
        "  i2w = {i: w for w, i in w2i.items()}\n",
        "\n",
        "  ws = (' '.join(i2w[i] for i in x))\n",
        "  print(f'Review: {ws}')\n",
        "  print(f'Actual Sentiment: {y}')\n",
        "  return w2i, i2w\n",
        "\n",
        "w2i, i2w = decode_review(x_train[0], y_train[0])\n",
        "\n",
        "# get first 50 key, value pairs from id to word dictionary\n",
        "print('---'*30, '\\n', list(islice(i2w.items(), 0, 50)))"
      ]
    },
    {
      "cell_type": "markdown",
      "metadata": {
        "id": "dybtUgUReCy8"
      },
      "source": [
        "Build Keras Embedding Layer Model\n"
      ]
    },
    {
      "cell_type": "code",
      "execution_count": 10,
      "metadata": {
        "id": "mSCO8ltUsOKE",
        "colab": {
          "base_uri": "https://localhost:8080/"
        },
        "outputId": "77f67319-2538-48ab-a3fc-9220cacca786"
      },
      "outputs": [
        {
          "output_type": "stream",
          "name": "stdout",
          "text": [
            "Model: \"sequential\"\n",
            "_________________________________________________________________\n",
            " Layer (type)                Output Shape              Param #   \n",
            "=================================================================\n",
            " embedding (Embedding)       (None, 300, 256)          2560000   \n",
            "                                                                 \n",
            " dropout (Dropout)           (None, 300, 256)          0         \n",
            "                                                                 \n",
            " conv1d (Conv1D)             (None, 300, 256)          327936    \n",
            "                                                                 \n",
            " conv1d_1 (Conv1D)           (None, 300, 128)          163968    \n",
            "                                                                 \n",
            " max_pooling1d (MaxPooling1D  (None, 150, 128)         0         \n",
            " )                                                               \n",
            "                                                                 \n",
            " conv1d_2 (Conv1D)           (None, 150, 64)           41024     \n",
            "                                                                 \n",
            " max_pooling1d_1 (MaxPooling  (None, 75, 64)           0         \n",
            " 1D)                                                             \n",
            "                                                                 \n",
            " lstm (LSTM)                 (None, 75)                42000     \n",
            "                                                                 \n",
            " dense (Dense)               (None, 1)                 76        \n",
            "                                                                 \n",
            "=================================================================\n",
            "Total params: 3,135,004\n",
            "Trainable params: 3,135,004\n",
            "Non-trainable params: 0\n",
            "_________________________________________________________________\n",
            "None\n"
          ]
        }
      ],
      "source": [
        "# Model\n",
        "model = Sequential()\n",
        "model.add(Embedding(vocab_size, 256, input_length = maxlen))\n",
        "model.add(Dropout(0.25))\n",
        "model.add(Conv1D(256, 5, padding = 'same', activation = 'relu', strides = 1))\n",
        "model.add(Conv1D(128, 5, padding = 'same', activation = 'relu', strides = 1))\n",
        "model.add(MaxPooling1D(pool_size = 2))\n",
        "model.add(Conv1D(64, 5, padding = 'same', activation = 'relu', strides = 1))\n",
        "model.add(MaxPooling1D(pool_size = 2))\n",
        "model.add(LSTM(75))\n",
        "model.add(Dense(1, activation = 'sigmoid'))\n",
        "model.compile(loss = 'binary_crossentropy', optimizer = 'adam', metrics = ['accuracy'])\n",
        "print(model.summary())\n",
        "\n",
        "# Adding callbacks\n",
        "es = EarlyStopping(monitor = 'val_loss', mode = 'min', verbose = 1, patience = 0)  \n",
        "mc = ModelCheckpoint('imdb_model.h5', monitor = 'val_loss', mode = 'min', save_best_only = True, verbose = 1)"
      ]
    },
    {
      "cell_type": "code",
      "execution_count": 11,
      "metadata": {
        "id": "fJtm93UciQo7",
        "colab": {
          "base_uri": "https://localhost:8080/"
        },
        "outputId": "bdb70c12-1eb9-4088-9986-e1bb6e23ede1"
      },
      "outputs": [
        {
          "output_type": "stream",
          "name": "stdout",
          "text": [
            "Epoch 1/3\n",
            "500/500 [==============================] - ETA: 0s - loss: 0.3395 - accuracy: 0.8403\n",
            "Epoch 1: val_loss improved from inf to 0.24686, saving model to imdb_model.h5\n",
            "500/500 [==============================] - 50s 73ms/step - loss: 0.3395 - accuracy: 0.8403 - val_loss: 0.2469 - val_accuracy: 0.8991\n",
            "Epoch 2/3\n",
            "500/500 [==============================] - ETA: 0s - loss: 0.1833 - accuracy: 0.9308\n",
            "Epoch 2: val_loss did not improve from 0.24686\n",
            "500/500 [==============================] - 36s 72ms/step - loss: 0.1833 - accuracy: 0.9308 - val_loss: 0.2583 - val_accuracy: 0.8953\n",
            "Epoch 2: early stopping\n",
            "157/157 [==============================] - 4s 22ms/step - loss: 0.2557 - accuracy: 0.8949\n",
            "Test accuracy: 89.49%\n"
          ]
        }
      ],
      "source": [
        "# Fit the model\n",
        "model.fit(x_train, y_train, validation_data = (x_valid, y_valid), epochs = 3, batch_size = 64, verbose = True, callbacks = [es, mc])\n",
        "\n",
        "# Evaluate the model\n",
        "scores = model.evaluate(x_test, y_test, batch_size = 64)\n",
        "print('Test accuracy: %.2f%%' % (scores[1]*100))"
      ]
    },
    {
      "cell_type": "code",
      "execution_count": 14,
      "metadata": {
        "id": "Fyx6fuOqIpEP",
        "colab": {
          "base_uri": "https://localhost:8080/"
        },
        "outputId": "3ecdca41-7f3b-40c2-e6f7-934a5eb858a4"
      },
      "outputs": [
        {
          "output_type": "stream",
          "name": "stdout",
          "text": [
            "Classification Report:\n",
            "              precision    recall  f1-score   support\n",
            "\n",
            "           0       1.00      0.49      0.66     10000\n",
            "           1       0.00      0.00      0.00         0\n",
            "\n",
            "    accuracy                           0.49     10000\n",
            "   macro avg       0.50      0.25      0.33     10000\n",
            "weighted avg       1.00      0.49      0.66     10000\n",
            "\n"
          ]
        }
      ],
      "source": [
        "#y_pred = model.predict_classes(x_test)\n",
        "predict_x=model.predict(x_test) \n",
        "y_pred=np.argmax(predict_x,axis=1)\n",
        "print(f'Classification Report:\\n{classification_report(y_pred, y_test)}')"
      ]
    },
    {
      "cell_type": "markdown",
      "metadata": {
        "id": "Igq8Qm8GeCzG"
      },
      "source": [
        "Retrive output of each layer in keras for a given single test sample from the trained model"
      ]
    },
    {
      "cell_type": "code",
      "execution_count": 15,
      "metadata": {
        "id": "0AqOnLa2eCzH",
        "colab": {
          "base_uri": "https://localhost:8080/"
        },
        "outputId": "970e584c-2228-4763-a4ff-770abd742521"
      },
      "outputs": [
        {
          "output_type": "stream",
          "name": "stdout",
          "text": [
            "\n",
            " ---------------------------------------- embedding layer ---------------------------------------- \n",
            "\n",
            "[[[ 0.01240082  0.00111831 -0.00751773 ...  0.00435726  0.02900069\n",
            "    0.01388618]\n",
            "  [ 0.01240082  0.00111831 -0.00751773 ...  0.00435726  0.02900069\n",
            "    0.01388618]\n",
            "  [ 0.01240082  0.00111831 -0.00751773 ...  0.00435726  0.02900069\n",
            "    0.01388618]\n",
            "  ...\n",
            "  [-0.02351479  0.01813366 -0.03133444 ... -0.07914362  0.00348496\n",
            "   -0.0343854 ]\n",
            "  [-0.01062981  0.01777026 -0.02406921 ...  0.04433554 -0.01352686\n",
            "    0.04584379]\n",
            "  [ 0.01886249 -0.06760372  0.00992214 ... -0.02097903 -0.02103261\n",
            "   -0.00969492]]]\n",
            "\n",
            " ---------------------------------------- dropout layer ---------------------------------------- \n",
            "\n",
            "[[[ 0.01240082  0.00111831 -0.00751773 ...  0.00435726  0.02900069\n",
            "    0.01388618]\n",
            "  [ 0.01240082  0.00111831 -0.00751773 ...  0.00435726  0.02900069\n",
            "    0.01388618]\n",
            "  [ 0.01240082  0.00111831 -0.00751773 ...  0.00435726  0.02900069\n",
            "    0.01388618]\n",
            "  ...\n",
            "  [-0.02351479  0.01813366 -0.03133444 ... -0.07914362  0.00348496\n",
            "   -0.0343854 ]\n",
            "  [-0.01062981  0.01777026 -0.02406921 ...  0.04433554 -0.01352686\n",
            "    0.04584379]\n",
            "  [ 0.01886249 -0.06760372  0.00992214 ... -0.02097903 -0.02103261\n",
            "   -0.00969492]]]\n",
            "\n",
            " ---------------------------------------- conv1d layer ---------------------------------------- \n",
            "\n",
            "[[[0.         0.         0.         ... 0.         0.         0.        ]\n",
            "  [0.         0.         0.         ... 0.         0.         0.        ]\n",
            "  [0.         0.         0.         ... 0.         0.         0.        ]\n",
            "  ...\n",
            "  [0.         0.         0.         ... 0.         0.         0.        ]\n",
            "  [0.00224111 0.         0.         ... 0.02996856 0.         0.        ]\n",
            "  [0.         0.00236209 0.         ... 0.         0.         0.        ]]]\n",
            "WARNING:tensorflow:5 out of the last 317 calls to <function Model.make_predict_function.<locals>.predict_function at 0x7fb07cdd4290> triggered tf.function retracing. Tracing is expensive and the excessive number of tracings could be due to (1) creating @tf.function repeatedly in a loop, (2) passing tensors with different shapes, (3) passing Python objects instead of tensors. For (1), please define your @tf.function outside of the loop. For (2), @tf.function has experimental_relax_shapes=True option that relaxes argument shapes that can avoid unnecessary retracing. For (3), please refer to https://www.tensorflow.org/guide/function#controlling_retracing and https://www.tensorflow.org/api_docs/python/tf/function for  more details.\n",
            "\n",
            " ---------------------------------------- conv1d_1 layer ---------------------------------------- \n",
            "\n",
            "[[[0. 0. 0. ... 0. 0. 0.]\n",
            "  [0. 0. 0. ... 0. 0. 0.]\n",
            "  [0. 0. 0. ... 0. 0. 0.]\n",
            "  ...\n",
            "  [0. 0. 0. ... 0. 0. 0.]\n",
            "  [0. 0. 0. ... 0. 0. 0.]\n",
            "  [0. 0. 0. ... 0. 0. 0.]]]\n",
            "WARNING:tensorflow:6 out of the last 318 calls to <function Model.make_predict_function.<locals>.predict_function at 0x7fb07ccf2440> triggered tf.function retracing. Tracing is expensive and the excessive number of tracings could be due to (1) creating @tf.function repeatedly in a loop, (2) passing tensors with different shapes, (3) passing Python objects instead of tensors. For (1), please define your @tf.function outside of the loop. For (2), @tf.function has experimental_relax_shapes=True option that relaxes argument shapes that can avoid unnecessary retracing. For (3), please refer to https://www.tensorflow.org/guide/function#controlling_retracing and https://www.tensorflow.org/api_docs/python/tf/function for  more details.\n",
            "\n",
            " ---------------------------------------- max_pooling1d layer ---------------------------------------- \n",
            "\n",
            "[[[0. 0. 0. ... 0. 0. 0.]\n",
            "  [0. 0. 0. ... 0. 0. 0.]\n",
            "  [0. 0. 0. ... 0. 0. 0.]\n",
            "  ...\n",
            "  [0. 0. 0. ... 0. 0. 0.]\n",
            "  [0. 0. 0. ... 0. 0. 0.]\n",
            "  [0. 0. 0. ... 0. 0. 0.]]]\n",
            "\n",
            " ---------------------------------------- conv1d_2 layer ---------------------------------------- \n",
            "\n",
            "[[[0.         0.         0.         ... 0.         0.         0.        ]\n",
            "  [0.         0.         0.         ... 0.         0.         0.        ]\n",
            "  [0.         0.         0.         ... 0.         0.         0.        ]\n",
            "  ...\n",
            "  [0.         0.9649469  0.         ... 0.         0.         0.        ]\n",
            "  [0.         0.6011257  0.         ... 0.         0.         0.        ]\n",
            "  [0.         0.07728647 0.         ... 0.         0.         0.        ]]]\n",
            "\n",
            " ---------------------------------------- max_pooling1d_1 layer ---------------------------------------- \n",
            "\n",
            "[[[0.        0.        0.        ... 0.        0.        0.       ]\n",
            "  [0.        0.        0.        ... 0.        0.        0.       ]\n",
            "  [0.        0.        0.        ... 0.        0.        0.       ]\n",
            "  ...\n",
            "  [0.        2.6222196 0.        ... 0.        0.        0.       ]\n",
            "  [0.        1.5771114 0.        ... 0.        0.        0.       ]\n",
            "  [0.        0.6011257 0.        ... 0.        0.        0.       ]]]\n",
            "\n",
            " ---------------------------------------- lstm layer ---------------------------------------- \n",
            "\n",
            "[[ 0.5842379  -0.2739628  -0.3030201   0.2224816  -0.5519224  -0.50320655\n",
            "  -0.557394    0.03905138  0.04620378  0.15901504 -0.4161168   0.33328384\n",
            "  -0.16821325 -0.10963625  0.00652894 -0.12506355  0.23193948 -0.2267615\n",
            "   0.17966993 -0.48868126 -0.01061098 -0.12212876 -0.16341959 -0.02425358\n",
            "   0.52573943  0.60117793  0.1112273  -0.14528404 -0.4307521   0.04354524\n",
            "  -0.0891501  -0.401466    0.270911    0.04073042 -0.34100154  0.0939012\n",
            "   0.34097546 -0.19064352 -0.1889375   0.40727282  0.36855748 -0.553002\n",
            "   0.47074613  0.06157698 -0.55503374 -0.42367014  0.01250949  0.4381483\n",
            "  -0.18737265  0.48564962 -0.07736558  0.1732326  -0.47930542 -0.4707878\n",
            "   0.41023284  0.07110505  0.43001363  0.00424339 -0.3649989  -0.41556266\n",
            "   0.37876225 -0.22898662 -0.06349466  0.03339693 -0.37423655  0.4564662\n",
            "   0.31587443 -0.21954659  0.5383315   0.27387092 -0.5056541  -0.2599018\n",
            "  -0.39152038 -0.05263488 -0.03912885]]\n",
            "\n",
            " ---------------------------------------- dense layer ---------------------------------------- \n",
            "\n",
            "[[0.04464908]]\n"
          ]
        }
      ],
      "source": [
        "sample_x_test = x_test[np.random.randint(10000)]\n",
        "for layer in model.layers:\n",
        "\n",
        "    model_layer = Model(inputs = model.input, outputs = model.get_layer(layer.name).output)\n",
        "    output = model_layer.predict(sample_x_test.reshape(1,-1))\n",
        "    print('\\n','--'*20, layer.name, 'layer', '--'*20, '\\n')\n",
        "    print(output)"
      ]
    },
    {
      "cell_type": "code",
      "execution_count": 22,
      "metadata": {
        "id": "nANxPDVbxL_M",
        "colab": {
          "base_uri": "https://localhost:8080/"
        },
        "outputId": "21fae61c-0c76-4e1c-97db-dd7c8167d782"
      },
      "outputs": [
        {
          "output_type": "stream",
          "name": "stdout",
          "text": [
            "Review: <PAD> <PAD> <PAD> <PAD> <PAD> <PAD> <PAD> <PAD> <PAD> <PAD> <PAD> <PAD> <PAD> <PAD> <PAD> <PAD> <PAD> <PAD> <PAD> <PAD> <PAD> <PAD> <PAD> <PAD> <PAD> <PAD> <PAD> <PAD> <PAD> <PAD> <PAD> <PAD> <PAD> <PAD> <PAD> <PAD> <PAD> <PAD> <PAD> <PAD> <PAD> <PAD> <PAD> <PAD> <PAD> <PAD> <PAD> <PAD> <PAD> <PAD> <PAD> <PAD> <PAD> <PAD> <PAD> <PAD> <PAD> <PAD> <PAD> <PAD> <PAD> <PAD> <PAD> <PAD> <PAD> <PAD> <PAD> <PAD> <PAD> <PAD> <PAD> <PAD> <PAD> <PAD> <PAD> <PAD> <PAD> <PAD> <PAD> <PAD> <PAD> <PAD> <PAD> <PAD> <PAD> <PAD> <PAD> <PAD> <PAD> <PAD> <PAD> <PAD> <PAD> <PAD> <PAD> <PAD> <PAD> <PAD> <PAD> <PAD> <PAD> <PAD> <PAD> <PAD> <PAD> <PAD> <PAD> <PAD> <PAD> <PAD> <PAD> <PAD> <PAD> <PAD> <PAD> <PAD> <PAD> <PAD> <PAD> <PAD> <PAD> <PAD> <PAD> <PAD> <PAD> <PAD> <PAD> <PAD> <PAD> <PAD> <PAD> <PAD> <PAD> <PAD> <PAD> <PAD> <PAD> <PAD> <PAD> <PAD> <PAD> <PAD> <PAD> <PAD> <PAD> <PAD> <PAD> <PAD> <PAD> <PAD> <PAD> <PAD> <PAD> <PAD> <PAD> <PAD> <PAD> <PAD> <PAD> <PAD> <PAD> <PAD> <PAD> <PAD> <PAD> <PAD> <PAD> <PAD> <PAD> <PAD> <PAD> <PAD> <PAD> <PAD> <PAD> <PAD> <PAD> <PAD> <PAD> <PAD> <PAD> <PAD> <PAD> <PAD> <PAD> <PAD> <PAD> <START> this movie was great and i was waiting for it for a long time when it finally came out i was really happy and looked forward to a 10 out of 10 it was great and lived up to my potential the performances were great on the part of the adults and most of the kids the only bad performance was by milo himself there was one problem that i encountered with this and others like it movie all of the characters i wanted to live were getting killed overall i give this movie an excellent 9 out of 10 maybe we should <UNK> better people to kill next time though ok\n",
            "Actual Sentiment: 1\n",
            "Predicted sentiment: 0\n"
          ]
        }
      ],
      "source": [
        "decode_review(x_test[10], y_test[10])\n",
        "#print(y_pred)\n",
        "print(f'Predicted sentiment: {y_pred[10]}')"
      ]
    },
    {
      "cell_type": "markdown",
      "metadata": {
        "id": "LRVgcJiCm6FW"
      },
      "source": [
        "Conclusion\n",
        "* Sentiment classification task on the IMDB dataset, on test dataset,\n",
        "  * Accuracy: > 90%\n",
        "  * F1-score: > 50%\n",
        "  * Loss of 0.4"
      ]
    }
  ],
  "metadata": {
    "accelerator": "GPU",
    "colab": {
      "collapsed_sections": [],
      "name": "NLP_Project2 - Part1.ipynb",
      "provenance": []
    },
    "kernelspec": {
      "display_name": "Python 3",
      "language": "python",
      "name": "python3"
    },
    "language_info": {
      "codemirror_mode": {
        "name": "ipython",
        "version": 3
      },
      "file_extension": ".py",
      "mimetype": "text/x-python",
      "name": "python",
      "nbconvert_exporter": "python",
      "pygments_lexer": "ipython3",
      "version": "3.7.6"
    }
  },
  "nbformat": 4,
  "nbformat_minor": 0
}