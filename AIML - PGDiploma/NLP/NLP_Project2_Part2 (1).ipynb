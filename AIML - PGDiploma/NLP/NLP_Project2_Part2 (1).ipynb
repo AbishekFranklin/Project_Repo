{
  "cells": [
    {
      "cell_type": "markdown",
      "metadata": {
        "id": "v9kv9tyJ77eF"
      },
      "source": [
        "Import Packages"
      ]
    },
    {
      "cell_type": "code",
      "execution_count": null,
      "metadata": {
        "colab": {
          "base_uri": "https://localhost:8080/"
        },
        "id": "D0O_n6OIEVyL",
        "outputId": "6fc0d167-216f-4b38-9008-fa112506b9d4"
      },
      "outputs": [
        {
          "output_type": "stream",
          "name": "stdout",
          "text": [
            "Drive already mounted at /content/drive; to attempt to forcibly remount, call drive.mount(\"/content/drive\", force_remount=True).\n"
          ]
        }
      ],
      "source": [
        "# Mounting Google Drive\n",
        "from google.colab import drive\n",
        "drive.mount('/content/drive')"
      ]
    },
    {
      "cell_type": "code",
      "source": [
        "# Setting the current working directory\n",
        "import os; os.chdir('drive/My Drive/NLP')"
      ],
      "metadata": {
        "id": "K-NqajEOOEKK"
      },
      "execution_count": null,
      "outputs": []
    },
    {
      "cell_type": "code",
      "source": [
        "pip install preprocessing"
      ],
      "metadata": {
        "colab": {
          "base_uri": "https://localhost:8080/"
        },
        "id": "DTq_02usNAwx",
        "outputId": "310c0b5f-4603-4134-ea83-e04ac6790fd7"
      },
      "execution_count": null,
      "outputs": [
        {
          "output_type": "stream",
          "name": "stdout",
          "text": [
            "Requirement already satisfied: preprocessing in /usr/local/lib/python3.7/dist-packages (0.1.13)\n",
            "Requirement already satisfied: sphinx-rtd-theme==0.2.4 in /usr/local/lib/python3.7/dist-packages (from preprocessing) (0.2.4)\n",
            "Requirement already satisfied: nltk==3.2.4 in /usr/local/lib/python3.7/dist-packages (from preprocessing) (3.2.4)\n",
            "Requirement already satisfied: six in /usr/local/lib/python3.7/dist-packages (from nltk==3.2.4->preprocessing) (1.15.0)\n"
          ]
        }
      ]
    },
    {
      "cell_type": "code",
      "source": [
        "pip install textpreprocess"
      ],
      "metadata": {
        "colab": {
          "base_uri": "https://localhost:8080/"
        },
        "id": "I6tSQctNNmPd",
        "outputId": "fb687c2b-5ff2-465b-e636-2be9e3194142"
      },
      "execution_count": null,
      "outputs": [
        {
          "output_type": "stream",
          "name": "stdout",
          "text": [
            "Requirement already satisfied: textpreprocess in /usr/local/lib/python3.7/dist-packages (0.1)\n",
            "Requirement already satisfied: nltk in /usr/local/lib/python3.7/dist-packages (from textpreprocess) (3.2.4)\n",
            "Requirement already satisfied: six in /usr/local/lib/python3.7/dist-packages (from nltk->textpreprocess) (1.15.0)\n"
          ]
        }
      ]
    },
    {
      "cell_type": "code",
      "execution_count": null,
      "metadata": {
        "colab": {
          "base_uri": "https://localhost:8080/"
        },
        "id": "fnY_BnILi810",
        "outputId": "81c9b337-84b2-4f31-cf5a-d3914130f605"
      },
      "outputs": [
        {
          "output_type": "stream",
          "name": "stdout",
          "text": [
            "rm: cannot remove 'log/': No such file or directory\n"
          ]
        }
      ],
      "source": [
        "# Import packages\n",
        "import warnings; warnings.filterwarnings('ignore')\n",
        "import pandas as pd, numpy as np, tensorflow as tf\n",
        "import matplotlib.pyplot as plt, seaborn as sns\n",
        "import matplotlib.style as style\n",
        "\n",
        "import random, re\n",
        "assert tf.__version__ >= '2.0'\n",
        "%matplotlib inline\n",
        "\n",
        "# Text preprocessing and stopwords\n",
        "from textpreprocess import * #(custom module)\n",
        "\n",
        "# Models\n",
        "from tensorflow.keras.layers import Dense, LSTM, Embedding, Dropout, Flatten, Bidirectional, GlobalMaxPool1D\n",
        "from tensorflow.keras.callbacks import EarlyStopping, ModelCheckpoint, ReduceLROnPlateau, TensorBoard\n",
        "from tensorflow.keras.preprocessing.sequence import pad_sequences\n",
        "from tensorflow.keras.preprocessing.text import Tokenizer\n",
        "from tensorflow.keras.models import Model, Sequential\n",
        "from tensorflow.keras.initializers import Constant\n",
        "\n",
        "from sklearn.metrics import classification_report, confusion_matrix\n",
        "from sklearn.model_selection import train_test_split\n",
        "\n",
        "# Set random state\n",
        "random_state = 42\n",
        "np.random.seed(random_state)\n",
        "tf.random.set_seed(random_state)\n",
        "\n",
        "!rm -R log/"
      ]
    },
    {
      "cell_type": "markdown",
      "metadata": {
        "id": "WXYwajPeQbRq"
      },
      "source": [
        "Loading Dataset"
      ]
    },
    {
      "cell_type": "code",
      "execution_count": null,
      "metadata": {
        "id": "StSLB-T8PuGr",
        "colab": {
          "base_uri": "https://localhost:8080/",
          "height": 224
        },
        "outputId": "98d8fbdc-5a8d-4a81-ab48-2839936bb58e"
      },
      "outputs": [
        {
          "output_type": "stream",
          "name": "stdout",
          "text": [
            "Data has 28619 rows and 3 columns. Here are the first five rows of the data...\n"
          ]
        },
        {
          "output_type": "display_data",
          "data": {
            "text/plain": [
              "   is_sarcastic                                           headline  \\\n",
              "0             1  thirtysomething scientists unveil doomsday clo...   \n",
              "1             0  dem rep. totally nails why congress is falling...   \n",
              "2             0  eat your veggies: 9 deliciously different recipes   \n",
              "3             1  inclement weather prevents liar from getting t...   \n",
              "4             1  mother comes pretty close to using word 'strea...   \n",
              "\n",
              "                                        article_link  \n",
              "0  https://www.theonion.com/thirtysomething-scien...  \n",
              "1  https://www.huffingtonpost.com/entry/donna-edw...  \n",
              "2  https://www.huffingtonpost.com/entry/eat-your-...  \n",
              "3  https://local.theonion.com/inclement-weather-p...  \n",
              "4  https://www.theonion.com/mother-comes-pretty-c...  "
            ],
            "text/html": [
              "\n",
              "  <div id=\"df-a346731e-0980-4d81-adf6-2f7baa387e89\">\n",
              "    <div class=\"colab-df-container\">\n",
              "      <div>\n",
              "<style scoped>\n",
              "    .dataframe tbody tr th:only-of-type {\n",
              "        vertical-align: middle;\n",
              "    }\n",
              "\n",
              "    .dataframe tbody tr th {\n",
              "        vertical-align: top;\n",
              "    }\n",
              "\n",
              "    .dataframe thead th {\n",
              "        text-align: right;\n",
              "    }\n",
              "</style>\n",
              "<table border=\"1\" class=\"dataframe\">\n",
              "  <thead>\n",
              "    <tr style=\"text-align: right;\">\n",
              "      <th></th>\n",
              "      <th>is_sarcastic</th>\n",
              "      <th>headline</th>\n",
              "      <th>article_link</th>\n",
              "    </tr>\n",
              "  </thead>\n",
              "  <tbody>\n",
              "    <tr>\n",
              "      <th>0</th>\n",
              "      <td>1</td>\n",
              "      <td>thirtysomething scientists unveil doomsday clo...</td>\n",
              "      <td>https://www.theonion.com/thirtysomething-scien...</td>\n",
              "    </tr>\n",
              "    <tr>\n",
              "      <th>1</th>\n",
              "      <td>0</td>\n",
              "      <td>dem rep. totally nails why congress is falling...</td>\n",
              "      <td>https://www.huffingtonpost.com/entry/donna-edw...</td>\n",
              "    </tr>\n",
              "    <tr>\n",
              "      <th>2</th>\n",
              "      <td>0</td>\n",
              "      <td>eat your veggies: 9 deliciously different recipes</td>\n",
              "      <td>https://www.huffingtonpost.com/entry/eat-your-...</td>\n",
              "    </tr>\n",
              "    <tr>\n",
              "      <th>3</th>\n",
              "      <td>1</td>\n",
              "      <td>inclement weather prevents liar from getting t...</td>\n",
              "      <td>https://local.theonion.com/inclement-weather-p...</td>\n",
              "    </tr>\n",
              "    <tr>\n",
              "      <th>4</th>\n",
              "      <td>1</td>\n",
              "      <td>mother comes pretty close to using word 'strea...</td>\n",
              "      <td>https://www.theonion.com/mother-comes-pretty-c...</td>\n",
              "    </tr>\n",
              "  </tbody>\n",
              "</table>\n",
              "</div>\n",
              "      <button class=\"colab-df-convert\" onclick=\"convertToInteractive('df-a346731e-0980-4d81-adf6-2f7baa387e89')\"\n",
              "              title=\"Convert this dataframe to an interactive table.\"\n",
              "              style=\"display:none;\">\n",
              "        \n",
              "  <svg xmlns=\"http://www.w3.org/2000/svg\" height=\"24px\"viewBox=\"0 0 24 24\"\n",
              "       width=\"24px\">\n",
              "    <path d=\"M0 0h24v24H0V0z\" fill=\"none\"/>\n",
              "    <path d=\"M18.56 5.44l.94 2.06.94-2.06 2.06-.94-2.06-.94-.94-2.06-.94 2.06-2.06.94zm-11 1L8.5 8.5l.94-2.06 2.06-.94-2.06-.94L8.5 2.5l-.94 2.06-2.06.94zm10 10l.94 2.06.94-2.06 2.06-.94-2.06-.94-.94-2.06-.94 2.06-2.06.94z\"/><path d=\"M17.41 7.96l-1.37-1.37c-.4-.4-.92-.59-1.43-.59-.52 0-1.04.2-1.43.59L10.3 9.45l-7.72 7.72c-.78.78-.78 2.05 0 2.83L4 21.41c.39.39.9.59 1.41.59.51 0 1.02-.2 1.41-.59l7.78-7.78 2.81-2.81c.8-.78.8-2.07 0-2.86zM5.41 20L4 18.59l7.72-7.72 1.47 1.35L5.41 20z\"/>\n",
              "  </svg>\n",
              "      </button>\n",
              "      \n",
              "  <style>\n",
              "    .colab-df-container {\n",
              "      display:flex;\n",
              "      flex-wrap:wrap;\n",
              "      gap: 12px;\n",
              "    }\n",
              "\n",
              "    .colab-df-convert {\n",
              "      background-color: #E8F0FE;\n",
              "      border: none;\n",
              "      border-radius: 50%;\n",
              "      cursor: pointer;\n",
              "      display: none;\n",
              "      fill: #1967D2;\n",
              "      height: 32px;\n",
              "      padding: 0 0 0 0;\n",
              "      width: 32px;\n",
              "    }\n",
              "\n",
              "    .colab-df-convert:hover {\n",
              "      background-color: #E2EBFA;\n",
              "      box-shadow: 0px 1px 2px rgba(60, 64, 67, 0.3), 0px 1px 3px 1px rgba(60, 64, 67, 0.15);\n",
              "      fill: #174EA6;\n",
              "    }\n",
              "\n",
              "    [theme=dark] .colab-df-convert {\n",
              "      background-color: #3B4455;\n",
              "      fill: #D2E3FC;\n",
              "    }\n",
              "\n",
              "    [theme=dark] .colab-df-convert:hover {\n",
              "      background-color: #434B5C;\n",
              "      box-shadow: 0px 1px 3px 1px rgba(0, 0, 0, 0.15);\n",
              "      filter: drop-shadow(0px 1px 2px rgba(0, 0, 0, 0.3));\n",
              "      fill: #FFFFFF;\n",
              "    }\n",
              "  </style>\n",
              "\n",
              "      <script>\n",
              "        const buttonEl =\n",
              "          document.querySelector('#df-a346731e-0980-4d81-adf6-2f7baa387e89 button.colab-df-convert');\n",
              "        buttonEl.style.display =\n",
              "          google.colab.kernel.accessAllowed ? 'block' : 'none';\n",
              "\n",
              "        async function convertToInteractive(key) {\n",
              "          const element = document.querySelector('#df-a346731e-0980-4d81-adf6-2f7baa387e89');\n",
              "          const dataTable =\n",
              "            await google.colab.kernel.invokeFunction('convertToInteractive',\n",
              "                                                     [key], {});\n",
              "          if (!dataTable) return;\n",
              "\n",
              "          const docLinkHtml = 'Like what you see? Visit the ' +\n",
              "            '<a target=\"_blank\" href=https://colab.research.google.com/notebooks/data_table.ipynb>data table notebook</a>'\n",
              "            + ' to learn more about interactive tables.';\n",
              "          element.innerHTML = '';\n",
              "          dataTable['output_type'] = 'display_data';\n",
              "          await google.colab.output.renderOutput(dataTable, element);\n",
              "          const docLink = document.createElement('div');\n",
              "          docLink.innerHTML = docLinkHtml;\n",
              "          element.appendChild(docLink);\n",
              "        }\n",
              "      </script>\n",
              "    </div>\n",
              "  </div>\n",
              "  "
            ]
          },
          "metadata": {}
        }
      ],
      "source": [
        "data = pd.read_json('./Sarcasm_Headlines_Dataset.json', lines = True)\n",
        "print(f'Data has {data.shape[0]} rows and {data.shape[1]} columns. Here are the first five rows of the data...')\n",
        "display(data.head())"
      ]
    },
    {
      "cell_type": "code",
      "execution_count": null,
      "metadata": {
        "id": "5s9jDOxrnk3T",
        "colab": {
          "base_uri": "https://localhost:8080/",
          "height": 500
        },
        "outputId": "d4602537-f896-4c53-e8f6-459dd8e0bc8e"
      },
      "outputs": [
        {
          "output_type": "stream",
          "name": "stdout",
          "text": [
            "------------------------------------------------------------\n",
            "Value Counts for `is_sarcastic` label\n",
            "------------------------------------------------------------\n",
            "Is Sarcastic count: 13634 i.e. 48.0%\n",
            "Isn't Sarcastic count: 14985 i.e. 52.0%\n",
            "------------------------------------------------------------\n",
            "Distributon of `is_sarcastic` label\n",
            "------------------------------------------------------------\n"
          ]
        },
        {
          "output_type": "display_data",
          "data": {
            "text/plain": [
              "<Figure size 720x432 with 1 Axes>"
            ],
            "image/png": "[encoded data removed]"
          },
          "metadata": {}
        }
      ],
      "source": [
        "print('--'*30); print('Value Counts for `is_sarcastic` label'); print('--'*30)\n",
        "print(f'Is Sarcastic count: {data[data.is_sarcastic == 1].shape[0]} i.e. {round(data[data.is_sarcastic == 1].shape[0]/data.shape[0]*100, 0)}%')\n",
        "print(f'Isn\\'t Sarcastic count: {data[data.is_sarcastic == 0].shape[0]} i.e. {round(data[data.is_sarcastic == 0].shape[0]/data.shape[0]*100, 0)}%')\n",
        "\n",
        "print('--'*30); print('Distributon of `is_sarcastic` label'); print('--'*30)\n",
        "_ = data['is_sarcastic'].value_counts().plot(kind = 'pie', autopct = '%.0f%%', labels = ['Sarcastic', 'Non-sarcastic'], figsize = (10, 6))"
      ]
    },
    {
      "cell_type": "code",
      "execution_count": null,
      "metadata": {
        "id": "6TqY6nd_tVnN",
        "colab": {
          "base_uri": "https://localhost:8080/",
          "height": 148
        },
        "outputId": "0c99fb89-598e-468a-90e9-aee3269d381e"
      },
      "outputs": [
        {
          "output_type": "stream",
          "name": "stdout",
          "text": [
            "Analysis of `is_sarcastic` label by news website\n",
            "------------------------------------------------------------\n"
          ]
        },
        {
          "output_type": "display_data",
          "data": {
            "text/plain": [
              "               huffingtonpost  theonion\n",
              "Sarcastic                   0     13634\n",
              "Non-sarcastic           14985         1"
            ],
            "text/html": [
              "\n",
              "  <div id=\"df-87efb83e-5d4d-4c26-bb07-fc25771cc058\">\n",
              "    <div class=\"colab-df-container\">\n",
              "      <div>\n",
              "<style scoped>\n",
              "    .dataframe tbody tr th:only-of-type {\n",
              "        vertical-align: middle;\n",
              "    }\n",
              "\n",
              "    .dataframe tbody tr th {\n",
              "        vertical-align: top;\n",
              "    }\n",
              "\n",
              "    .dataframe thead th {\n",
              "        text-align: right;\n",
              "    }\n",
              "</style>\n",
              "<table border=\"1\" class=\"dataframe\">\n",
              "  <thead>\n",
              "    <tr style=\"text-align: right;\">\n",
              "      <th></th>\n",
              "      <th>huffingtonpost</th>\n",
              "      <th>theonion</th>\n",
              "    </tr>\n",
              "  </thead>\n",
              "  <tbody>\n",
              "    <tr>\n",
              "      <th>Sarcastic</th>\n",
              "      <td>0</td>\n",
              "      <td>13634</td>\n",
              "    </tr>\n",
              "    <tr>\n",
              "      <th>Non-sarcastic</th>\n",
              "      <td>14985</td>\n",
              "      <td>1</td>\n",
              "    </tr>\n",
              "  </tbody>\n",
              "</table>\n",
              "</div>\n",
              "      <button class=\"colab-df-convert\" onclick=\"convertToInteractive('df-87efb83e-5d4d-4c26-bb07-fc25771cc058')\"\n",
              "              title=\"Convert this dataframe to an interactive table.\"\n",
              "              style=\"display:none;\">\n",
              "        \n",
              "  <svg xmlns=\"http://www.w3.org/2000/svg\" height=\"24px\"viewBox=\"0 0 24 24\"\n",
              "       width=\"24px\">\n",
              "    <path d=\"M0 0h24v24H0V0z\" fill=\"none\"/>\n",
              "    <path d=\"M18.56 5.44l.94 2.06.94-2.06 2.06-.94-2.06-.94-.94-2.06-.94 2.06-2.06.94zm-11 1L8.5 8.5l.94-2.06 2.06-.94-2.06-.94L8.5 2.5l-.94 2.06-2.06.94zm10 10l.94 2.06.94-2.06 2.06-.94-2.06-.94-.94-2.06-.94 2.06-2.06.94z\"/><path d=\"M17.41 7.96l-1.37-1.37c-.4-.4-.92-.59-1.43-.59-.52 0-1.04.2-1.43.59L10.3 9.45l-7.72 7.72c-.78.78-.78 2.05 0 2.83L4 21.41c.39.39.9.59 1.41.59.51 0 1.02-.2 1.41-.59l7.78-7.78 2.81-2.81c.8-.78.8-2.07 0-2.86zM5.41 20L4 18.59l7.72-7.72 1.47 1.35L5.41 20z\"/>\n",
              "  </svg>\n",
              "      </button>\n",
              "      \n",
              "  <style>\n",
              "    .colab-df-container {\n",
              "      display:flex;\n",
              "      flex-wrap:wrap;\n",
              "      gap: 12px;\n",
              "    }\n",
              "\n",
              "    .colab-df-convert {\n",
              "      background-color: #E8F0FE;\n",
              "      border: none;\n",
              "      border-radius: 50%;\n",
              "      cursor: pointer;\n",
              "      display: none;\n",
              "      fill: #1967D2;\n",
              "      height: 32px;\n",
              "      padding: 0 0 0 0;\n",
              "      width: 32px;\n",
              "    }\n",
              "\n",
              "    .colab-df-convert:hover {\n",
              "      background-color: #E2EBFA;\n",
              "      box-shadow: 0px 1px 2px rgba(60, 64, 67, 0.3), 0px 1px 3px 1px rgba(60, 64, 67, 0.15);\n",
              "      fill: #174EA6;\n",
              "    }\n",
              "\n",
              "    [theme=dark] .colab-df-convert {\n",
              "      background-color: #3B4455;\n",
              "      fill: #D2E3FC;\n",
              "    }\n",
              "\n",
              "    [theme=dark] .colab-df-convert:hover {\n",
              "      background-color: #434B5C;\n",
              "      box-shadow: 0px 1px 3px 1px rgba(0, 0, 0, 0.15);\n",
              "      filter: drop-shadow(0px 1px 2px rgba(0, 0, 0, 0.3));\n",
              "      fill: #FFFFFF;\n",
              "    }\n",
              "  </style>\n",
              "\n",
              "      <script>\n",
              "        const buttonEl =\n",
              "          document.querySelector('#df-87efb83e-5d4d-4c26-bb07-fc25771cc058 button.colab-df-convert');\n",
              "        buttonEl.style.display =\n",
              "          google.colab.kernel.accessAllowed ? 'block' : 'none';\n",
              "\n",
              "        async function convertToInteractive(key) {\n",
              "          const element = document.querySelector('#df-87efb83e-5d4d-4c26-bb07-fc25771cc058');\n",
              "          const dataTable =\n",
              "            await google.colab.kernel.invokeFunction('convertToInteractive',\n",
              "                                                     [key], {});\n",
              "          if (!dataTable) return;\n",
              "\n",
              "          const docLinkHtml = 'Like what you see? Visit the ' +\n",
              "            '<a target=\"_blank\" href=https://colab.research.google.com/notebooks/data_table.ipynb>data table notebook</a>'\n",
              "            + ' to learn more about interactive tables.';\n",
              "          element.innerHTML = '';\n",
              "          dataTable['output_type'] = 'display_data';\n",
              "          await google.colab.output.renderOutput(dataTable, element);\n",
              "          const docLink = document.createElement('div');\n",
              "          docLink.innerHTML = docLinkHtml;\n",
              "          element.appendChild(docLink);\n",
              "        }\n",
              "      </script>\n",
              "    </div>\n",
              "  </div>\n",
              "  "
            ]
          },
          "metadata": {}
        }
      ],
      "source": [
        "print('Analysis of `is_sarcastic` label by news website'); print('--'*30)\n",
        "\n",
        "hf = data[data['article_link'].str.contains('huffingtonpost.com')].shape[0]\n",
        "op = data[data['article_link'].str.contains('theonion.com')].shape[0]\n",
        "\n",
        "is_sarcastic_hf = data.loc[(data['article_link'].str.contains('huffingtonpost.com')) & (data['is_sarcastic'] == 1)].shape[0]\n",
        "not_sarcastic_hf = data.loc[(data['article_link'].str.contains('huffingtonpost.com')) & (data['is_sarcastic'] == 0)].shape[0]\n",
        "\n",
        "is_sarcastic_op = data.loc[(data['article_link'].str.contains('theonion.com')) & (data['is_sarcastic'] == 1)].shape[0]\n",
        "not_sarcastic_op = data.loc[(data['article_link'].str.contains('theonion.com')) & (data['is_sarcastic'] == 0)].shape[0]\n",
        "\n",
        "display(pd.DataFrame([[is_sarcastic_hf, is_sarcastic_op], [not_sarcastic_hf, not_sarcastic_op]], \n",
        "                     columns = ['huffingtonpost', 'theonion'], index = ['Sarcastic', 'Non-sarcastic']))"
      ]
    },
    {
      "cell_type": "code",
      "execution_count": null,
      "metadata": {
        "id": "3U5VxSEkuygG",
        "colab": {
          "base_uri": "https://localhost:8080/"
        },
        "outputId": "989a4915-46fb-43b1-9a4c-c7b00b24b383"
      },
      "outputs": [
        {
          "output_type": "stream",
          "name": "stdout",
          "text": [
            "------------------------------------------------------------\n",
            "Checking 5 random headlines and labels from the data\n",
            "------------------------------------------------------------\n",
            "Headline: i told my trump-supporting mom i'm having a biracial baby. here's what happened.\n",
            "label: 0\n",
            "\n",
            "Headline: mom thinks you'd enjoy restaurant she can't remember name of right now\n",
            "label: 1\n",
            "\n",
            "Headline: as more borders close, families rush for refuge\n",
            "label: 0\n",
            "\n",
            "Headline: new hallmark line addresses israeli-palestinian conflict\n",
            "label: 1\n",
            "\n",
            "Headline: shirtless mike huckabee spends entire debate seated in rickety rocking chair\n",
            "label: 1\n",
            "\n"
          ]
        }
      ],
      "source": [
        "# Checking 5 random headlines and labels from the data\n",
        "print('--'*30); print('Checking 5 random headlines and labels from the data'); print('--'*30)\n",
        "rands = random.sample(range(1, data.shape[0]), 5)\n",
        "headlines, labels = list(data.loc[rands, 'headline']), list(data.loc[rands, 'is_sarcastic'])\n",
        "\n",
        "_ = [print(f'Headline: {head}\\nlabel: {label}\\n') for head, label in zip(headlines, labels)]"
      ]
    },
    {
      "cell_type": "code",
      "execution_count": null,
      "metadata": {
        "id": "Kd6KB7YoPpM-",
        "colab": {
          "base_uri": "https://localhost:8080/",
          "height": 752
        },
        "outputId": "69f6f1e5-ab73-4e11-c1a1-37e843a33ff2"
      },
      "outputs": [
        {
          "output_type": "stream",
          "name": "stdout",
          "text": [
            "------------------------------------------------------------\n",
            "Checking 5 random headlines and labels from the data where the length of headline is > 100\n",
            "------------------------------------------------------------\n",
            "Headline: trump vindicated after rest of leaked recording reveals him urging racial reconciliation, calling for interfaith dialogue, condemning gender inequality\n",
            "label: 1\n",
            "\n",
            "Headline: mackenzie bezos gains huge win in divorce settlement after successfully retaining no stake in 'washington post'\n",
            "label: 1\n",
            "\n",
            "Headline: alex jones struggling to convince skeptical police after witnessing actual murder in neighbor's backyard\n",
            "label: 1\n",
            "\n",
            "Headline: mike pence struggling to reckon with vision of prophet muhammad revealing that vp destined to become next president\n",
            "label: 1\n",
            "\n",
            "Headline: stumbling drunk chuck grassley warns kavanaugh accuser she can testify all she wants but no one's going to believe her\n",
            "label: 1\n",
            "\n",
            "------------------------------------------------------------\n",
            "Distributon of label where the length of headline is > 100\n",
            "------------------------------------------------------------\n"
          ]
        },
        {
          "output_type": "display_data",
          "data": {
            "text/plain": [
              "<Figure size 720x432 with 1 Axes>"
            ],
            "image/png": "[encoded data removed]"
          },
          "metadata": {}
        }
      ],
      "source": [
        "# Checking 5 random headlines and labels from the data where the length of headline is > 100\n",
        "print('--'*30); print('Checking 5 random headlines and labels from the data where the length of headline is > 100'); print('--'*30)\n",
        "indexes = list(data.loc[data['headline'].str.len() > 100, 'headline'].index)\n",
        "rands = random.sample(indexes, 5)\n",
        "headlines, labels = list(data.loc[rands, 'headline']), list(data.loc[rands, 'is_sarcastic'])\n",
        "\n",
        "_ = [print(f'Headline: {head}\\nlabel: {label}\\n') for head, label in zip(headlines, labels)]\n",
        "\n",
        "print('--'*30); print('Distributon of label where the length of headline is > 100'); print('--'*30)\n",
        "_ = data.loc[indexes, 'is_sarcastic'].value_counts().plot(kind = 'pie', autopct = '%.0f%%', labels = ['Sarcastic', 'Non-sarcastic'], figsize = (10, 6))"
      ]
    },
    {
      "cell_type": "markdown",
      "metadata": {
        "id": "_GfOfMP0OdIR"
      },
      "source": [
        "**Observation**\n"
      ]
    },
    {
      "cell_type": "markdown",
      "metadata": {
        "id": "z6pXf7A78E2H"
      },
      "source": [
        "Drop `article_link` from dataset."
      ]
    },
    {
      "cell_type": "code",
      "execution_count": null,
      "metadata": {
        "id": "VLSVsvrlP9qD",
        "colab": {
          "base_uri": "https://localhost:8080/"
        },
        "outputId": "5023f529-ce30-4a7b-a61a-87958fcb1ccf"
      },
      "outputs": [
        {
          "output_type": "stream",
          "name": "stdout",
          "text": [
            "Dropping `article_link` from the data\n",
            "------------------------------------------------------------\n"
          ]
        }
      ],
      "source": [
        "print('Dropping `article_link` from the data'); print('--'*30)\n",
        "data.drop('article_link', axis = 1, inplace = True)"
      ]
    },
    {
      "cell_type": "markdown",
      "metadata": {
        "id": "jp-4qfCAD6df"
      },
      "source": [
        "Data Preprocessing\n"
      ]
    },
    {
      "cell_type": "code",
      "execution_count": null,
      "metadata": {
        "id": "Oz4LGa55uPCa",
        "colab": {
          "base_uri": "https://localhost:8080/",
          "height": 133
        },
        "outputId": "4d66e396-9011-40d3-c1c0-1e14d33ecb6d"
      },
      "outputs": [
        {
          "output_type": "error",
          "ename": "SyntaxError",
          "evalue": "ignored",
          "traceback": [
            "\u001b[0;36m  File \u001b[0;32m\"<ipython-input-21-8775c5c5a59c>\"\u001b[0;36m, line \u001b[0;32m9\u001b[0m\n\u001b[0;31m    data['cleaned_headline'] = data['cleaned_headline'].apply(lambda x: x = x.translate(None, punctuation))\u001b[0m\n\u001b[0m                                                             ^\u001b[0m\n\u001b[0;31mSyntaxError\u001b[0m\u001b[0;31m:\u001b[0m lambda cannot contain assignment\n"
          ]
        }
      ],
      "source": [
        "print('--'*30); print('Converting headlines to lower case')\n",
        "data['cleaned_headline'] = data['headline'].apply(lambda x : x.lower())\n",
        "\n",
        "print('Replacing apostrophes to the standard lexicons')\n",
        "data['cleaned_headline'] = data['cleaned_headline'].apply(lambda x : x.replace(\"'\",\"\"))\n",
        "\n",
        "print('Removing punctuations')\n",
        "punctuation = '!?,.:;\"\\')(_-'\n",
        "data['cleaned_headline'] = data['cleaned_headline'].apply(lambda x: x.translate(None, punctuation))\n",
        "\n",
        "print('Applying Lemmatizer')\n",
        "data['cleaned_headline'] = data['cleaned_headline'].apply(lambda x: lem(x))\n",
        "\n",
        "print('Removing multiple spaces between words')\n",
        "data['cleaned_headline'] = data['cleaned_headline'].apply(lambda x: re.sub(' +', ' ', x))\n",
        "\n",
        "# print('Removing stopwords')\n",
        "# data['cleaned_headline'] = data['cleaned_headline'].apply(lambda x: remove_stopwords(x))\n",
        "print('--'*30)"
      ]
    },
    {
      "cell_type": "markdown",
      "metadata": {
        "id": "D0h6IOxU8OdH"
      },
      "source": [
        "Get the Length of each line and find the maximum length\n",
        "\n",
        "As different lines are of different length. We need to pad the our sequences using the max length."
      ]
    },
    {
      "cell_type": "code",
      "execution_count": null,
      "metadata": {
        "id": "BRAsChZAQmr3"
      },
      "outputs": [],
      "source": [
        "print('--'*40); print('Get the length of each line, find the maximum length and print the maximum length line'); \n",
        "print('Length of line ranges from 7 to 241.'); print('--'*40)\n",
        "# Get length of each line\n",
        "data['line_length'] = data['cleaned_headline'].str.len()\n",
        "\n",
        "print('Minimum line length: {}'.format(data['line_length'].min()))\n",
        "print('Maximum line length: {}'.format(data['line_length'].max()))\n",
        "print('Line with maximum length: {}'.format(data[data['line_length'] == data['line_length'].max()]['cleaned_headline'].values[0]))"
      ]
    },
    {
      "cell_type": "code",
      "execution_count": null,
      "metadata": {
        "id": "278SpH4NykbV"
      },
      "outputs": [],
      "source": [
        "print('--'*40); print('Get the number of words, find the maximum number of words and print the maximum number of words'); \n",
        "print('Number of words ranges from 2 to 39.'); print('--'*40)\n",
        "# Get length of each line\n",
        "data['nb_words'] = data['cleaned_headline'].apply(lambda x: len(x.split(' ')))\n",
        "\n",
        "print('Minimum number of words: {}'.format(data['nb_words'].min()))\n",
        "print('Maximum number of words: {}'.format(data['nb_words'].max()))\n",
        "print('Line with maximum number of words: {}'.format(data[data['nb_words'] == data['nb_words'].max()]['cleaned_headline'].values[0]))"
      ]
    },
    {
      "cell_type": "code",
      "execution_count": null,
      "metadata": {
        "id": "HocNTtR-G9Sh"
      },
      "outputs": [],
      "source": [
        "print('Word Cloud of Sarcastic and Non-sarcastic Headlines')\n",
        "data['headline'] = data['headline'].fillna('')\n",
        "sarcastic_headlines = ' '.join(data.loc[data['is_sarcastic'] == 1, 'cleaned_headline'])\n",
        "plot_wordcloud(sarcastic_headlines, title = 'Word Cloud of Sarcastic Headlines')\n",
        "\n",
        "non_sarcastic_headlines = ' '.join(data.loc[data['is_sarcastic'] == 0, 'cleaned_headline'])\n",
        "plot_wordcloud(non_sarcastic_headlines, title = 'Word Cloud of Isn\\'t Sarcastic Headlines')"
      ]
    },
    {
      "cell_type": "markdown",
      "metadata": {
        "id": "VPPd0YuPXi2M"
      },
      "source": [
        "Modelling"
      ]
    },
    {
      "cell_type": "code",
      "execution_count": null,
      "metadata": {
        "id": "z0AXjXu78ciM"
      },
      "outputs": [],
      "source": [
        "print('--'*30); print('Five point summary for number of words')\n",
        "display(data['nb_words'].describe().round(0).astype(int)); \n",
        "\n",
        "print('99% quantilie: {}'.format(data['nb_words'].quantile(0.99)));print('--'*30)"
      ]
    },
    {
      "cell_type": "code",
      "execution_count": null,
      "metadata": {
        "id": "jPw9gAN_EV6m"
      },
      "outputs": [],
      "source": [
        "max_features = 10000\n",
        "maxlen = data['nb_words'].max()\n",
        "embedding_size = 200"
      ]
    },
    {
      "cell_type": "markdown",
      "metadata": {
        "id": "9abSe-bM8fn9"
      },
      "source": [
        "Applying Keras Tokenizer "
      ]
    },
    {
      "cell_type": "code",
      "execution_count": null,
      "metadata": {
        "id": "3GcZSr5n4Djr"
      },
      "outputs": [],
      "source": [
        "tokenizer = Tokenizer(num_words = max_features)\n",
        "tokenizer.fit_on_texts(list(data['cleaned_headline']))"
      ]
    },
    {
      "cell_type": "markdown",
      "metadata": {
        "id": "0Ffi63KsST3P"
      },
      "source": [
        "Define X and y for your model."
      ]
    },
    {
      "cell_type": "code",
      "execution_count": null,
      "metadata": {
        "id": "wnjxBdqmSS4s"
      },
      "outputs": [],
      "source": [
        "X = tokenizer.texts_to_sequences(data['cleaned_headline'])\n",
        "X = pad_sequences(X, maxlen = maxlen)\n",
        "y = np.asarray(data['is_sarcastic'])\n",
        "\n",
        "print(f'Number of Samples: {len(X)}')\n",
        "print(f'Number of Labels: {len(y)}')\n",
        "print(f'\\nFirst headline:\\n{X[0]}\\n\\nLabel of the first headline: {y[0]}')"
      ]
    },
    {
      "cell_type": "markdown",
      "metadata": {
        "id": "WJLyKg-98rH_"
      },
      "source": [
        "Get the Vocabulary size"
      ]
    },
    {
      "cell_type": "code",
      "execution_count": null,
      "metadata": {
        "id": "q-2w0gHEUUIo"
      },
      "outputs": [],
      "source": [
        "# Reserve padding (indexed zero)\n",
        "w2i = tokenizer.word_index\n",
        "vocab_size = len(w2i) + 1\n",
        "print(f'Number of unique tokens: {vocab_size}')"
      ]
    },
    {
      "cell_type": "markdown",
      "metadata": {
        "id": "bUF1TuQa8ux0"
      },
      "source": [
        "Get Glove Word Embeddings"
      ]
    },
    {
      "cell_type": "code",
      "execution_count": null,
      "metadata": {
        "id": "vq5AIfRtMeZh"
      },
      "outputs": [],
      "source": [
        "glove_file = './Data/glove.6B.zip'"
      ]
    },
    {
      "cell_type": "code",
      "execution_count": null,
      "metadata": {
        "id": "DJLX_n2WMecA"
      },
      "outputs": [],
      "source": [
        "#Extract Glove embedding zip file\n",
        "from zipfile import ZipFile\n",
        "with ZipFile(glove_file, 'r') as z:\n",
        "  z.extractall()"
      ]
    },
    {
      "cell_type": "markdown",
      "metadata": {
        "id": "9IuXlu8-U3HG"
      },
      "source": [
        "Get word embeddings using embedding file"
      ]
    },
    {
      "cell_type": "code",
      "execution_count": null,
      "metadata": {
        "id": "elZ-T5aFGZmZ"
      },
      "outputs": [],
      "source": [
        "EMBEDDING_FILE = './glove.6B.200d.txt'\n",
        "\n",
        "embeddings = {}\n",
        "for o in open(EMBEDDING_FILE):\n",
        "    word = o.split(' ')[0]\n",
        "    embd = o.split(' ')[1:]\n",
        "    embd = np.asarray(embd, dtype = 'float32')\n",
        "    embeddings[word] = embd"
      ]
    },
    {
      "cell_type": "markdown",
      "metadata": {
        "id": "bTPxveDmVCrA"
      },
      "source": [
        "Create a weight matrix"
      ]
    },
    {
      "cell_type": "code",
      "execution_count": null,
      "metadata": {
        "id": "xQgOhiywU9nU"
      },
      "outputs": [],
      "source": [
        "# Getting the minimum number of words\n",
        "num_words = min(max_features, vocab_size) + 1\n",
        "\n",
        "embedding_matrix = np.zeros((num_words, embedding_size))\n",
        "for word, i in tokenizer.word_index.items():\n",
        "    if i > max_features: continue\n",
        "    embedding_vector = embeddings.get(word)\n",
        "    if embedding_vector is not None:\n",
        "        embedding_matrix[i] = embedding_vector\n",
        "\n",
        "len(embeddings.values())"
      ]
    },
    {
      "cell_type": "markdown",
      "metadata": {
        "id": "u7IbWuEX82Ra"
      },
      "source": [
        "Create and Compile Model\n"
      ]
    },
    {
      "cell_type": "code",
      "execution_count": null,
      "metadata": {
        "id": "eWaqtvvDkAb7"
      },
      "outputs": [],
      "source": [
        "x_train, x_test, y_train, y_test = train_test_split(X, y, test_size = 0.2, random_state = random_state, shuffle = True)\n",
        "\n",
        "print('---'*20, f'\\nNumber of rows in training dataset: {x_train.shape[0]}')\n",
        "print(f'Number of columns in training dataset: {x_train.shape[1]}')\n",
        "print(f'Number of unique words in training dataset: {len(np.unique(np.hstack(x_train)))}')\n",
        "\n",
        "print('---'*20, f'\\nNumber of rows in test dataset: {x_test.shape[0]}')\n",
        "print(f'Number of columns in test dataset: {x_test.shape[1]}')\n",
        "print(f'Number of unique words in test dataset: {len(np.unique(np.hstack(x_test)))}')"
      ]
    },
    {
      "cell_type": "code",
      "execution_count": null,
      "metadata": {
        "id": "d7jhsSgYXG4l"
      },
      "outputs": [],
      "source": [
        "model = Sequential()\n",
        "model.add(Embedding(num_words, embedding_size, embeddings_initializer = Constant(embedding_matrix), input_length = maxlen, trainable = False))\n",
        "model.add(Bidirectional(LSTM(128, return_sequences = True)))\n",
        "model.add(GlobalMaxPool1D())\n",
        "model.add(Dropout(0.5, input_shape = (256,)))\n",
        "model.add(Dense(128, activation = 'relu'))\n",
        "model.add(Dropout(0.5, input_shape = (128,)))\n",
        "model.add(Dense(64, activation = 'relu'))\n",
        "model.add(Dropout(0.5, input_shape = (64,)))\n",
        "model.add(Dense(1, activation = 'sigmoid'))\n",
        "\n",
        "model.compile(loss = 'binary_crossentropy', optimizer = 'adam', metrics = ['accuracy'])\n",
        "\n",
        "# Adding callbacks\n",
        "es = EarlyStopping(monitor = 'val_loss', mode = 'min', verbose = 1, patience = 10)  \n",
        "mc = ModelCheckpoint('sarcasm_detector.h5', monitor = 'val_loss', mode = 'min', save_best_only = True, verbose = 1)\n",
        "lr_r = ReduceLROnPlateau(monitor = 'val_loss', factor = 0.1, patience = 5),\n",
        "logdir = 'log'; tb = TensorBoard(logdir, histogram_freq = 1)\n",
        "callbacks = [es, mc, lr_r, tb]\n",
        "\n",
        "print(model.summary())"
      ]
    },
    {
      "cell_type": "code",
      "execution_count": null,
      "metadata": {
        "id": "gwChR2EjOGQo"
      },
      "outputs": [],
      "source": [
        "tf.keras.utils.plot_model(model, show_shapes = True)"
      ]
    },
    {
      "cell_type": "markdown",
      "metadata": {
        "id": "IJFMxZwMWoTw"
      },
      "source": [
        "Fitting model"
      ]
    },
    {
      "cell_type": "code",
      "execution_count": null,
      "metadata": {
        "id": "ZpVkajCcWnRK"
      },
      "outputs": [],
      "source": [
        "batch_size = 100\n",
        "epochs = 6\n",
        "\n",
        "h = model.fit(x_train, y_train, epochs = epochs, validation_split = 0.2, batch_size = batch_size, verbose = 2, callbacks = callbacks)"
      ]
    },
    {
      "cell_type": "code",
      "execution_count": null,
      "metadata": {
        "id": "pPQY_LODv_TA"
      },
      "outputs": [],
      "source": [
        "%load_ext tensorboard\n",
        "%tensorboard --logdir log/"
      ]
    },
    {
      "cell_type": "code",
      "execution_count": null,
      "metadata": {
        "id": "oiPzQrNAKuRI"
      },
      "outputs": [],
      "source": [
        "f, (ax1, ax2) = plt.subplots(1, 2, figsize = (15, 7.2))\n",
        "f.suptitle('Monitoring the performance of the model')\n",
        "\n",
        "ax1.plot(h.history['loss'], label = 'Train')\n",
        "ax1.plot(h.history['val_loss'], label = 'Test')\n",
        "ax1.set_title('Model Loss')\n",
        "ax1.legend(['Train', 'Test'])\n",
        "\n",
        "ax2.plot(h.history['accuracy'], label = 'Train')\n",
        "ax2.plot(h.history['val_accuracy'], label = 'Test')\n",
        "ax2.set_title('Model Accuracy')\n",
        "ax2.legend(['Train', 'Test'])\n",
        "\n",
        "plt.show()"
      ]
    },
    {
      "cell_type": "code",
      "execution_count": null,
      "metadata": {
        "id": "iHBJxF2rTFpw"
      },
      "outputs": [],
      "source": [
        "# Evaluate the model\n",
        "loss, accuracy = model.evaluate(x_test, y_test, verbose = 0)\n",
        "print('Overall Accuracy: {}'.format(round(accuracy * 100, 0)))"
      ]
    },
    {
      "cell_type": "code",
      "execution_count": null,
      "metadata": {
        "id": "SnkCCGbblYPr"
      },
      "outputs": [],
      "source": [
        "y_pred = (model.predict(x_test) > 0.5).astype('int32')\n",
        "print(f'Classification Report:\\n{classification_report(y_pred, y_test)}')"
      ]
    },
    {
      "cell_type": "code",
      "execution_count": null,
      "metadata": {
        "id": "Dv7thTTKl5nX"
      },
      "outputs": [],
      "source": [
        "print('--'*30); print('Confusion Matrix')\n",
        "cm = confusion_matrix(y_test, y_pred)\n",
        "cm = pd.DataFrame(cm , index = ['Non-sarcastic', 'Sarcastic'] , columns = ['Non-sarcastic','Sarcastic'])\n",
        "display(cm); print('--'*30)\n",
        "\n",
        "plt.figure(figsize = (8, 5))\n",
        "_ = sns.heatmap(cm, cmap= 'Blues', linecolor = 'black' , linewidth = 1 , annot = True, \n",
        "            fmt = '' , xticklabels = ['Non-sarcastic', 'Sarcastic'], \n",
        "            yticklabels = ['Non-sarcastic', 'Sarcastic']).set_title('Confusion Matrix')"
      ]
    },
    {
      "cell_type": "code",
      "execution_count": null,
      "metadata": {
        "id": "0ogPGTB7IfOG"
      },
      "outputs": [],
      "source": [
        "print('Evaluate model on sample sarcastic lines'); print('--'*30)\n",
        "statements = ['Are you always so stupid or is today a special ocassion?', #Sarcasm\n",
        "              'I feel so miserable without you, it\\'s almost like having you here.', #Sarcasm\n",
        "              'If you find me offensive. Then I suggest you quit finding me.', #Sarcasm\n",
        "              'If I wanted to kill myself I would climb your ego and jump to your IQ.', #Sarcasm\n",
        "              'Amphibious pitcher makes debut', #Sarcasm\n",
        "              'It\\'s okay if you don\\'t like me. Not everyone has good taste.' #Sarcasm\n",
        "              ]\n",
        "\n",
        "for statement in statements:\n",
        "  statement = statement.lower()\n",
        "  statement = replace_words(statement)\n",
        "  statement = remove_punctuation(statement)\n",
        "  statement = lem(statement)\n",
        "  statement = re.sub(' +', ' ', statement)\n",
        "\n",
        "  headline = tokenizer.texts_to_sequences(statement)\n",
        "  headline = pad_sequences(headline, maxlen = maxlen, dtype = 'int32', value = 0)\n",
        "\n",
        "  sentiment = (model.predict(headline) > 0.5).astype('int32')\n",
        "  if(np.argmax(sentiment) == 0):\n",
        "      print(f'`{statement}` is a Non-sarcastic statement.')\n",
        "  elif (np.argmax(sentiment) == 1):\n",
        "      print(f'`{statement}` is a Sarcastic statement.')"
      ]
    }
  ],
  "metadata": {
    "accelerator": "GPU",
    "colab": {
      "collapsed_sections": [],
      "name": "NLP_Project2 - Part2.ipynb",
      "provenance": []
    },
    "kernelspec": {
      "display_name": "Python 3",
      "language": "python",
      "name": "python3"
    },
    "language_info": {
      "codemirror_mode": {
        "name": "ipython",
        "version": 3
      },
      "file_extension": ".py",
      "mimetype": "text/x-python",
      "name": "python",
      "nbconvert_exporter": "python",
      "pygments_lexer": "ipython3",
      "version": "3.7.6"
    }
  },
  "nbformat": 4,
  "nbformat_minor": 0
}